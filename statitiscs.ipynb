{
 "cells": [
  {
   "cell_type": "code",
   "execution_count": 1,
   "id": "e5bf0426-8775-403a-b6b4-68a8261cd101",
   "metadata": {},
   "outputs": [],
   "source": [
    "# question1"
   ]
  },
  {
   "cell_type": "code",
   "execution_count": 2,
   "id": "9c9057e2-0712-43b3-a921-f7bc3587b011",
   "metadata": {},
   "outputs": [
    {
     "data": {
      "text/plain": [
       "'Statistics is the branch of mathematics and science that deals with collecting, organizing, analyzing, interpreting, and presenting data. It involves the study of data patterns, distributions, and relationships to make informed decisions and draw meaningful conclusions.'"
      ]
     },
     "execution_count": 2,
     "metadata": {},
     "output_type": "execute_result"
    }
   ],
   "source": [
    "\"\"\"Statistics is the branch of mathematics and science that deals with collecting, organizing, analyzing, interpreting, and presenting data. It involves the study of data patterns, distributions, and relationships to make informed decisions and draw meaningful conclusions.\"\"\""
   ]
  },
  {
   "cell_type": "code",
   "execution_count": 3,
   "id": "7aca3fe2-86c2-4d7f-be5b-b06da08491ac",
   "metadata": {},
   "outputs": [],
   "source": [
    "# question2"
   ]
  },
  {
   "cell_type": "code",
   "execution_count": 4,
   "id": "b8bb73b2-7534-4780-92b8-22e78f5edf31",
   "metadata": {},
   "outputs": [
    {
     "data": {
      "text/plain": [
       "'Descriptive Statistics: Descriptive statistics are used to summarize and describe data. Examples include calculating measures like mean, median, and standard deviation to provide insights into the central tendency and variability of a dataset.\\nInferential Statistics: Inferential statistics involve making predictions or inferences about a population based on a sample of data. For example, using hypothesis testing to determine if a new drug is effective based on clinical trial data.'"
      ]
     },
     "execution_count": 4,
     "metadata": {},
     "output_type": "execute_result"
    }
   ],
   "source": [
    "\"\"\"Descriptive Statistics: Descriptive statistics are used to summarize and describe data. Examples include calculating measures like mean, median, and standard deviation to provide insights into the central tendency and variability of a dataset.\n",
    "Inferential Statistics: Inferential statistics involve making predictions or inferences about a population based on a sample of data. For example, using hypothesis testing to determine if a new drug is effective based on clinical trial data.\"\"\""
   ]
  },
  {
   "cell_type": "code",
   "execution_count": 5,
   "id": "88df566c-ae3f-416f-9619-37a9614a961a",
   "metadata": {},
   "outputs": [],
   "source": [
    "# question3"
   ]
  },
  {
   "cell_type": "code",
   "execution_count": 6,
   "id": "3f770ced-13ab-445a-bdd9-2013a79d76da",
   "metadata": {},
   "outputs": [
    {
     "data": {
      "text/plain": [
       "'Nominal Data: Nominal data are categories or labels that represent distinct groups with no inherent order. Examples include gender (male, female) or types of fruits (apple, banana).\\nOrdinal Data: Ordinal data have categories with a meaningful order but lack a precise numerical meaning between categories. Examples include survey responses (e.g., \"very dissatisfied,\" \"somewhat dissatisfied,\" \"neutral,\" \"satisfied,\" \"very satisfied\").\\nInterval Data: Interval data have ordered categories with equal intervals between them. They have no true zero point. An example is temperature in Celsius or Fahrenheit.\\nRatio Data: Ratio data have ordered categories with equal intervals, and they have a true zero point, meaning zero indicates the absence of the measured quantity. Examples include age, height, weight, and income.'"
      ]
     },
     "execution_count": 6,
     "metadata": {},
     "output_type": "execute_result"
    }
   ],
   "source": [
    "\"\"\"Nominal Data: Nominal data are categories or labels that represent distinct groups with no inherent order. Examples include gender (male, female) or types of fruits (apple, banana).\n",
    "Ordinal Data: Ordinal data have categories with a meaningful order but lack a precise numerical meaning between categories. Examples include survey responses (e.g., \"very dissatisfied,\" \"somewhat dissatisfied,\" \"neutral,\" \"satisfied,\" \"very satisfied\").\n",
    "Interval Data: Interval data have ordered categories with equal intervals between them. They have no true zero point. An example is temperature in Celsius or Fahrenheit.\n",
    "Ratio Data: Ratio data have ordered categories with equal intervals, and they have a true zero point, meaning zero indicates the absence of the measured quantity. Examples include age, height, weight, and income.\"\"\""
   ]
  },
  {
   "cell_type": "code",
   "execution_count": 7,
   "id": "42913b4b-14f9-42ab-be22-56d9fe20a093",
   "metadata": {},
   "outputs": [],
   "source": [
    "# question4"
   ]
  },
  {
   "cell_type": "code",
   "execution_count": 8,
   "id": "f980de5f-78c4-419e-821b-ee1475b18233",
   "metadata": {},
   "outputs": [
    {
     "data": {
      "text/plain": [
       "\"i) Grading in exam: A+, A, B+, B, C+, C, D, E\\n\\nQualitative Data: This dataset represents qualitative data because it consists of categories or labels (grades) that do not have a numerical value. It's a categorical variable.\\n(ii) Colour of mangoes: yellow, green, orange, red\\n\\nQualitative Data: The color of mangoes dataset is qualitative, as it consists of categories or labels for different colors of mangoes. It's also a categorical variable.\\n(iii) Height data of a class: [178.9, 179, 179.5, 176, 177.2, 178.3, 175.8,...]\\n\\nQuantitative Data: This dataset represents quantitative data because it consists of numerical values (height measurements) that can be measured and subjected to mathematical operations. It's a continuous numerical variable.\\n(iv) Number of mangoes exported by a farm: [500, 600, 478, 672, ...]\\n\\nQuantitative Data: The number of mangoes exported dataset is quantitative, as it consists of numerical values that represent the count of mangoes exported. It's a discrete numerical variable.\\nIn summary:\\n\\nDatasets (i) and (ii) are examples of qualitative data (categorical variables).\\nDatasets (iii) and (iv) are examples of quantitative data (numerical variables).\""
      ]
     },
     "execution_count": 8,
     "metadata": {},
     "output_type": "execute_result"
    }
   ],
   "source": [
    "\"\"\"i) Grading in exam: A+, A, B+, B, C+, C, D, E\n",
    "\n",
    "Qualitative Data: This dataset represents qualitative data because it consists of categories or labels (grades) that do not have a numerical value. It's a categorical variable.\n",
    "(ii) Colour of mangoes: yellow, green, orange, red\n",
    "\n",
    "Qualitative Data: The color of mangoes dataset is qualitative, as it consists of categories or labels for different colors of mangoes. It's also a categorical variable.\n",
    "(iii) Height data of a class: [178.9, 179, 179.5, 176, 177.2, 178.3, 175.8,...]\n",
    "\n",
    "Quantitative Data: This dataset represents quantitative data because it consists of numerical values (height measurements) that can be measured and subjected to mathematical operations. It's a continuous numerical variable.\n",
    "(iv) Number of mangoes exported by a farm: [500, 600, 478, 672, ...]\n",
    "\n",
    "Quantitative Data: The number of mangoes exported dataset is quantitative, as it consists of numerical values that represent the count of mangoes exported. It's a discrete numerical variable.\n",
    "In summary:\n",
    "\n",
    "Datasets (i) and (ii) are examples of qualitative data (categorical variables).\n",
    "Datasets (iii) and (iv) are examples of quantitative data (numerical variables).\"\"\""
   ]
  },
  {
   "cell_type": "code",
   "execution_count": 9,
   "id": "024e91ed-b1b0-4473-b876-fc3c2e470451",
   "metadata": {},
   "outputs": [],
   "source": [
    "# question5"
   ]
  },
  {
   "cell_type": "code",
   "execution_count": 10,
   "id": "38857da1-4aca-49f9-b812-ce8a04524246",
   "metadata": {},
   "outputs": [
    {
     "data": {
      "text/plain": [
       "\"Levels of measurement, also known as scales of measurement, describe the nature and properties of data and determine the types of statistical analysis that can be applied.\\nNominal Level: This level represents categories with no inherent order. Example: Eye color (blue, brown, green).\\nOrdinal Level: Categories have a meaningful order, but the differences between them are not consistent or meaningful. Example: Education level (high school, bachelor's, master's).\\nInterval Level: Categories have a meaningful order, and the intervals between them are equal, but there is no true zero point. Example: Temperature in Celsius.\\nRatio Level: Categories have a meaningful order, equal intervals, and a true zero point. Example: Height in centimeters.\""
      ]
     },
     "execution_count": 10,
     "metadata": {},
     "output_type": "execute_result"
    }
   ],
   "source": [
    "\"\"\"Levels of measurement, also known as scales of measurement, describe the nature and properties of data and determine the types of statistical analysis that can be applied.\n",
    "Nominal Level: This level represents categories with no inherent order. Example: Eye color (blue, brown, green).\n",
    "Ordinal Level: Categories have a meaningful order, but the differences between them are not consistent or meaningful. Example: Education level (high school, bachelor's, master's).\n",
    "Interval Level: Categories have a meaningful order, and the intervals between them are equal, but there is no true zero point. Example: Temperature in Celsius.\n",
    "Ratio Level: Categories have a meaningful order, equal intervals, and a true zero point. Example: Height in centimeters.\"\"\""
   ]
  },
  {
   "cell_type": "code",
   "execution_count": 11,
   "id": "1d174717-5807-430f-8bcc-9f527a5dd1cc",
   "metadata": {},
   "outputs": [],
   "source": [
    "# question6"
   ]
  },
  {
   "cell_type": "code",
   "execution_count": 12,
   "id": "621400fd-d76d-4f83-a755-2e9de7178365",
   "metadata": {},
   "outputs": [
    {
     "data": {
      "text/plain": [
       "'Understanding the level of measurement is crucial because it determines the appropriate statistical techniques and operations that can be applied to the data. Using the wrong analysis can lead to incorrect conclusions. For example, if you have ordinal data like education levels, you can calculate the mode or median but not the mean because the intervals between categories are not equally meaningful.'"
      ]
     },
     "execution_count": 12,
     "metadata": {},
     "output_type": "execute_result"
    }
   ],
   "source": [
    "\"\"\"Understanding the level of measurement is crucial because it determines the appropriate statistical techniques and operations that can be applied to the data. Using the wrong analysis can lead to incorrect conclusions. For example, if you have ordinal data like education levels, you can calculate the mode or median but not the mean because the intervals between categories are not equally meaningful.\"\"\""
   ]
  },
  {
   "cell_type": "code",
   "execution_count": 13,
   "id": "13e7d25d-15c2-43fc-97e7-7063dd1df721",
   "metadata": {},
   "outputs": [],
   "source": [
    "# question7"
   ]
  },
  {
   "cell_type": "code",
   "execution_count": 14,
   "id": "9fd9d28a-d38b-4e27-be92-1d6d7abfa5c6",
   "metadata": {},
   "outputs": [
    {
     "data": {
      "text/plain": [
       "'Nominal data represent categories with no inherent order or ranking, while ordinal data represent categories with a meaningful order or ranking. Nominal data only indicate differences in category membership, while ordinal data convey information about the relative ranking or position of categories.'"
      ]
     },
     "execution_count": 14,
     "metadata": {},
     "output_type": "execute_result"
    }
   ],
   "source": [
    "\"\"\"Nominal data represent categories with no inherent order or ranking, while ordinal data represent categories with a meaningful order or ranking. Nominal data only indicate differences in category membership, while ordinal data convey information about the relative ranking or position of categories.\"\"\""
   ]
  },
  {
   "cell_type": "code",
   "execution_count": 15,
   "id": "2ce00c61-0ca2-4f35-b232-e3283c094263",
   "metadata": {},
   "outputs": [],
   "source": [
    "# question8"
   ]
  },
  {
   "cell_type": "code",
   "execution_count": 16,
   "id": "2ec7414d-6ae0-4a61-947d-51f4b738889d",
   "metadata": {},
   "outputs": [
    {
     "data": {
      "text/plain": [
       "\"A box plot (box-and-whisker plot) is commonly used to display data in terms of its range. It provides a visual representation of the data's minimum, maximum, quartiles, and potential outliers.\""
      ]
     },
     "execution_count": 16,
     "metadata": {},
     "output_type": "execute_result"
    }
   ],
   "source": [
    "\"\"\"A box plot (box-and-whisker plot) is commonly used to display data in terms of its range. It provides a visual representation of the data's minimum, maximum, quartiles, and potential outliers.\"\"\""
   ]
  },
  {
   "cell_type": "code",
   "execution_count": 17,
   "id": "d148665b-219c-493c-8749-e86e3f142928",
   "metadata": {},
   "outputs": [],
   "source": [
    "# question9"
   ]
  },
  {
   "cell_type": "code",
   "execution_count": 18,
   "id": "b03eb48d-0357-47d8-8949-4a5e11744c51",
   "metadata": {},
   "outputs": [
    {
     "data": {
      "text/plain": [
       "\"Descriptive Statistics: Descriptive statistics involve summarizing and describing data. Examples include calculating the mean, median, and standard deviation of exam scores for a class to understand the class's performance.\\nInferential Statistics: Inferential statistics are used to make predictions or draw conclusions about a population based on a sample. For example, conducting a hypothesis test to determine if a new teaching method leads to significantly better exam scores across all schools in a district.\""
      ]
     },
     "execution_count": 18,
     "metadata": {},
     "output_type": "execute_result"
    }
   ],
   "source": [
    "\"\"\"Descriptive Statistics: Descriptive statistics involve summarizing and describing data. Examples include calculating the mean, median, and standard deviation of exam scores for a class to understand the class's performance.\n",
    "Inferential Statistics: Inferential statistics are used to make predictions or draw conclusions about a population based on a sample. For example, conducting a hypothesis test to determine if a new teaching method leads to significantly better exam scores across all schools in a district.\"\"\""
   ]
  },
  {
   "cell_type": "code",
   "execution_count": 19,
   "id": "c114cffa-22e9-44ff-9383-24647caa2e6e",
   "metadata": {},
   "outputs": [],
   "source": [
    "# question10"
   ]
  },
  {
   "cell_type": "code",
   "execution_count": 20,
   "id": "a72662c8-9c76-435b-b468-ff725f9bb2cc",
   "metadata": {},
   "outputs": [
    {
     "data": {
      "text/plain": [
       "\"Measures of Central Tendency:\\nMean: The mean (average) is the sum of all data values divided by the number of data points. It represents the center of the data distribution.\\nMedian: The median is the middle value when data is ordered. It's less sensitive to outliers than the mean.\\nMode: The mode is the most frequently occurring value in a dataset.\\nMeasures of Variability:\\nRange: The range is the difference between the maximum and minimum values in a dataset, providing a simple measure of spread.\\nVariance: Variance measures the average squared difference between each data point and the mean. It quantifies the spread of data.\\nStandard Deviation: The standard deviation is the square root of the variance. It provides a measure of data dispersion that is in the same units as the data.\""
      ]
     },
     "execution_count": 20,
     "metadata": {},
     "output_type": "execute_result"
    }
   ],
   "source": [
    "\"\"\"Measures of Central Tendency:\n",
    "Mean: The mean (average) is the sum of all data values divided by the number of data points. It represents the center of the data distribution.\n",
    "Median: The median is the middle value when data is ordered. It's less sensitive to outliers than the mean.\n",
    "Mode: The mode is the most frequently occurring value in a dataset.\n",
    "Measures of Variability:\n",
    "Range: The range is the difference between the maximum and minimum values in a dataset, providing a simple measure of spread.\n",
    "Variance: Variance measures the average squared difference between each data point and the mean. It quantifies the spread of data.\n",
    "Standard Deviation: The standard deviation is the square root of the variance. It provides a measure of data dispersion that is in the same units as the data.\"\"\""
   ]
  },
  {
   "cell_type": "code",
   "execution_count": null,
   "id": "7cf68b69-a918-4b11-98c0-192f8ffde93a",
   "metadata": {},
   "outputs": [],
   "source": []
  }
 ],
 "metadata": {
  "kernelspec": {
   "display_name": "Python 3 (ipykernel)",
   "language": "python",
   "name": "python3"
  },
  "language_info": {
   "codemirror_mode": {
    "name": "ipython",
    "version": 3
   },
   "file_extension": ".py",
   "mimetype": "text/x-python",
   "name": "python",
   "nbconvert_exporter": "python",
   "pygments_lexer": "ipython3",
   "version": "3.10.8"
  }
 },
 "nbformat": 4,
 "nbformat_minor": 5
}
