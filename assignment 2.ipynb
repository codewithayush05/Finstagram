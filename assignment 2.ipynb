{
 "cells": [
  {
   "cell_type": "markdown",
   "id": "e0aaa44a-d610-4723-9072-255ee2c4ac4c",
   "metadata": {},
   "source": [
    "question 1"
   ]
  },
  {
   "cell_type": "code",
   "execution_count": 2,
   "id": "e2110cdf-435f-47dd-81f3-799bcf0cf596",
   "metadata": {},
   "outputs": [],
   "source": [
    "#This is a single line comment"
   ]
  },
  {
   "cell_type": "code",
   "execution_count": 3,
   "id": "ff44b447-d567-44fd-8e27-0f88cc18e3f3",
   "metadata": {},
   "outputs": [
    {
     "data": {
      "text/plain": [
       "'this is a multiple line comment for\\nusing a multiple line'"
      ]
     },
     "execution_count": 3,
     "metadata": {},
     "output_type": "execute_result"
    }
   ],
   "source": [
    "'''this is a multiple line comment for\n",
    "using a multiple line'''"
   ]
  },
  {
   "cell_type": "markdown",
   "id": "8541e89f-07a0-4317-9c09-5986b2a48acf",
   "metadata": {},
   "source": [
    "question 2"
   ]
  },
  {
   "cell_type": "code",
   "execution_count": 5,
   "id": "2559573a-ea26-436f-b2dd-1c3c7cf77bb8",
   "metadata": {},
   "outputs": [],
   "source": [
    "# int\n",
    "x = 10\n",
    "\n",
    "# string\n",
    "y = \"John Doe\"\n",
    "\n",
    "# float\n",
    "z = 3.14\n",
    "\n",
    "#boolean\n",
    "student = True\n",
    "\n",
    "#complex\n",
    "a = 3+5j"
   ]
  },
  {
   "cell_type": "markdown",
   "id": "b68c8b83-993a-405f-91e1-1f2937db3d08",
   "metadata": {},
   "source": [
    "question 3"
   ]
  },
  {
   "cell_type": "code",
   "execution_count": 6,
   "id": "1a910742-fee3-48a2-a7ef-32f7a5f18534",
   "metadata": {},
   "outputs": [],
   "source": [
    "#string to int\n",
    "x=\"5\" #str\n",
    "y=int(x)"
   ]
  },
  {
   "cell_type": "code",
   "execution_count": 7,
   "id": "3428ac19-2ea1-431c-81cb-684fc4c37806",
   "metadata": {},
   "outputs": [
    {
     "data": {
      "text/plain": [
       "5"
      ]
     },
     "execution_count": 7,
     "metadata": {},
     "output_type": "execute_result"
    }
   ],
   "source": [
    "y"
   ]
  },
  {
   "cell_type": "code",
   "execution_count": 8,
   "id": "c088ca44-25eb-4ce4-a6f4-a730769fe944",
   "metadata": {},
   "outputs": [],
   "source": [
    "# integer to a string\n",
    "a = 1000\n",
    "b = str(a)\n",
    "\n",
    "# float to an integer\n",
    "c = 900.99\n",
    "d = int(c)\n",
    "\n",
    "# boolean to a string\n",
    "e = True\n",
    "f = str(e)"
   ]
  },
  {
   "cell_type": "code",
   "execution_count": 9,
   "id": "fa00c983-874b-4d77-8f67-202653fc9e23",
   "metadata": {},
   "outputs": [
    {
     "data": {
      "text/plain": [
       "'1000'"
      ]
     },
     "execution_count": 9,
     "metadata": {},
     "output_type": "execute_result"
    }
   ],
   "source": [
    "b\n"
   ]
  },
  {
   "cell_type": "code",
   "execution_count": 10,
   "id": "4ab94b92-bebf-45c9-a7f6-c980c8948811",
   "metadata": {},
   "outputs": [
    {
     "data": {
      "text/plain": [
       "900"
      ]
     },
     "execution_count": 10,
     "metadata": {},
     "output_type": "execute_result"
    }
   ],
   "source": [
    "d"
   ]
  },
  {
   "cell_type": "code",
   "execution_count": 11,
   "id": "794e466a-bf36-436b-80b3-8ec1902b8256",
   "metadata": {},
   "outputs": [
    {
     "data": {
      "text/plain": [
       "'True'"
      ]
     },
     "execution_count": 11,
     "metadata": {},
     "output_type": "execute_result"
    }
   ],
   "source": [
    "f"
   ]
  },
  {
   "cell_type": "markdown",
   "id": "94e8f3f1-91e8-4263-9ccb-0d24aa965c0f",
   "metadata": {},
   "source": [
    "question 5"
   ]
  },
  {
   "cell_type": "code",
   "execution_count": 12,
   "id": "a44ebd2c-86a9-4a83-a45c-ef9a152aebfd",
   "metadata": {},
   "outputs": [
    {
     "name": "stdout",
     "output_type": "stream",
     "text": [
      "[2, 3]\n"
     ]
    }
   ],
   "source": [
    "l1 = [1, 2, 3, 4, 5]\n",
    "\n",
    "l2 = l1[1:3]\n",
    "\n",
    "print(l2)"
   ]
  },
  {
   "cell_type": "markdown",
   "id": "1e6f0075-9bef-4341-9964-89a19d9a26a5",
   "metadata": {
    "tags": []
   },
   "source": [
    "question 6"
   ]
  },
  {
   "cell_type": "code",
   "execution_count": 14,
   "id": "d970daf5-941c-4b7a-8bf4-62c4d732c848",
   "metadata": {},
   "outputs": [],
   "source": [
    "z=5+6j"
   ]
  },
  {
   "cell_type": "code",
   "execution_count": 15,
   "id": "361ef5d4-f104-4158-85b6-664884c8c65d",
   "metadata": {},
   "outputs": [
    {
     "data": {
      "text/plain": [
       "6.0"
      ]
     },
     "execution_count": 15,
     "metadata": {},
     "output_type": "execute_result"
    }
   ],
   "source": [
    "z.imag"
   ]
  },
  {
   "cell_type": "code",
   "execution_count": 16,
   "id": "3e52853b-8efa-4bc5-9484-86aefcc6f4e3",
   "metadata": {},
   "outputs": [
    {
     "data": {
      "text/plain": [
       "5.0"
      ]
     },
     "execution_count": 16,
     "metadata": {},
     "output_type": "execute_result"
    }
   ],
   "source": [
    "z.real"
   ]
  },
  {
   "cell_type": "markdown",
   "id": "279f4360-3735-40c2-b653-8bedf658eee4",
   "metadata": {},
   "source": [
    "question 7"
   ]
  },
  {
   "cell_type": "code",
   "execution_count": 17,
   "id": "46bd9a49-7e29-4849-a33d-a136cb684647",
   "metadata": {},
   "outputs": [],
   "source": [
    "age = 25"
   ]
  },
  {
   "cell_type": "markdown",
   "id": "b7aabfe2-5549-4403-a0d7-0df15b67c680",
   "metadata": {},
   "source": [
    "question 8"
   ]
  },
  {
   "cell_type": "code",
   "execution_count": 18,
   "id": "641002aa-92e3-4793-b703-ecc76226e194",
   "metadata": {},
   "outputs": [],
   "source": [
    "price = 9.99"
   ]
  },
  {
   "cell_type": "code",
   "execution_count": 19,
   "id": "2fc39dec-6dfb-4940-962b-7b73c47db372",
   "metadata": {},
   "outputs": [
    {
     "data": {
      "text/plain": [
       "float"
      ]
     },
     "execution_count": 19,
     "metadata": {},
     "output_type": "execute_result"
    }
   ],
   "source": [
    "type(price)"
   ]
  },
  {
   "cell_type": "markdown",
   "id": "8a4af35a-d024-4e43-857b-fb8bf94c9e22",
   "metadata": {},
   "source": [
    "question 9"
   ]
  },
  {
   "cell_type": "code",
   "execution_count": 20,
   "id": "7247a105-31c5-4328-98ce-53db0dbe7244",
   "metadata": {},
   "outputs": [
    {
     "name": "stdout",
     "output_type": "stream",
     "text": [
      "Ayush N patel\n"
     ]
    }
   ],
   "source": [
    "name = \"Ayush N patel\"\n",
    "print(name)"
   ]
  },
  {
   "cell_type": "markdown",
   "id": "2a2e7b29-2676-42e5-831d-8786524a099e",
   "metadata": {},
   "source": [
    "question 10"
   ]
  },
  {
   "cell_type": "code",
   "execution_count": 21,
   "id": "602aacb4-eec3-46a7-8628-d3debc92f1fa",
   "metadata": {},
   "outputs": [
    {
     "data": {
      "text/plain": [
       "'world!'"
      ]
     },
     "execution_count": 21,
     "metadata": {},
     "output_type": "execute_result"
    }
   ],
   "source": [
    "string = \"Hello world!\"\n",
    "string[6::1]"
   ]
  },
  {
   "cell_type": "markdown",
   "id": "667de318-dc2f-494d-873a-b309ce30907d",
   "metadata": {},
   "source": [
    "question 11"
   ]
  },
  {
   "cell_type": "code",
   "execution_count": null,
   "id": "17bef71b-dce4-4cbb-bb66-77135a0f90d6",
   "metadata": {},
   "outputs": [],
   "source": [
    "is_student = True"
   ]
  }
 ],
 "metadata": {
  "kernelspec": {
   "display_name": "Python 3 (ipykernel)",
   "language": "python",
   "name": "python3"
  },
  "language_info": {
   "codemirror_mode": {
    "name": "ipython",
    "version": 3
   },
   "file_extension": ".py",
   "mimetype": "text/x-python",
   "name": "python",
   "nbconvert_exporter": "python",
   "pygments_lexer": "ipython3",
   "version": "3.10.8"
  }
 },
 "nbformat": 4,
 "nbformat_minor": 5
}
