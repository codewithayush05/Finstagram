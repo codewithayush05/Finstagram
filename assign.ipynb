{
 "cells": [
  {
   "cell_type": "code",
   "execution_count": 1,
   "id": "47fc5456-e7e3-43f7-9619-e34333606e57",
   "metadata": {},
   "outputs": [],
   "source": [
    "# question 1 A class is a blueprint or template for creating objects and object is instance of class"
   ]
  },
  {
   "cell_type": "code",
   "execution_count": 2,
   "id": "bb6c9cca-46f7-40f8-861e-5627d3bc2441",
   "metadata": {},
   "outputs": [],
   "source": [
    "class Car:\n",
    "    def __init__(self, make, model):\n",
    "        self.make = make\n",
    "        self.model = model\n",
    "\n",
    "my_car = Car(\"Toyota\", \"Camry\")\n"
   ]
  },
  {
   "cell_type": "code",
   "execution_count": 3,
   "id": "96fb5d44-0b75-4f3a-b3cb-6d11056c5428",
   "metadata": {},
   "outputs": [],
   "source": [
    "# question 2 Four Pillars of OOPs:\n",
    " # Encapsulation\n",
    "# Abstraction\n",
    "# Inheritance\n",
    "# Polymorphism"
   ]
  },
  {
   "cell_type": "code",
   "execution_count": 4,
   "id": "51447eb0-b1de-4808-981c-95e913a68408",
   "metadata": {},
   "outputs": [],
   "source": [
    "# question 3 init method use for  initializes the attributes (data members) of the object."
   ]
  },
  {
   "cell_type": "code",
   "execution_count": 5,
   "id": "e6d25a9e-b1ff-4404-ac6e-01d07890d809",
   "metadata": {},
   "outputs": [],
   "source": [
    "class Student:\n",
    "    def __init__(self, name, age):\n",
    "        self.name = name\n",
    "        self.age = age\n",
    "\n",
    "student1 = Student(\"Alice\", 20)"
   ]
  },
  {
   "cell_type": "code",
   "execution_count": 6,
   "id": "ace63323-944d-43f3-81a6-49e7d20827c3",
   "metadata": {},
   "outputs": [
    {
     "data": {
      "text/plain": [
       "\"question 4 Self is a reference to the class instance. It is used to gain access to the object's class-specific attributes and functions. Self is implicitly supplied as the first argument when you call a method on an object.\""
      ]
     },
     "execution_count": 6,
     "metadata": {},
     "output_type": "execute_result"
    }
   ],
   "source": [
    "\"\"\"question 4 Self is a reference to the class instance. It is used to gain access to the object's class-specific attributes and functions. Self is implicitly supplied as the first argument when you call a method on an object.\"\"\""
   ]
  },
  {
   "cell_type": "code",
   "execution_count": 7,
   "id": "2ffb19c6-4935-48f5-9ba1-1edf0e979518",
   "metadata": {},
   "outputs": [],
   "source": [
    "# question 5"
   ]
  },
  {
   "cell_type": "code",
   "execution_count": 8,
   "id": "d92192f4-dddf-4dc6-af98-cc2755119a61",
   "metadata": {},
   "outputs": [
    {
     "name": "stdout",
     "output_type": "stream",
     "text": [
      "Woof!\n"
     ]
    }
   ],
   "source": [
    "class Animal:\n",
    "    def speak(self):\n",
    "        pass\n",
    "\n",
    "class Dog(Animal):\n",
    "    def speak(self):\n",
    "        return \"Woof!\"\n",
    "\n",
    "dog = Dog()\n",
    "print(dog.speak()) "
   ]
  },
  {
   "cell_type": "code",
   "execution_count": 9,
   "id": "ffbf3b2a-06f1-4bb0-81da-d4e223be3c85",
   "metadata": {},
   "outputs": [],
   "source": [
    "class A:\n",
    "    def method_A(self):\n",
    "        return \"Method A\"\n",
    "\n",
    "class B:\n",
    "    def method_B(self):\n",
    "        return \"Method B\"\n",
    "\n",
    "class C(A, B):\n",
    "    pass"
   ]
  },
  {
   "cell_type": "code",
   "execution_count": 13,
   "id": "a4c11fcb-c1a5-4503-8b84-82770c5e7d4b",
   "metadata": {},
   "outputs": [],
   "source": [
    "value=C()"
   ]
  },
  {
   "cell_type": "code",
   "execution_count": 15,
   "id": "a616893f-b944-43b8-ac4f-2e0f504caaa2",
   "metadata": {},
   "outputs": [
    {
     "data": {
      "text/plain": [
       "'Method A'"
      ]
     },
     "execution_count": 15,
     "metadata": {},
     "output_type": "execute_result"
    }
   ],
   "source": [
    "value.method_A()"
   ]
  },
  {
   "cell_type": "code",
   "execution_count": 17,
   "id": "cb044331-8883-421f-bb07-9b960ed5629c",
   "metadata": {},
   "outputs": [
    {
     "data": {
      "text/plain": [
       "'Method B'"
      ]
     },
     "execution_count": 17,
     "metadata": {},
     "output_type": "execute_result"
    }
   ],
   "source": [
    "value.method_B()"
   ]
  },
  {
   "cell_type": "code",
   "execution_count": 18,
   "id": "b2cf0ddf-ca23-45fe-b502-87cb581fa77d",
   "metadata": {},
   "outputs": [
    {
     "name": "stdout",
     "output_type": "stream",
     "text": [
      "Hello from Grandparent\n"
     ]
    }
   ],
   "source": [
    "class Grandparent:\n",
    "    def speak(self):\n",
    "        return \"Hello from Grandparent\"\n",
    "\n",
    "class Parent(Grandparent):\n",
    "    pass\n",
    "\n",
    "class Child(Parent):\n",
    "    pass\n",
    "\n",
    "child = Child()\n",
    "print(child.speak())"
   ]
  },
  {
   "cell_type": "code",
   "execution_count": null,
   "id": "19b00224-2129-46fe-8b88-3b8772e245c2",
   "metadata": {},
   "outputs": [],
   "source": []
  }
 ],
 "metadata": {
  "kernelspec": {
   "display_name": "Python 3 (ipykernel)",
   "language": "python",
   "name": "python3"
  },
  "language_info": {
   "codemirror_mode": {
    "name": "ipython",
    "version": 3
   },
   "file_extension": ".py",
   "mimetype": "text/x-python",
   "name": "python",
   "nbconvert_exporter": "python",
   "pygments_lexer": "ipython3",
   "version": "3.10.8"
  }
 },
 "nbformat": 4,
 "nbformat_minor": 5
}
