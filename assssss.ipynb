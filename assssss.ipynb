{
 "cells": [
  {
   "cell_type": "code",
   "execution_count": 3,
   "id": "657629bd-3073-4053-8571-a96e2be97b5b",
   "metadata": {},
   "outputs": [
    {
     "data": {
      "text/plain": [
       "\"question 1 A key idea in object-oriented programming is abstraction, which aims to clarify complex reality by modeling classes according to their essential traits. It involves obscuring the intricate implementation details and displaying only an object's essential features. In other words, abstraction enables you to logically and simply represent real-world objects.\""
      ]
     },
     "execution_count": 3,
     "metadata": {},
     "output_type": "execute_result"
    }
   ],
   "source": [
    "\"\"\"question 1 A key idea in object-oriented programming is abstraction, which aims to clarify complex reality by modeling classes according to their essential traits. It involves obscuring the intricate implementation details and displaying only an object's essential features. In other words, abstraction enables you to logically and simply represent real-world objects.\"\"\""
   ]
  },
  {
   "cell_type": "code",
   "execution_count": 4,
   "id": "b8f6d65f-3013-4e47-b03c-9e4b0824cd74",
   "metadata": {},
   "outputs": [],
   "source": [
    "# question 2"
   ]
  },
  {
   "cell_type": "code",
   "execution_count": 5,
   "id": "6d3dfaf7-fcde-45d3-8a40-9de958397707",
   "metadata": {},
   "outputs": [
    {
     "data": {
      "text/plain": [
       "\"Abstraction focuses on showing only the necessary features of an object while hiding its implementation details. It simplifies complex reality by modeling classes based on their essential characteristics.\\n\\nEncapsulation, on the other hand, is about bundling the data (attributes) and the methods (functions) that operate on the data into a single unit, i.e., a class. It restricts direct access to some of an object's components, protecting them from external interference.\""
      ]
     },
     "execution_count": 5,
     "metadata": {},
     "output_type": "execute_result"
    }
   ],
   "source": [
    "\"\"\"Abstraction focuses on showing only the necessary features of an object while hiding its implementation details. It simplifies complex reality by modeling classes based on their essential characteristics.\n",
    "\n",
    "Encapsulation, on the other hand, is about bundling the data (attributes) and the methods (functions) that operate on the data into a single unit, i.e., a class. It restricts direct access to some of an object's components, protecting them from external interference.\"\"\""
   ]
  },
  {
   "cell_type": "code",
   "execution_count": 6,
   "id": "c677141c-7b43-44b4-89b6-c9b8c3b44161",
   "metadata": {},
   "outputs": [],
   "source": [
    "# question 3"
   ]
  },
  {
   "cell_type": "code",
   "execution_count": 7,
   "id": "c11f45c9-1e43-45e0-a598-8a5b7a72a6cb",
   "metadata": {},
   "outputs": [
    {
     "data": {
      "text/plain": [
       "'The abc module in Python stands for \"Abstract Base Classes.\" It provides mechanisms for defining abstract base classes, which are classes that are meant to be subclassed but not instantiated directly. Abstract base classes are used to define a common interface that multiple subclasses must adhere to. They can define abstract methods that must be implemented by their concrete subclasses.'"
      ]
     },
     "execution_count": 7,
     "metadata": {},
     "output_type": "execute_result"
    }
   ],
   "source": [
    "\"\"\"The abc module in Python stands for \"Abstract Base Classes.\" It provides mechanisms for defining abstract base classes, which are classes that are meant to be subclassed but not instantiated directly. Abstract base classes are used to define a common interface that multiple subclasses must adhere to. They can define abstract methods that must be implemented by their concrete subclasses.\"\"\""
   ]
  },
  {
   "cell_type": "code",
   "execution_count": 8,
   "id": "5c7c3b2c-14b6-48f2-8085-e16294671a6b",
   "metadata": {},
   "outputs": [],
   "source": [
    "# question 5"
   ]
  },
  {
   "cell_type": "code",
   "execution_count": 9,
   "id": "5ec83004-c8eb-4826-808a-9740d720744b",
   "metadata": {},
   "outputs": [
    {
     "data": {
      "text/plain": [
       "'No, you cannot create an instance of an abstract class in Python. Abstract classes are meant to be subclassed, and they often contain abstract methods without implementations. These abstract methods must be overridden by concrete subclasses.\\n\\nAttempting to create an instance of an abstract class will result in a TypeError. The purpose of an abstract class is to provide a blueprint for other classes to inherit from, ensuring that certain methods are implemented by the subclasses.'"
      ]
     },
     "execution_count": 9,
     "metadata": {},
     "output_type": "execute_result"
    }
   ],
   "source": [
    "\"\"\"No, you cannot create an instance of an abstract class in Python. Abstract classes are meant to be subclassed, and they often contain abstract methods without implementations. These abstract methods must be overridden by concrete subclasses.\n",
    "\n",
    "Attempting to create an instance of an abstract class will result in a TypeError. The purpose of an abstract class is to provide a blueprint for other classes to inherit from, ensuring that certain methods are implemented by the subclasses.\"\"\""
   ]
  },
  {
   "cell_type": "code",
   "execution_count": null,
   "id": "34aa7052-8bd2-4d2c-88eb-1aa693a1fa68",
   "metadata": {},
   "outputs": [],
   "source": []
  }
 ],
 "metadata": {
  "kernelspec": {
   "display_name": "Python 3 (ipykernel)",
   "language": "python",
   "name": "python3"
  },
  "language_info": {
   "codemirror_mode": {
    "name": "ipython",
    "version": 3
   },
   "file_extension": ".py",
   "mimetype": "text/x-python",
   "name": "python",
   "nbconvert_exporter": "python",
   "pygments_lexer": "ipython3",
   "version": "3.10.8"
  }
 },
 "nbformat": 4,
 "nbformat_minor": 5
}
