{
 "cells": [
  {
   "cell_type": "code",
   "execution_count": 1,
   "id": "a4dc5324-36bb-4261-b1ec-d1ef51f4e2a5",
   "metadata": {},
   "outputs": [],
   "source": [
    "# question1"
   ]
  },
  {
   "cell_type": "code",
   "execution_count": 2,
   "id": "b2dfb5f8-3a3a-490b-8f07-665bb5d7f3ee",
   "metadata": {},
   "outputs": [
    {
     "data": {
      "text/plain": [
       "'\\nQ1: Estimation Statistics:\\n\\nEstimation statistics is a branch of statistics that deals with making inferences or estimates about population parameters based on sample data.\\nPoint Estimate: A point estimate is a single value that is used to approximate a population parameter. For example, the sample mean is a point estimate of the population mean.\\nInterval Estimate: An interval estimate is a range of values that is used to provide a range within which the population parameter is likely to fall. It includes both a point estimate and a margin of error.'"
      ]
     },
     "execution_count": 2,
     "metadata": {},
     "output_type": "execute_result"
    }
   ],
   "source": [
    "\"\"\"\n",
    "Q1: Estimation Statistics:\n",
    "\n",
    "Estimation statistics is a branch of statistics that deals with making inferences or estimates about population parameters based on sample data.\n",
    "Point Estimate: A point estimate is a single value that is used to approximate a population parameter. For example, the sample mean is a point estimate of the population mean.\n",
    "Interval Estimate: An interval estimate is a range of values that is used to provide a range within which the population parameter is likely to fall. It includes both a point estimate and a margin of error.\"\"\""
   ]
  },
  {
   "cell_type": "code",
   "execution_count": 3,
   "id": "839342b4-e9a1-4347-8b64-50327b6956e0",
   "metadata": {},
   "outputs": [],
   "source": [
    "# question2"
   ]
  },
  {
   "cell_type": "code",
   "execution_count": 6,
   "id": "3e82b1c0-6095-4446-baee-e7b8546631da",
   "metadata": {},
   "outputs": [],
   "source": [
    "import math\n",
    "\n",
    "def estimate_population_mean(sample_mean, sample_std_dev, sample_size):\n",
    "    # Calculate the standard error of the mean\n",
    "    standard_error = sample_std_dev / math.sqrt(sample_size)\n",
    "    return standard_error"
   ]
  },
  {
   "cell_type": "code",
   "execution_count": 7,
   "id": "79f92e01-0b65-45e6-94ce-7e6b8ef111db",
   "metadata": {},
   "outputs": [
    {
     "data": {
      "text/plain": [
       "3.162277660168379"
      ]
     },
     "execution_count": 7,
     "metadata": {},
     "output_type": "execute_result"
    }
   ],
   "source": [
    "estimate_population_mean(10,10,10)"
   ]
  },
  {
   "cell_type": "code",
   "execution_count": 8,
   "id": "0e1e32b8-b22b-4dfe-bdf1-0286797cf847",
   "metadata": {},
   "outputs": [],
   "source": [
    "# question3"
   ]
  },
  {
   "cell_type": "code",
   "execution_count": 9,
   "id": "0b4cc217-ad0a-4a65-8d03-212a249587b1",
   "metadata": {},
   "outputs": [
    {
     "data": {
      "text/plain": [
       "'Hypothesis testing is a statistical method used to make inferences about population parameters based on sample data. It involves making a claim (a hypothesis) about a population parameter and then using data to assess the validity of that claim.\\nImportance: Hypothesis testing allows us to evaluate whether observed differences or effects are statistically significant, helping us make decisions, draw conclusions, and support or reject hypotheses.'"
      ]
     },
     "execution_count": 9,
     "metadata": {},
     "output_type": "execute_result"
    }
   ],
   "source": [
    "\"\"\"Hypothesis testing is a statistical method used to make inferences about population parameters based on sample data. It involves making a claim (a hypothesis) about a population parameter and then using data to assess the validity of that claim.\n",
    "Importance: Hypothesis testing allows us to evaluate whether observed differences or effects are statistically significant, helping us make decisions, draw conclusions, and support or reject hypotheses.\"\"\""
   ]
  },
  {
   "cell_type": "code",
   "execution_count": 10,
   "id": "ce53d6fb-95a9-4895-b969-9125d808fd46",
   "metadata": {},
   "outputs": [],
   "source": [
    "# question4"
   ]
  },
  {
   "cell_type": "code",
   "execution_count": 12,
   "id": "d45dd67f-fa0e-49d5-a0ef-fa4392fe779a",
   "metadata": {},
   "outputs": [
    {
     "data": {
      "text/plain": [
       "'Hypothesis: \"The average weight of male college students is greater than the average weight of female college students.'"
      ]
     },
     "execution_count": 12,
     "metadata": {},
     "output_type": "execute_result"
    }
   ],
   "source": [
    "\"\"\"Hypothesis: \"The average weight of male college students is greater than the average weight of female college students.\"\"\""
   ]
  },
  {
   "cell_type": "code",
   "execution_count": 13,
   "id": "d7ebd9e8-55a4-4096-b4e1-0c3e7f46c119",
   "metadata": {},
   "outputs": [],
   "source": [
    "# question5"
   ]
  },
  {
   "cell_type": "code",
   "execution_count": 14,
   "id": "e6fad6ba-eb2f-490a-aa1c-8af7c8ecb6a1",
   "metadata": {},
   "outputs": [
    {
     "name": "stdout",
     "output_type": "stream",
     "text": [
      "t-statistic: 1.2586335510551052\n",
      "p-value: 0.24440367713358344\n"
     ]
    }
   ],
   "source": [
    "import scipy.stats as stats\n",
    "\n",
    "def two_sample_t_test(sample1, sample2):\n",
    "    # Perform a two-sample t-test assuming unequal variances\n",
    "    t_stat, p_value = stats.ttest_ind(sample1, sample2, equal_var=False)\n",
    "    \n",
    "    return t_stat, p_value\n",
    "\n",
    "# Example usage:\n",
    "sample1 = [78, 82, 85, 88, 92]\n",
    "sample2 = [75, 79, 80, 84, 87]\n",
    "t_stat, p_value = two_sample_t_test(sample1, sample2)\n",
    "print(\"t-statistic:\", t_stat)\n",
    "print(\"p-value:\", p_value)\n"
   ]
  },
  {
   "cell_type": "code",
   "execution_count": 15,
   "id": "359b9ee7-1694-4873-bbb5-9ba9c103e0ad",
   "metadata": {},
   "outputs": [],
   "source": [
    "# question 6"
   ]
  },
  {
   "cell_type": "code",
   "execution_count": 17,
   "id": "31374bcb-e660-44a2-ba70-8e951cd199fb",
   "metadata": {},
   "outputs": [
    {
     "data": {
      "text/plain": [
       "'Null Hypothesis (H0): A statement that there is no significant difference or effect. It is typically what you are trying to test against.\\nExample: H0: The mean weight of a drug has no effect on blood pressure.\\n\\nAlternative Hypothesis (Ha): A statement that represents a different outcome or effect from the null hypothesis. It is what you are trying to find evidence for.\\nExample: Ha: The mean weight of a drug has a significant effect on blood pressure.'"
      ]
     },
     "execution_count": 17,
     "metadata": {},
     "output_type": "execute_result"
    }
   ],
   "source": [
    "\"\"\"Null Hypothesis (H0): A statement that there is no significant difference or effect. It is typically what you are trying to test against.\n",
    "Example: H0: The mean weight of a drug has no effect on blood pressure.\n",
    "\n",
    "Alternative Hypothesis (Ha): A statement that represents a different outcome or effect from the null hypothesis. It is what you are trying to find evidence for.\n",
    "Example: Ha: The mean weight of a drug has a significant effect on blood pressure.\"\"\""
   ]
  },
  {
   "cell_type": "code",
   "execution_count": 18,
   "id": "9e018d19-9b51-4122-8f63-10760f2b2b28",
   "metadata": {},
   "outputs": [],
   "source": [
    "# question7"
   ]
  },
  {
   "cell_type": "code",
   "execution_count": 19,
   "id": "f319128d-fada-4859-9318-8abab0719dc6",
   "metadata": {},
   "outputs": [
    {
     "data": {
      "text/plain": [
       "'Formulate the null and alternative hypotheses.\\nCollect and analyze data from a sample.\\nChoose a significance level (alpha) to determine the threshold for statistical significance.\\nPerform a statistical test (e.g., t-test, chi-squared test) using the data and calculate a test statistic.\\nCalculate the p-value associated with the test statistic.\\nCompare the p-value to the chosen significance level.\\nIf p-value ≤ alpha, reject the null hypothesis; otherwise, fail to reject the null hypothesis.\\nDraw a conclusion and interpret the results.'"
      ]
     },
     "execution_count": 19,
     "metadata": {},
     "output_type": "execute_result"
    }
   ],
   "source": [
    "\"\"\"Formulate the null and alternative hypotheses.\n",
    "Collect and analyze data from a sample.\n",
    "Choose a significance level (alpha) to determine the threshold for statistical significance.\n",
    "Perform a statistical test (e.g., t-test, chi-squared test) using the data and calculate a test statistic.\n",
    "Calculate the p-value associated with the test statistic.\n",
    "Compare the p-value to the chosen significance level.\n",
    "If p-value ≤ alpha, reject the null hypothesis; otherwise, fail to reject the null hypothesis.\n",
    "Draw a conclusion and interpret the results.\"\"\""
   ]
  },
  {
   "cell_type": "code",
   "execution_count": 20,
   "id": "c200d1fc-9298-4735-baa0-78cfb66ffdba",
   "metadata": {},
   "outputs": [],
   "source": [
    "# question8"
   ]
  },
  {
   "cell_type": "code",
   "execution_count": 21,
   "id": "2f6d1f30-dbdf-43ee-912c-d9acbba81c35",
   "metadata": {},
   "outputs": [
    {
     "data": {
      "text/plain": [
       "'The p-value is a probability value that quantifies the strength of evidence against the null hypothesis. It tells us the probability of obtaining the observed data (or more extreme) if the null hypothesis is true.\\nSignificance: A small p-value (typically ≤ alpha) suggests strong evidence against the null hypothesis, leading to its rejection. A large p-value suggests weak evidence, leading to the failure to reject the null hypothesis.'"
      ]
     },
     "execution_count": 21,
     "metadata": {},
     "output_type": "execute_result"
    }
   ],
   "source": [
    "\"\"\"The p-value is a probability value that quantifies the strength of evidence against the null hypothesis. It tells us the probability of obtaining the observed data (or more extreme) if the null hypothesis is true.\n",
    "Significance: A small p-value (typically ≤ alpha) suggests strong evidence against the null hypothesis, leading to its rejection. A large p-value suggests weak evidence, leading to the failure to reject the null hypothesis.\"\"\""
   ]
  },
  {
   "cell_type": "code",
   "execution_count": 22,
   "id": "c3b6af5b-9bc5-4907-b8f7-02cb69906268",
   "metadata": {},
   "outputs": [],
   "source": [
    "# question9"
   ]
  },
  {
   "cell_type": "code",
   "execution_count": 23,
   "id": "7287f960-8581-4991-9d24-a64424ee61f2",
   "metadata": {},
   "outputs": [
    {
     "data": {
      "image/png": "[encoded data removed]",
      "text/plain": [
       "<Figure size 640x480 with 1 Axes>"
      ]
     },
     "metadata": {},
     "output_type": "display_data"
    }
   ],
   "source": [
    "import numpy as np\n",
    "import matplotlib.pyplot as plt\n",
    "import scipy.stats as stats\n",
    "\n",
    "df = 10\n",
    "\n",
    "# Generate x values\n",
    "x = np.linspace(-4, 4, 1000)\n",
    "\n",
    "\n",
    "pdf = stats.t.pdf(x, df)\n",
    "\n",
    "# Plot the t-distribution\n",
    "plt.plot(x, pdf, label=f't-Distribution (df = {df})')\n",
    "plt.xlabel('x')\n",
    "plt.ylabel('Probability Density')\n",
    "plt.title('Student\\'s t-Distribution')\n",
    "plt.legend()\n",
    "plt.show()"
   ]
  },
  {
   "cell_type": "code",
   "execution_count": 24,
   "id": "ac6ee373-0261-4bee-8a7b-6c0322cefe13",
   "metadata": {},
   "outputs": [],
   "source": [
    "# question10"
   ]
  },
  {
   "cell_type": "code",
   "execution_count": 25,
   "id": "30012c85-bec8-4cdc-a38c-f2f5bac98fe3",
   "metadata": {},
   "outputs": [
    {
     "name": "stdout",
     "output_type": "stream",
     "text": [
      "Hypothesis Test Result: Fail to Reject Null Hypothesis\n"
     ]
    }
   ],
   "source": [
    "import scipy.stats as stats\n",
    "\n",
    "def two_sample_t_test(sample1, sample2, alpha=0.05):\n",
    "    # Perform a two-sample t-test assuming equal variances\n",
    "    t_stat, p_value = stats.ttest_ind(sample1, sample2)\n",
    "    \n",
    "    # Check if p-value is less than alpha (significance level)\n",
    "    if p_value < alpha:\n",
    "        return \"Reject Null Hypothesis\"\n",
    "    else:\n",
    "        return \"Fail to Reject Null Hypothesis\"\n",
    "\n",
    "# Example usage:\n",
    "sample1 = [78, 82, 85, 88, 92]\n",
    "sample2 = [75, 79, 80, 84, 87]\n",
    "result = two_sample_t_test(sample1, sample2)\n",
    "print(\"Hypothesis Test Result:\", result)\n",
    "\n",
    "\n",
    "\n",
    "\n",
    "\n"
   ]
  },
  {
   "cell_type": "code",
   "execution_count": 26,
   "id": "2db732aa-95ac-4019-be2b-4ee25e2aaabd",
   "metadata": {},
   "outputs": [],
   "source": [
    "# question11"
   ]
  },
  {
   "cell_type": "code",
   "execution_count": 27,
   "id": "00ccaa1a-36c8-46fb-a5ce-59ee8a461ee7",
   "metadata": {},
   "outputs": [
    {
     "data": {
      "text/plain": [
       "\"Student's t-distribution (or t-distribution) is a probability distribution used in statistical inference when the sample size is small or when the population standard deviation is unknown.\\nIt is similar to the standard normal distribution (Z-distribution) but has heavier tails, making it more robust for smaller samples.\\nUse the t-distribution when you are working with small samples (typically n < 30) and the population standard deviation is unknown.\""
      ]
     },
     "execution_count": 27,
     "metadata": {},
     "output_type": "execute_result"
    }
   ],
   "source": [
    "\"\"\"Student's t-distribution (or t-distribution) is a probability distribution used in statistical inference when the sample size is small or when the population standard deviation is unknown.\n",
    "It is similar to the standard normal distribution (Z-distribution) but has heavier tails, making it more robust for smaller samples.\n",
    "Use the t-distribution when you are working with small samples (typically n < 30) and the population standard deviation is unknown.\"\"\""
   ]
  },
  {
   "cell_type": "code",
   "execution_count": 28,
   "id": "2a3d4b0f-e691-44c5-8771-0d2134077d0e",
   "metadata": {},
   "outputs": [],
   "source": [
    "# question 12"
   ]
  },
  {
   "cell_type": "code",
   "execution_count": 29,
   "id": "c2f07080-9197-421e-ba9d-9deea12a8202",
   "metadata": {},
   "outputs": [
    {
     "data": {
      "text/plain": [
       "'The t-statistic (or t-value) is a test statistic used in hypothesis testing to determine whether a sample mean is significantly different from a hypothesized population mean.\\n\\nFormula for a t-statistic when comparing a sample mean (X̄) to a population mean (μ) with a known sample size (n) and sample standard deviation (s):\\n\\nt = (X̄ - μ) / (s / √n)'"
      ]
     },
     "execution_count": 29,
     "metadata": {},
     "output_type": "execute_result"
    }
   ],
   "source": [
    "\"\"\"The t-statistic (or t-value) is a test statistic used in hypothesis testing to determine whether a sample mean is significantly different from a hypothesized population mean.\n",
    "\n",
    "Formula for a t-statistic when comparing a sample mean (X̄) to a population mean (μ) with a known sample size (n) and sample standard deviation (s):\n",
    "\n",
    "t = (X̄ - μ) / (s / √n)\"\"\""
   ]
  },
  {
   "cell_type": "code",
   "execution_count": 30,
   "id": "dc9489a1-68cd-4fd1-bfa7-1a1edd9e0665",
   "metadata": {},
   "outputs": [],
   "source": [
    "# question13"
   ]
  },
  {
   "cell_type": "code",
   "execution_count": 31,
   "id": "5dbe0df1-688f-4485-8e90-7c7af2ca7aac",
   "metadata": {},
   "outputs": [
    {
     "data": {
      "text/plain": [
       "'Sample mean (X̄) = $500\\nSample standard deviation (s) = $50\\nSample size (n) = 50\\nConfidence level = 95%\\nUsing the t-distribution with n - 1 degrees of freedom (df = 49) for a 95% confidence interval, the critical t-value is approximately 2.0096 (from a t-table or calculator).\\n\\nMargin of error (ME) = t * (s / √n) = 2.0096 * ($50 / √50) ≈ $14.24\\n\\nConfidence interval: X̄ ± ME = $500 ± $14.24\\n\\nSo, the 95% confidence interval for the population mean revenue is approximately [$485.76, $514.24].'"
      ]
     },
     "execution_count": 31,
     "metadata": {},
     "output_type": "execute_result"
    }
   ],
   "source": [
    "\"\"\"Sample mean (X̄) = $500\n",
    "Sample standard deviation (s) = $50\n",
    "Sample size (n) = 50\n",
    "Confidence level = 95%\n",
    "Using the t-distribution with n - 1 degrees of freedom (df = 49) for a 95% confidence interval, the critical t-value is approximately 2.0096 (from a t-table or calculator).\n",
    "\n",
    "Margin of error (ME) = t * (s / √n) = 2.0096 * ($50 / √50) ≈ $14.24\n",
    "\n",
    "Confidence interval: X̄ ± ME = $500 ± $14.24\n",
    "\n",
    "So, the 95% confidence interval for the population mean revenue is approximately [$485.76, $514.24].\"\"\""
   ]
  },
  {
   "cell_type": "code",
   "execution_count": 32,
   "id": "4fb542ac-9f5a-4c6c-959e-24dcf570229c",
   "metadata": {},
   "outputs": [],
   "source": [
    "# question14"
   ]
  },
  {
   "cell_type": "code",
   "execution_count": 33,
   "id": "1e4787e6-12d5-4ce6-9cbf-4b745d569a04",
   "metadata": {},
   "outputs": [
    {
     "data": {
      "text/plain": [
       "'Null Hypothesis (H0): The new drug does not decrease blood pressure by 10 mmHg (μ = 0).\\nAlternative Hypothesis (Ha): The new drug decreases blood pressure by 10 mmHg (μ ≠ 0).\\nGiven data:\\n\\nSample mean decrease in blood pressure (X̄) = 8 mmHg\\nSample standard deviation (s) = 3 mmHg\\nSample size (n) = 100\\nSignificance level (α) = 0.05\\nCalculate the t-statistic:\\nt = (X̄ - μ) / (s / √n) = (8 - 10) / (3 / √100) = -2 / 0.3 = -6.67\\n\\nDegrees of freedom (df) = n - 1 = 100 - 1 = 99\\n\\nUsing a t-table or calculator, find the critical t-value for a two-tailed test with α/2 = 0.025 and df = 99. The critical t-value is approximately ±1.984.\\n\\nSince the absolute value of the calculated t-statistic (6.67) is greater than the critical t-value (1.984), we reject the null hypothesis.\\n\\nConclusion: There is strong evidence to suggest that the new drug decreases blood pressure by 10 mmHg.'"
      ]
     },
     "execution_count": 33,
     "metadata": {},
     "output_type": "execute_result"
    }
   ],
   "source": [
    "\"\"\"Null Hypothesis (H0): The new drug does not decrease blood pressure by 10 mmHg (μ = 0).\n",
    "Alternative Hypothesis (Ha): The new drug decreases blood pressure by 10 mmHg (μ ≠ 0).\n",
    "Given data:\n",
    "\n",
    "Sample mean decrease in blood pressure (X̄) = 8 mmHg\n",
    "Sample standard deviation (s) = 3 mmHg\n",
    "Sample size (n) = 100\n",
    "Significance level (α) = 0.05\n",
    "Calculate the t-statistic:\n",
    "t = (X̄ - μ) / (s / √n) = (8 - 10) / (3 / √100) = -2 / 0.3 = -6.67\n",
    "\n",
    "Degrees of freedom (df) = n - 1 = 100 - 1 = 99\n",
    "\n",
    "Using a t-table or calculator, find the critical t-value for a two-tailed test with α/2 = 0.025 and df = 99. The critical t-value is approximately ±1.984.\n",
    "\n",
    "Since the absolute value of the calculated t-statistic (6.67) is greater than the critical t-value (1.984), we reject the null hypothesis.\n",
    "\n",
    "Conclusion: There is strong evidence to suggest that the new drug decreases blood pressure by 10 mmHg.\"\"\""
   ]
  },
  {
   "cell_type": "code",
   "execution_count": 34,
   "id": "4722fe02-9498-40cd-a473-bc16ff2727f8",
   "metadata": {},
   "outputs": [],
   "source": [
    "# question15"
   ]
  },
  {
   "cell_type": "code",
   "execution_count": 35,
   "id": "197bed0a-520b-4914-9596-035f95109d3b",
   "metadata": {},
   "outputs": [
    {
     "data": {
      "text/plain": [
       "'Null Hypothesis (H0): The true mean weight of the products is ≥ 5 pounds (μ ≥ 5).\\nAlternative Hypothesis (Ha): The true mean weight of the products is < 5 pounds (μ < 5).\\nGiven data:\\n\\nSample mean weight (X̄) = 4.8 pounds\\nSample standard deviation (s) = 0.5 pounds\\nSample size (n) = 25\\nSignificance level (α) = 0.01\\nCalculate the t-statistic:\\nt = (X̄ - μ) / (s / √n) = (4.8 - 5) / (0.5 / √25) = -0.2 / 0.1 = -2\\n\\nDegrees of freedom (df) = n - 1 = 25 - 1 = 24\\n\\nUsing a t-table or calculator, find the critical t-value for a one-tailed test with α = 0.01 and df = 24. The critical t-value is approximately -2.492.\\n\\nSince the calculated t-statistic (-2) is less than the critical t-value (-2.492), we reject the null hypothesis.\\n\\nConclusion: There is sufficient evidence to suggest that the true mean weight of the products is less than 5 pounds.'"
      ]
     },
     "execution_count": 35,
     "metadata": {},
     "output_type": "execute_result"
    }
   ],
   "source": [
    "\"\"\"Null Hypothesis (H0): The true mean weight of the products is ≥ 5 pounds (μ ≥ 5).\n",
    "Alternative Hypothesis (Ha): The true mean weight of the products is < 5 pounds (μ < 5).\n",
    "Given data:\n",
    "\n",
    "Sample mean weight (X̄) = 4.8 pounds\n",
    "Sample standard deviation (s) = 0.5 pounds\n",
    "Sample size (n) = 25\n",
    "Significance level (α) = 0.01\n",
    "Calculate the t-statistic:\n",
    "t = (X̄ - μ) / (s / √n) = (4.8 - 5) / (0.5 / √25) = -0.2 / 0.1 = -2\n",
    "\n",
    "Degrees of freedom (df) = n - 1 = 25 - 1 = 24\n",
    "\n",
    "Using a t-table or calculator, find the critical t-value for a one-tailed test with α = 0.01 and df = 24. The critical t-value is approximately -2.492.\n",
    "\n",
    "Since the calculated t-statistic (-2) is less than the critical t-value (-2.492), we reject the null hypothesis.\n",
    "\n",
    "Conclusion: There is sufficient evidence to suggest that the true mean weight of the products is less than 5 pounds.\"\"\""
   ]
  },
  {
   "cell_type": "code",
   "execution_count": 36,
   "id": "abd8ceab-c15a-4fb1-9785-3599d6403d75",
   "metadata": {},
   "outputs": [],
   "source": [
    "# question16"
   ]
  },
  {
   "cell_type": "code",
   "execution_count": 37,
   "id": "232f2f0c-6bc5-4000-9073-23f440058a58",
   "metadata": {},
   "outputs": [
    {
     "data": {
      "text/plain": [
       "'Null Hypothesis (H0): The population means for the two groups are equal (μ1 = μ2).\\nAlternative Hypothesis (Ha): The population means for the two groups are not equal (μ1 ≠ μ2).\\nGiven data for Group 1:\\n\\nSample mean score (X̄1) = 80\\nSample standard deviation (s1) = 10\\nSample size (n1) = 30\\nGiven data for Group 2:\\n\\nSample mean score (X̄2) = 75\\nSample standard deviation (s2) = 8\\nSample size (n2) = 40\\nSignificance level (α) = 0.01\\n\\nCalculate the pooled standard error:\\nSEpooled = √[(s1^2 / n1) + (s2^2 / n2)] = √[(10^2 / 30) + (8^2 / 40)] ≈ 1.961\\n\\nCalculate the t-statistic:\\nt = (X̄1 - X̄2) / SEpooled = (80 - 75) / 1.961 ≈ 2.547\\n\\nDegrees of freedom (df) ≈ min(n1 - 1, n2 - 1) = min(29, 39) = 29\\n\\nUsing a t-table or calculator, find the critical t-value for a two-tailed test with α/2 = 0.005 and df = 29. The critical t-value is approximately ±2.750.\\n\\nSince the absolute value of the calculated t-statistic (2.547) is less than the critical t-value (2.750), we fail to reject the null hypothesis.\\n\\nConclusion: There is no significant difference in the population means of the two groups.'"
      ]
     },
     "execution_count": 37,
     "metadata": {},
     "output_type": "execute_result"
    }
   ],
   "source": [
    "\"\"\"Null Hypothesis (H0): The population means for the two groups are equal (μ1 = μ2).\n",
    "Alternative Hypothesis (Ha): The population means for the two groups are not equal (μ1 ≠ μ2).\n",
    "Given data for Group 1:\n",
    "\n",
    "Sample mean score (X̄1) = 80\n",
    "Sample standard deviation (s1) = 10\n",
    "Sample size (n1) = 30\n",
    "Given data for Group 2:\n",
    "\n",
    "Sample mean score (X̄2) = 75\n",
    "Sample standard deviation (s2) = 8\n",
    "Sample size (n2) = 40\n",
    "Significance level (α) = 0.01\n",
    "\n",
    "Calculate the pooled standard error:\n",
    "SEpooled = √[(s1^2 / n1) + (s2^2 / n2)] = √[(10^2 / 30) + (8^2 / 40)] ≈ 1.961\n",
    "\n",
    "Calculate the t-statistic:\n",
    "t = (X̄1 - X̄2) / SEpooled = (80 - 75) / 1.961 ≈ 2.547\n",
    "\n",
    "Degrees of freedom (df) ≈ min(n1 - 1, n2 - 1) = min(29, 39) = 29\n",
    "\n",
    "Using a t-table or calculator, find the critical t-value for a two-tailed test with α/2 = 0.005 and df = 29. The critical t-value is approximately ±2.750.\n",
    "\n",
    "Since the absolute value of the calculated t-statistic (2.547) is less than the critical t-value (2.750), we fail to reject the null hypothesis.\n",
    "\n",
    "Conclusion: There is no significant difference in the population means of the two groups.\"\"\""
   ]
  },
  {
   "cell_type": "code",
   "execution_count": 38,
   "id": "bd65124f-13cb-4550-9c3f-4f04b93e1891",
   "metadata": {},
   "outputs": [],
   "source": [
    "# question17"
   ]
  },
  {
   "cell_type": "code",
   "execution_count": 39,
   "id": "44ce0790-c924-4be5-86e2-3ec6ac682918",
   "metadata": {},
   "outputs": [
    {
     "data": {
      "text/plain": [
       "'ven data:\\n\\nSample mean (X̄) = 4\\nSample standard deviation (s) = 1.5\\nSample size (n) = 50\\nConfidence level = 99%\\nUsing the t-distribution with n - 1 degrees of freedom (df = 49) for a 99% confidence interval, the critical t-value is approximately 2.685.\\n\\nMargin of error (ME) = t * (s / √n) = 2.685 * (1.5 / √50) ≈ 0.477\\n\\nConfidence interval: X̄ ± ME = 4 ± 0.477\\n\\nSo, the 99% confidence interval for the population mean number of ads watched is approximately [3.523, 4.477].'"
      ]
     },
     "execution_count": 39,
     "metadata": {},
     "output_type": "execute_result"
    }
   ],
   "source": [
    "\"\"\"ven data:\n",
    "\n",
    "Sample mean (X̄) = 4\n",
    "Sample standard deviation (s) = 1.5\n",
    "Sample size (n) = 50\n",
    "Confidence level = 99%\n",
    "Using the t-distribution with n - 1 degrees of freedom (df = 49) for a 99% confidence interval, the critical t-value is approximately 2.685.\n",
    "\n",
    "Margin of error (ME) = t * (s / √n) = 2.685 * (1.5 / √50) ≈ 0.477\n",
    "\n",
    "Confidence interval: X̄ ± ME = 4 ± 0.477\n",
    "\n",
    "So, the 99% confidence interval for the population mean number of ads watched is approximately [3.523, 4.477].\"\"\""
   ]
  },
  {
   "cell_type": "code",
   "execution_count": null,
   "id": "64952413-a752-476a-9c57-f057ea7e54af",
   "metadata": {},
   "outputs": [],
   "source": []
  }
 ],
 "metadata": {
  "kernelspec": {
   "display_name": "Python 3 (ipykernel)",
   "language": "python",
   "name": "python3"
  },
  "language_info": {
   "codemirror_mode": {
    "name": "ipython",
    "version": 3
   },
   "file_extension": ".py",
   "mimetype": "text/x-python",
   "name": "python",
   "nbconvert_exporter": "python",
   "pygments_lexer": "ipython3",
   "version": "3.10.8"
  }
 },
 "nbformat": 4,
 "nbformat_minor": 5
}
