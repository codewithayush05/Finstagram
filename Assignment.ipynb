{
 "cells": [
  {
   "cell_type": "code",
   "execution_count": 6,
   "id": "5b5097c7-690a-417a-b14b-624fc2ba30af",
   "metadata": {},
   "outputs": [],
   "source": [
    "# question 1\n",
    "class vehical:\n",
    "    def __init__(self,name_of_vehicle, max_speed, average_of_vehicle):\n",
    "        self.name_of_vehicle = name_of_vehicle\n",
    "        self.max_speed = max_speed\n",
    "        self.average_of_vehicle = average_of_vehicle\n",
    "        "
   ]
  },
  {
   "cell_type": "code",
   "execution_count": 8,
   "id": "ffc43710-cc46-4652-8e5e-74b1b4d33a7c",
   "metadata": {},
   "outputs": [],
   "source": [
    "c = vehical(\"toyota\",220, 34.3 )"
   ]
  },
  {
   "cell_type": "code",
   "execution_count": 9,
   "id": "db3ea3f0-94b5-42f6-a4e0-b5e193ca7ff5",
   "metadata": {},
   "outputs": [
    {
     "data": {
      "text/plain": [
       "34.3"
      ]
     },
     "execution_count": 9,
     "metadata": {},
     "output_type": "execute_result"
    }
   ],
   "source": [
    "c.average_of_vehicle"
   ]
  },
  {
   "cell_type": "code",
   "execution_count": 10,
   "id": "02505426-2a29-4479-a435-b5deb339866b",
   "metadata": {},
   "outputs": [
    {
     "data": {
      "text/plain": [
       "220"
      ]
     },
     "execution_count": 10,
     "metadata": {},
     "output_type": "execute_result"
    }
   ],
   "source": [
    "c.max_speed"
   ]
  },
  {
   "cell_type": "code",
   "execution_count": 21,
   "id": "c88bca4f-41d6-4bc5-b71e-ffa38abebfcf",
   "metadata": {},
   "outputs": [],
   "source": [
    "# question 2\n",
    "class car(vehical):\n",
    "        def __init__(self, capacity):\n",
    "            self.seating_capacity=capacity"
   ]
  },
  {
   "cell_type": "code",
   "execution_count": 22,
   "id": "c2110962-5598-4eb6-a79c-265aa1a87d4f",
   "metadata": {},
   "outputs": [],
   "source": [
    "d = car(6)"
   ]
  },
  {
   "cell_type": "code",
   "execution_count": 23,
   "id": "1dadbbb6-634e-4f2b-b2a6-d21dbadb9df3",
   "metadata": {},
   "outputs": [
    {
     "data": {
      "text/plain": [
       "6"
      ]
     },
     "execution_count": 23,
     "metadata": {},
     "output_type": "execute_result"
    }
   ],
   "source": [
    "d.seating_capacity"
   ]
  },
  {
   "cell_type": "code",
   "execution_count": 17,
   "id": "55bbc5a7-a68e-46ab-8ec8-0d6d2b6ee830",
   "metadata": {},
   "outputs": [],
   "source": [
    "# question 3"
   ]
  },
  {
   "cell_type": "code",
   "execution_count": 24,
   "id": "02732bba-e01d-49f1-85e8-7c31098dce02",
   "metadata": {},
   "outputs": [
    {
     "name": "stdout",
     "output_type": "stream",
     "text": [
      "Parent1\n",
      "Parent2\n"
     ]
    }
   ],
   "source": [
    "class Parent1:\n",
    "    def method1(self):\n",
    "        print(\"Parent1\")\n",
    "\n",
    "class Parent2:\n",
    "    def method2(self):\n",
    "        print(\"Parent2\")\n",
    "\n",
    "class parent3(Parent1, Parent2):\n",
    "    pass\n",
    "\n",
    "a = parent3()\n",
    "a.method1()\n",
    "a.method2()"
   ]
  },
  {
   "cell_type": "code",
   "execution_count": 25,
   "id": "f0384992-cfda-4712-8247-298ec1e9d619",
   "metadata": {},
   "outputs": [],
   "source": [
    "# question 4"
   ]
  },
  {
   "cell_type": "code",
   "execution_count": 26,
   "id": "9976a8ae-39ce-4129-96e4-c4138528ac76",
   "metadata": {},
   "outputs": [],
   "source": [
    "class Setvalue:\n",
    "    def __init__(self):\n",
    "        self._value = 2000\n",
    "\n",
    "    def get_value(self):\n",
    "        return self._value\n",
    "\n",
    "    def set_value(self, new_value):\n",
    "        if new_value >= 2000:\n",
    "            self._value = new_value"
   ]
  },
  {
   "cell_type": "code",
   "execution_count": 27,
   "id": "036e7909-332f-49f5-a6b4-2c59f0693ce8",
   "metadata": {},
   "outputs": [],
   "source": [
    "set=Setvalue()"
   ]
  },
  {
   "cell_type": "code",
   "execution_count": 29,
   "id": "8318f80c-23f7-4fe0-a66c-80b17cf979be",
   "metadata": {},
   "outputs": [
    {
     "data": {
      "text/plain": [
       "2000"
      ]
     },
     "execution_count": 29,
     "metadata": {},
     "output_type": "execute_result"
    }
   ],
   "source": [
    "set.get_value()"
   ]
  },
  {
   "cell_type": "code",
   "execution_count": 30,
   "id": "88023c9f-a6a1-4bf9-8998-84351e09064c",
   "metadata": {},
   "outputs": [],
   "source": [
    "set.set_value(2500)"
   ]
  },
  {
   "cell_type": "code",
   "execution_count": 31,
   "id": "236542f8-3c45-484b-9795-0d34833f9889",
   "metadata": {},
   "outputs": [
    {
     "data": {
      "text/plain": [
       "2500"
      ]
     },
     "execution_count": 31,
     "metadata": {},
     "output_type": "execute_result"
    }
   ],
   "source": [
    "set.get_value()"
   ]
  },
  {
   "cell_type": "code",
   "execution_count": 32,
   "id": "4c5c3b9a-7b30-48fe-affb-2f426d26ef42",
   "metadata": {},
   "outputs": [],
   "source": [
    "# question 5"
   ]
  },
  {
   "cell_type": "code",
   "execution_count": 33,
   "id": "7351b947-c210-480d-a1c0-9de38f4f82f2",
   "metadata": {},
   "outputs": [],
   "source": [
    "class Parent:\n",
    "    def show(self):\n",
    "        print(\"Method from Parent\")\n",
    "\n",
    "class Child(Parent):\n",
    "    def show(self):\n",
    "        print(\"Method from Child\")"
   ]
  },
  {
   "cell_type": "code",
   "execution_count": 35,
   "id": "2d059ec0-9e7b-459c-9d75-684c76867b68",
   "metadata": {},
   "outputs": [
    {
     "name": "stdout",
     "output_type": "stream",
     "text": [
      "Method from Child\n"
     ]
    }
   ],
   "source": [
    "A= Child()\n",
    "A.show()"
   ]
  },
  {
   "cell_type": "code",
   "execution_count": null,
   "id": "eacfcfce-ba9c-4797-bc45-fa69b8e50721",
   "metadata": {},
   "outputs": [],
   "source": []
  }
 ],
 "metadata": {
  "kernelspec": {
   "display_name": "Python 3 (ipykernel)",
   "language": "python",
   "name": "python3"
  },
  "language_info": {
   "codemirror_mode": {
    "name": "ipython",
    "version": 3
   },
   "file_extension": ".py",
   "mimetype": "text/x-python",
   "name": "python",
   "nbconvert_exporter": "python",
   "pygments_lexer": "ipython3",
   "version": "3.10.8"
  }
 },
 "nbformat": 4,
 "nbformat_minor": 5
}
