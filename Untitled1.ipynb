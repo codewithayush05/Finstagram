{
 "cells": [
  {
   "cell_type": "code",
   "execution_count": 2,
   "id": "ede913ac-506c-4e21-aeb1-280357cd21e2",
   "metadata": {},
   "outputs": [],
   "source": [
    "# question 1"
   ]
  },
  {
   "cell_type": "code",
   "execution_count": 5,
   "id": "7fc3e5a3-9735-48bd-9a14-fdb243c41028",
   "metadata": {},
   "outputs": [
    {
     "name": "stdout",
     "output_type": "stream",
     "text": [
      "[('Virat Kohli', 24936), ('Jack Kallis', 25534), ('Ricky Ponting', 27483), ('Sachin Tendulkar', 34357)]\n"
     ]
    }
   ],
   "source": [
    "data = [('Sachin Tendulkar', 34357), ('Ricky Ponting', 27483), ('Jack Kallis', 25534), ('Virat Kohli', 24936)]\n",
    "\n",
    "sorteddata = sorted(data, key=lambda x: x[1])\n",
    "print(sorteddata)"
   ]
  },
  {
   "cell_type": "code",
   "execution_count": 6,
   "id": "930ed0c0-6412-4c72-9a70-e177cd0d95e5",
   "metadata": {},
   "outputs": [],
   "source": [
    "# question 2"
   ]
  },
  {
   "cell_type": "code",
   "execution_count": 8,
   "id": "6ae9d232-7f47-49f2-9f92-8e92c59cc1c6",
   "metadata": {},
   "outputs": [
    {
     "data": {
      "text/plain": [
       "[1, 4, 9, 16, 25, 36, 49, 64, 81, 100]"
      ]
     },
     "execution_count": 8,
     "metadata": {},
     "output_type": "execute_result"
    }
   ],
   "source": [
    "l= [1, 2, 3, 4, 5, 6, 7, 8, 9, 10]\n",
    "\n",
    "list(map(lambda x: x**2,l))"
   ]
  },
  {
   "cell_type": "code",
   "execution_count": 9,
   "id": "dad86d70-4f5e-47a4-9ef3-94458bf0e379",
   "metadata": {},
   "outputs": [],
   "source": [
    "# question 3"
   ]
  },
  {
   "cell_type": "code",
   "execution_count": 10,
   "id": "1fa1917e-734f-4c33-9a07-d394ccfb722b",
   "metadata": {},
   "outputs": [
    {
     "data": {
      "text/plain": [
       "('1', '2', '3', '4', '5', '6', '7', '8', '9', '10')"
      ]
     },
     "execution_count": 10,
     "metadata": {},
     "output_type": "execute_result"
    }
   ],
   "source": [
    "l = [1, 2, 3, 4, 5, 6, 7, 8, 9, 10]\n",
    "\n",
    "tuple(map(lambda x: str(x), l))\n"
   ]
  },
  {
   "cell_type": "code",
   "execution_count": 11,
   "id": "e5a74feb-5d41-45ae-b5d5-282b70d0d4a4",
   "metadata": {},
   "outputs": [],
   "source": [
    "#  question 4"
   ]
  },
  {
   "cell_type": "code",
   "execution_count": 12,
   "id": "b9ef81ff-0cb4-41ca-a03a-54faad1040b4",
   "metadata": {},
   "outputs": [
    {
     "data": {
      "text/plain": [
       "15511210043330985984000000"
      ]
     },
     "execution_count": 12,
     "metadata": {},
     "output_type": "execute_result"
    }
   ],
   "source": [
    "from functools import reduce\n",
    "\n",
    "l = list(range(1, 26))\n",
    "reduce(lambda x, y: x * y, l)\n"
   ]
  },
  {
   "cell_type": "code",
   "execution_count": 13,
   "id": "db25edf6-e6f4-4889-8090-edfd5f9ead0a",
   "metadata": {},
   "outputs": [],
   "source": [
    "# question 5"
   ]
  },
  {
   "cell_type": "code",
   "execution_count": null,
   "id": "370f6ddd-b3ca-443f-9c1b-46be6ca133f6",
   "metadata": {},
   "outputs": [],
   "source": [
    "numbers = [2, 3, 6, 9, 27, 60, 90, 120, 55, 46]\n",
    "\n",
    "filtered_numbers = list(filter(lambda x: x % 2 == 0 and x % 3 == 0, numbers))"
   ]
  }
 ],
 "metadata": {
  "kernelspec": {
   "display_name": "Python 3 (ipykernel)",
   "language": "python",
   "name": "python3"
  },
  "language_info": {
   "codemirror_mode": {
    "name": "ipython",
    "version": 3
   },
   "file_extension": ".py",
   "mimetype": "text/x-python",
   "name": "python",
   "nbconvert_exporter": "python",
   "pygments_lexer": "ipython3",
   "version": "3.10.8"
  }
 },
 "nbformat": 4,
 "nbformat_minor": 5
}
