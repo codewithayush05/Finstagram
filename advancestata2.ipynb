{
 "cells": [
  {
   "cell_type": "code",
   "execution_count": 2,
   "id": "02495c60-0436-49a6-9549-52373940200a",
   "metadata": {},
   "outputs": [],
   "source": [
    "# question1"
   ]
  },
  {
   "cell_type": "code",
   "execution_count": 3,
   "id": "c464b704-1727-42b1-b97d-80ac65ee4795",
   "metadata": {},
   "outputs": [
    {
     "data": {
      "text/plain": [
       "\"Probability Mass Function (PMF): The PMF is used to describe the probability distribution of a discrete random variable. It assigns a probability to each possible outcome of the random variable. Mathematically, it's denoted as P(X = x), where X is the random variable and x is a specific value.\\n\\nExample: Consider a fair six-sided die. The PMF of rolling the die would be:\\n\\nP(X = 1) = 1/6\\nP(X = 2) = 1/6\\nP(X = 3) = 1/6\\nP(X = 4) = 1/6\\nP(X = 5) = 1/6\\nP(X = 6) = 1/6\\n\\nProbability Density Function (PDF): The PDF is used for continuous random variables. It represents the likelihood of the variable taking on a specific value within a range. The area under the curve over a given interval represents the probability of the variable falling within that interval.\\n\\nExample: The PDF of a standard normal distribution (mean = 0, standard deviation = 1) is described by the bell-shaped curve known as the Gaussian or normal curve. The PDF formula is:\\nf(x) = (1 / (σ√(2π))) * e^(-((x-μ)^2) / (2σ^2))\\nwhere μ is the mean and σ is the standard deviation.\""
      ]
     },
     "execution_count": 3,
     "metadata": {},
     "output_type": "execute_result"
    }
   ],
   "source": [
    "\"\"\"Probability Mass Function (PMF): The PMF is used to describe the probability distribution of a discrete random variable. It assigns a probability to each possible outcome of the random variable. Mathematically, it's denoted as P(X = x), where X is the random variable and x is a specific value.\n",
    "\n",
    "Example: Consider a fair six-sided die. The PMF of rolling the die would be:\n",
    "\n",
    "P(X = 1) = 1/6\n",
    "P(X = 2) = 1/6\n",
    "P(X = 3) = 1/6\n",
    "P(X = 4) = 1/6\n",
    "P(X = 5) = 1/6\n",
    "P(X = 6) = 1/6\n",
    "\n",
    "Probability Density Function (PDF): The PDF is used for continuous random variables. It represents the likelihood of the variable taking on a specific value within a range. The area under the curve over a given interval represents the probability of the variable falling within that interval.\n",
    "\n",
    "Example: The PDF of a standard normal distribution (mean = 0, standard deviation = 1) is described by the bell-shaped curve known as the Gaussian or normal curve. The PDF formula is:\n",
    "f(x) = (1 / (σ√(2π))) * e^(-((x-μ)^2) / (2σ^2))\n",
    "where μ is the mean and σ is the standard deviation.\"\"\""
   ]
  },
  {
   "cell_type": "code",
   "execution_count": 4,
   "id": "45abf4b9-68fb-4b70-b3d8-775628bac57f",
   "metadata": {},
   "outputs": [],
   "source": [
    "# question2"
   ]
  },
  {
   "cell_type": "code",
   "execution_count": 5,
   "id": "f7d96b14-217c-4f20-b497-2b559c681ea9",
   "metadata": {},
   "outputs": [
    {
     "data": {
      "text/plain": [
       "\"CDF is a function that gives the cumulative probability that a random variable takes on a value less than or equal to a specified value. It provides information about the probability of observing values up to a certain point in a distribution.\\n\\nExample: In the context of a normal distribution, the CDF at a specific value x gives the probability that a random observation from the distribution will be less than or equal to x. For instance, the CDF of a standard normal distribution at x = 1 is approximately 0.8413, indicating an 84.13% chance that a randomly selected value will be less than 1.\\n\\nCDF is used to assess probabilities and percentiles in a distribution. It's particularly useful when dealing with continuous random variables.\""
      ]
     },
     "execution_count": 5,
     "metadata": {},
     "output_type": "execute_result"
    }
   ],
   "source": [
    "\"\"\"CDF is a function that gives the cumulative probability that a random variable takes on a value less than or equal to a specified value. It provides information about the probability of observing values up to a certain point in a distribution.\n",
    "\n",
    "Example: In the context of a normal distribution, the CDF at a specific value x gives the probability that a random observation from the distribution will be less than or equal to x. For instance, the CDF of a standard normal distribution at x = 1 is approximately 0.8413, indicating an 84.13% chance that a randomly selected value will be less than 1.\n",
    "\n",
    "CDF is used to assess probabilities and percentiles in a distribution. It's particularly useful when dealing with continuous random variables.\"\"\""
   ]
  },
  {
   "cell_type": "code",
   "execution_count": 6,
   "id": "eb572cc4-9faf-4c33-b816-075447b2435b",
   "metadata": {},
   "outputs": [],
   "source": [
    "# question3"
   ]
  },
  {
   "cell_type": "code",
   "execution_count": 7,
   "id": "e6f1f369-6694-471a-b23a-39a8830307d1",
   "metadata": {},
   "outputs": [
    {
     "data": {
      "text/plain": [
       "'The normal distribution is commonly used to model situations where data clusters around a central value with a characteristic bell-shaped curve. Examples include:\\n\\nHeights of a population.\\nIQ scores.\\nErrors in measurements (e.g., in physics experiments).\\nStock price movements.\\nTest scores in large-scale assessments.\\nThe parameters of the normal distribution:\\n\\nThe mean (μ) represents the central tendency and corresponds to the peak of the distribution.\\nThe standard deviation (σ) determines the spread or dispersion of the data. A larger σ results in a wider distribution'"
      ]
     },
     "execution_count": 7,
     "metadata": {},
     "output_type": "execute_result"
    }
   ],
   "source": [
    "\"\"\"The normal distribution is commonly used to model situations where data clusters around a central value with a characteristic bell-shaped curve. Examples include:\n",
    "\n",
    "Heights of a population.\n",
    "IQ scores.\n",
    "Errors in measurements (e.g., in physics experiments).\n",
    "Stock price movements.\n",
    "Test scores in large-scale assessments.\n",
    "The parameters of the normal distribution:\n",
    "\n",
    "The mean (μ) represents the central tendency and corresponds to the peak of the distribution.\n",
    "The standard deviation (σ) determines the spread or dispersion of the data. A larger σ results in a wider distribution\"\"\""
   ]
  },
  {
   "cell_type": "code",
   "execution_count": 8,
   "id": "152f37ba-ab83-4b7a-b572-37171a053d4e",
   "metadata": {},
   "outputs": [],
   "source": [
    "# question4"
   ]
  },
  {
   "cell_type": "code",
   "execution_count": 9,
   "id": "45f199dd-9634-488d-b02e-f533c98ac2b9",
   "metadata": {},
   "outputs": [
    {
     "data": {
      "text/plain": [
       "'The normal distribution is important because of the Central Limit Theorem (CLT) and its ubiquity in natural phenomena. Key points:\\n\\nThe CLT states that the sum or average of a large number of independent, identically distributed random variables will have a distribution that approaches a normal distribution, regardless of the original distribution of the variables.\\nMany statistical methods and hypothesis tests are based on the assumption of normality.\\nIt simplifies data analysis and allows for the use of powerful statistical tools.\\nReal-life examples include heights of people, test scores, and errors in measurements.'"
      ]
     },
     "execution_count": 9,
     "metadata": {},
     "output_type": "execute_result"
    }
   ],
   "source": [
    "\"\"\"The normal distribution is important because of the Central Limit Theorem (CLT) and its ubiquity in natural phenomena. Key points:\n",
    "\n",
    "The CLT states that the sum or average of a large number of independent, identically distributed random variables will have a distribution that approaches a normal distribution, regardless of the original distribution of the variables.\n",
    "Many statistical methods and hypothesis tests are based on the assumption of normality.\n",
    "It simplifies data analysis and allows for the use of powerful statistical tools.\n",
    "Real-life examples include heights of people, test scores, and errors in measurements.\"\"\""
   ]
  },
  {
   "cell_type": "code",
   "execution_count": 10,
   "id": "74b5d845-5697-425f-8219-570b2243f7b3",
   "metadata": {},
   "outputs": [],
   "source": [
    "# question5"
   ]
  },
  {
   "cell_type": "code",
   "execution_count": 11,
   "id": "0b1973b6-1f44-421f-a2d5-d1db5f0839d3",
   "metadata": {},
   "outputs": [
    {
     "data": {
      "text/plain": [
       "'Bernoulli Distribution models a random experiment with only two possible outcomes, typically labeled as \"success\" and \"failure,\" where success has a probability of p and failure has a probability of (1 - p).\\nExample: Flipping a coin (success = heads, failure = tails) with probability p of getting heads.\\nDifference between Bernoulli and Binomial Distribution:\\n\\nBernoulli is for a single trial with two outcomes, while Binomial is for a fixed number of independent Bernoulli trials.\\nIn Binomial, you count the number of successes in a fixed number of trials, while Bernoulli is just a single trial.'"
      ]
     },
     "execution_count": 11,
     "metadata": {},
     "output_type": "execute_result"
    }
   ],
   "source": [
    "\"\"\"Bernoulli Distribution models a random experiment with only two possible outcomes, typically labeled as \"success\" and \"failure,\" where success has a probability of p and failure has a probability of (1 - p).\n",
    "Example: Flipping a coin (success = heads, failure = tails) with probability p of getting heads.\n",
    "Difference between Bernoulli and Binomial Distribution:\n",
    "\n",
    "Bernoulli is for a single trial with two outcomes, while Binomial is for a fixed number of independent Bernoulli trials.\n",
    "In Binomial, you count the number of successes in a fixed number of trials, while Bernoulli is just a single trial.\"\"\""
   ]
  },
  {
   "cell_type": "code",
   "execution_count": 12,
   "id": "366f5fde-2293-4850-84ea-9e9718226477",
   "metadata": {},
   "outputs": [],
   "source": [
    "# question6"
   ]
  },
  {
   "cell_type": "code",
   "execution_count": 13,
   "id": "70313de8-f40a-4bdc-aedc-98d3c8d755ca",
   "metadata": {},
   "outputs": [
    {
     "data": {
      "text/plain": [
       "'Z = (X - μ) / σ\\n\\nX is the value of interest (in this case, 60).\\nμ is the mean (50).\\nσ is the standard deviation (10).\\nCalculate the z-score:\\nZ = (60 - 50) / 10 = 1\\n\\nNow, use a standard normal distribution table or calculator to find the probability that Z > 1. This probability represents the area under the standard normal curve to the right of Z = 1. You can find this probability, which corresponds to the probability of the value being greater than 60.'"
      ]
     },
     "execution_count": 13,
     "metadata": {},
     "output_type": "execute_result"
    }
   ],
   "source": [
    "    \"\"\"Z = (X - μ) / σ\n",
    "\n",
    "X is the value of interest (in this case, 60).\n",
    "μ is the mean (50).\n",
    "σ is the standard deviation (10).\n",
    "Calculate the z-score:\n",
    "Z = (60 - 50) / 10 = 1\n",
    "\n",
    "Now, use a standard normal distribution table or calculator to find the probability that Z > 1. This probability represents the area under the standard normal curve to the right of Z = 1. You can find this probability, which corresponds to the probability of the value being greater than 60.\"\"\""
   ]
  },
  {
   "cell_type": "code",
   "execution_count": 14,
   "id": "37f02a20-cd1d-458b-bb3a-99b483ddb1a8",
   "metadata": {},
   "outputs": [],
   "source": [
    "# question7"
   ]
  },
  {
   "cell_type": "code",
   "execution_count": 15,
   "id": "92b9bb40-2107-4538-bef9-5fdccd04d4b8",
   "metadata": {},
   "outputs": [
    {
     "data": {
      "text/plain": [
       "'Uniform Distribution is a probability distribution where all outcomes or intervals are equally likely. In a continuous uniform distribution, every value within a given range has the same probability of occurring.\\nExample: Rolling a fair six-sided die. Each outcome (1, 2, 3, 4, 5, 6) has an equal probability of 1/6.'"
      ]
     },
     "execution_count": 15,
     "metadata": {},
     "output_type": "execute_result"
    }
   ],
   "source": [
    "\"\"\"Uniform Distribution is a probability distribution where all outcomes or intervals are equally likely. In a continuous uniform distribution, every value within a given range has the same probability of occurring.\n",
    "Example: Rolling a fair six-sided die. Each outcome (1, 2, 3, 4, 5, 6) has an equal probability of 1/6.\"\"\""
   ]
  },
  {
   "cell_type": "code",
   "execution_count": null,
   "id": "b6d2aa65-265e-4a30-9c08-0c24a28633fd",
   "metadata": {},
   "outputs": [],
   "source": []
  }
 ],
 "metadata": {
  "kernelspec": {
   "display_name": "Python 3 (ipykernel)",
   "language": "python",
   "name": "python3"
  },
  "language_info": {
   "codemirror_mode": {
    "name": "ipython",
    "version": 3
   },
   "file_extension": ".py",
   "mimetype": "text/x-python",
   "name": "python",
   "nbconvert_exporter": "python",
   "pygments_lexer": "ipython3",
   "version": "3.10.8"
  }
 },
 "nbformat": 4,
 "nbformat_minor": 5
}
