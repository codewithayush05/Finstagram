{
 "cells": [
  {
   "cell_type": "code",
   "execution_count": 1,
   "id": "bd830b66-f2e9-4963-bf7c-8b7d5eaf45ec",
   "metadata": {},
   "outputs": [],
   "source": [
    "# question1"
   ]
  },
  {
   "cell_type": "code",
   "execution_count": 2,
   "id": "1291bbab-8b23-41c3-a1e7-0f309c03c4fc",
   "metadata": {},
   "outputs": [
    {
     "data": {
      "text/plain": [
       "'Independence: Observations within each group are independent of each other.\\nNormality: The populations from which the samples are drawn should follow a normal distribution.\\nHomogeneity of variances: The variance within each group should be approximately equal.\\nViolations:\\n\\nViolations of independence can occur if data points are not truly independent, leading to incorrect results.\\nViolations of normality can impact the validity of p-values and confidence intervals.\\nViolations of homogeneity of variances can lead to biased estimates of group means and incorrect conclusions.'"
      ]
     },
     "execution_count": 2,
     "metadata": {},
     "output_type": "execute_result"
    }
   ],
   "source": [
    "\"\"\"Independence: Observations within each group are independent of each other.\n",
    "Normality: The populations from which the samples are drawn should follow a normal distribution.\n",
    "Homogeneity of variances: The variance within each group should be approximately equal.\n",
    "Violations:\n",
    "\n",
    "Violations of independence can occur if data points are not truly independent, leading to incorrect results.\n",
    "Violations of normality can impact the validity of p-values and confidence intervals.\n",
    "Violations of homogeneity of variances can lead to biased estimates of group means and incorrect conclusions.\"\"\""
   ]
  },
  {
   "cell_type": "code",
   "execution_count": 3,
   "id": "83f76a09-7f01-49e0-8ee4-d27928a221e3",
   "metadata": {},
   "outputs": [],
   "source": [
    "# question2"
   ]
  },
  {
   "cell_type": "code",
   "execution_count": 4,
   "id": "557faf2d-11cb-487c-98f4-6d33016d08ea",
   "metadata": {},
   "outputs": [
    {
     "data": {
      "text/plain": [
       "'One-Way ANOVA: Used when comparing means across two or more independent groups.\\nTwo-Way ANOVA: Used when there are two independent variables or factors.\\nRepeated Measures ANOVA: Used when measurements are taken on the same subjects under different conditions.'"
      ]
     },
     "execution_count": 4,
     "metadata": {},
     "output_type": "execute_result"
    }
   ],
   "source": [
    "\"\"\"One-Way ANOVA: Used when comparing means across two or more independent groups.\n",
    "Two-Way ANOVA: Used when there are two independent variables or factors.\n",
    "Repeated Measures ANOVA: Used when measurements are taken on the same subjects under different conditions.\"\"\""
   ]
  },
  {
   "cell_type": "code",
   "execution_count": 5,
   "id": "561df5d2-0ddd-4c64-8238-ee99ddb6fe7f",
   "metadata": {},
   "outputs": [],
   "source": [
    "# question3"
   ]
  },
  {
   "cell_type": "code",
   "execution_count": 6,
   "id": "5609b33d-0635-4272-9a3c-7e7413270247",
   "metadata": {},
   "outputs": [
    {
     "data": {
      "text/plain": [
       "' Partitioning of variance in ANOVA involves dividing the total variance into different components, such as between-group variance and within-group variance. Understanding this concept is important because it helps determine whether the variation in the data is primarily due to differences between groups or random variation within groups, which is crucial for interpreting the significance of group differences.'"
      ]
     },
     "execution_count": 6,
     "metadata": {},
     "output_type": "execute_result"
    }
   ],
   "source": [
    "\"\"\" Partitioning of variance in ANOVA involves dividing the total variance into different components, such as between-group variance and within-group variance. Understanding this concept is important because it helps determine whether the variation in the data is primarily due to differences between groups or random variation within groups, which is crucial for interpreting the significance of group differences.\"\"\""
   ]
  },
  {
   "cell_type": "code",
   "execution_count": 7,
   "id": "730f7100-49d1-4f9e-93d1-c0f5f80befac",
   "metadata": {},
   "outputs": [],
   "source": [
    "# question4"
   ]
  },
  {
   "cell_type": "code",
   "execution_count": 9,
   "id": "5cadf760-95b8-4237-924d-3a38d5e64217",
   "metadata": {},
   "outputs": [
    {
     "name": "stdout",
     "output_type": "stream",
     "text": [
      "SST: 603.3333333333333\n",
      "SSE: 112.66666666666666\n",
      "SSR: 40.0\n"
     ]
    },
    {
     "name": "stderr",
     "output_type": "stream",
     "text": [
      "/tmp/ipykernel_77/3030750134.py:16: DeprecationWarning: Calling np.sum(generator) is deprecated, and in the future will give a different result. Use np.sum(np.fromiter(generator)) or the python sum builtin instead.\n",
      "  sst = np.sum((x - overall_mean) ** 2 for group_data in data for x in group_data)\n",
      "/tmp/ipykernel_77/3030750134.py:22: DeprecationWarning: Calling np.sum(generator) is deprecated, and in the future will give a different result. Use np.sum(np.fromiter(generator)) or the python sum builtin instead.\n",
      "  sse = np.sum((mean - overall_mean) ** 2 for mean in group_means)\n",
      "/tmp/ipykernel_77/3030750134.py:26: DeprecationWarning: Calling np.sum(generator) is deprecated, and in the future will give a different result. Use np.sum(np.fromiter(generator)) or the python sum builtin instead.\n",
      "  ssr = np.sum(x ** 2 for x in residuals)\n"
     ]
    }
   ],
   "source": [
    "import numpy as np\n",
    "from scipy import stats\n",
    "\n",
    "\n",
    "group1_data = [63, 65, 61, 59, 62]\n",
    "group2_data = [68, 72, 69, 71, 70]\n",
    "group3_data = [75, 78, 76, 79, 77]\n",
    "\n",
    "\n",
    "data = [group1_data, group2_data, group3_data]\n",
    "\n",
    "\n",
    "overall_mean = np.mean(np.concatenate(data))\n",
    "\n",
    "# Calculate SST (Total Sum of Squares)\n",
    "sst = np.sum((x - overall_mean) ** 2 for group_data in data for x in group_data)\n",
    "\n",
    "# Calculate group means\n",
    "group_means = [np.mean(group_data) for group_data in data]\n",
    "\n",
    "# Calculate SSE (Explained Sum of Squares)\n",
    "sse = np.sum((mean - overall_mean) ** 2 for mean in group_means)\n",
    "\n",
    "# Calculate residuals and SSR (Residual Sum of Squares)\n",
    "residuals = [x - group_means[i] for i, group_data in enumerate(data) for x in group_data]\n",
    "ssr = np.sum(x ** 2 for x in residuals)\n",
    "\n",
    "# Print the calculated values\n",
    "print(\"SST:\", sst)\n",
    "print(\"SSE:\", sse)\n",
    "print(\"SSR:\", ssr)\n"
   ]
  },
  {
   "cell_type": "code",
   "execution_count": 10,
   "id": "28a051e0-0d65-4b9a-bcc0-c0693ddc18c7",
   "metadata": {},
   "outputs": [],
   "source": [
    "# question5"
   ]
  },
  {
   "cell_type": "code",
   "execution_count": 11,
   "id": "50744233-d046-4983-84b7-afce2b6715f3",
   "metadata": {},
   "outputs": [
    {
     "data": {
      "text/plain": [
       "\" To calculate main effects and interaction effects in a two-way ANOVA using Python, you can use libraries like Statsmodels or SciPy. Main effects represent the effects of individual factors, while interaction effects represent how factors interact with each other. The code for this analysis can be more complex and specific to your dataset, so it's best to refer to documentation and tutorials for your chosen library.\""
      ]
     },
     "execution_count": 11,
     "metadata": {},
     "output_type": "execute_result"
    }
   ],
   "source": [
    "\"\"\" To calculate main effects and interaction effects in a two-way ANOVA using Python, you can use libraries like Statsmodels or SciPy. Main effects represent the effects of individual factors, while interaction effects represent how factors interact with each other. The code for this analysis can be more complex and specific to your dataset, so it's best to refer to documentation and tutorials for your chosen library.\"\"\""
   ]
  },
  {
   "cell_type": "code",
   "execution_count": 12,
   "id": "ba88bdff-ee4e-4390-a5dc-86f5b8cfa6fe",
   "metadata": {},
   "outputs": [],
   "source": [
    "# question6"
   ]
  },
  {
   "cell_type": "code",
   "execution_count": 13,
   "id": "5efeeb91-d324-4114-ae40-a8a56372697b",
   "metadata": {},
   "outputs": [
    {
     "data": {
      "text/plain": [
       "'A one-way ANOVA with an F-statistic of 5.23 and a p-value of 0.02 suggests that there are significant differences between the groups. Specifically:\\n\\nThe F-statistic indicates the ratio of between-group variance to within-group variance.\\nThe p-value (0.02) is less than the significance level (e.g., 0.05), suggesting that at least one group mean is significantly different from the others.\\nInterpretation: There is evidence to conclude that there are significant differences in at least one pair of group means. Further post-hoc tests can help identify which groups differ from each other.'"
      ]
     },
     "execution_count": 13,
     "metadata": {},
     "output_type": "execute_result"
    }
   ],
   "source": [
    "\"\"\"A one-way ANOVA with an F-statistic of 5.23 and a p-value of 0.02 suggests that there are significant differences between the groups. Specifically:\n",
    "\n",
    "The F-statistic indicates the ratio of between-group variance to within-group variance.\n",
    "The p-value (0.02) is less than the significance level (e.g., 0.05), suggesting that at least one group mean is significantly different from the others.\n",
    "Interpretation: There is evidence to conclude that there are significant differences in at least one pair of group means. Further post-hoc tests can help identify which groups differ from each other.\"\"\""
   ]
  },
  {
   "cell_type": "code",
   "execution_count": 14,
   "id": "04f46e6a-448d-4156-bc18-87fabd62ac59",
   "metadata": {},
   "outputs": [],
   "source": [
    "# question7"
   ]
  },
  {
   "cell_type": "code",
   "execution_count": 15,
   "id": "dff2f266-f922-46b2-8fa3-e40bec00c0d1",
   "metadata": {},
   "outputs": [
    {
     "data": {
      "text/plain": [
       "'Use techniques like imputation or mean substitution to handle missing data.\\nDifferent methods can lead to different results, so sensitivity analysis is essential.\\nConsequences include biased estimates and incorrect conclusions if not handled properly.'"
      ]
     },
     "execution_count": 15,
     "metadata": {},
     "output_type": "execute_result"
    }
   ],
   "source": [
    "\"\"\"Use techniques like imputation or mean substitution to handle missing data.\n",
    "Different methods can lead to different results, so sensitivity analysis is essential.\n",
    "Consequences include biased estimates and incorrect conclusions if not handled properly.\"\"\""
   ]
  },
  {
   "cell_type": "code",
   "execution_count": 16,
   "id": "b24466cd-76af-46d3-9c7f-9aaf0e40e371",
   "metadata": {},
   "outputs": [],
   "source": [
    "# question8"
   ]
  },
  {
   "cell_type": "code",
   "execution_count": 17,
   "id": "116d81b8-3ed4-4a43-a920-dbfdc47d44c7",
   "metadata": {},
   "outputs": [
    {
     "data": {
      "text/plain": [
       "\"Tukey's HSD (Honestly Significant Difference): Used when comparing all possible pairs of group means.\\nBonferroni correction: Controls familywise error rate when conducting multiple pairwise comparisons.\\nScheffe's method: Used when sample sizes are unequal or group variances are unequal.\\nPost-hoc tests are necessary when you reject the null hypothesis in ANOVA to determine which specific group(s) differ significantly from others.\""
      ]
     },
     "execution_count": 17,
     "metadata": {},
     "output_type": "execute_result"
    }
   ],
   "source": [
    "\"\"\"Tukey's HSD (Honestly Significant Difference): Used when comparing all possible pairs of group means.\n",
    "Bonferroni correction: Controls familywise error rate when conducting multiple pairwise comparisons.\n",
    "Scheffe's method: Used when sample sizes are unequal or group variances are unequal.\n",
    "Post-hoc tests are necessary when you reject the null hypothesis in ANOVA to determine which specific group(s) differ significantly from others.\"\"\""
   ]
  },
  {
   "cell_type": "code",
   "execution_count": 18,
   "id": "35cb8bb5-c98a-4b44-957c-281ca28e43f3",
   "metadata": {},
   "outputs": [],
   "source": [
    "# question9"
   ]
  },
  {
   "cell_type": "code",
   "execution_count": 19,
   "id": "b8e15838-8f44-4d21-ad90-c7c2a3fc8d15",
   "metadata": {},
   "outputs": [
    {
     "name": "stdout",
     "output_type": "stream",
     "text": [
      "One-Way ANOVA Results:\n",
      "F-Statistic: 84.5\n",
      "P-Value: 8.492118135109171e-08\n",
      "Reject the null hypothesis. There are significant differences between at least one pair of groups.\n"
     ]
    }
   ],
   "source": [
    "import numpy as np\n",
    "from scipy import stats\n",
    "\n",
    "# Replace with your actual data for each group\n",
    "group_A = [63, 65, 61, 59, 62]\n",
    "group_B = [68, 72, 69, 71, 70]\n",
    "group_C = [75, 78, 76, 79, 77]\n",
    "\n",
    "# Perform the one-way ANOVA\n",
    "f_statistic, p_value = stats.f_oneway(group_A, group_B, group_C)\n",
    "\n",
    "# Interpret the results\n",
    "alpha = 0.05  # Set your chosen significance level here\n",
    "\n",
    "print(\"One-Way ANOVA Results:\")\n",
    "print(\"F-Statistic:\", f_statistic)\n",
    "print(\"P-Value:\", p_value)\n",
    "\n",
    "if p_value < alpha:\n",
    "    print(\"Reject the null hypothesis. There are significant differences between at least one pair of groups.\")\n",
    "else:\n",
    "    print(\"Fail to reject the null hypothesis. There are no significant differences between the groups.\")"
   ]
  },
  {
   "cell_type": "code",
   "execution_count": 20,
   "id": "21cc4c64-37fd-490f-8f62-44553c14f458",
   "metadata": {},
   "outputs": [],
   "source": [
    "# question10"
   ]
  },
  {
   "cell_type": "code",
   "execution_count": 21,
   "id": "87ca293c-931e-4168-a071-fdaf65d43f84",
   "metadata": {},
   "outputs": [
    {
     "data": {
      "text/plain": [
       "' Conducting a two-way ANOVA in Python requires more detailed code and data, which is best done using libraries like Statsmodels or SciPy. The F-statistics and p-values for main effects and interaction effects can be obtained from the analysis output. Interpret the results based on the significance of these values.'"
      ]
     },
     "execution_count": 21,
     "metadata": {},
     "output_type": "execute_result"
    }
   ],
   "source": [
    "\"\"\" Conducting a two-way ANOVA in Python requires more detailed code and data, which is best done using libraries like Statsmodels or SciPy. The F-statistics and p-values for main effects and interaction effects can be obtained from the analysis output. Interpret the results based on the significance of these values.\"\"\""
   ]
  },
  {
   "cell_type": "code",
   "execution_count": 22,
   "id": "15ef008e-e347-4cfb-b916-8f1089625384",
   "metadata": {},
   "outputs": [],
   "source": [
    "# question11"
   ]
  },
  {
   "cell_type": "code",
   "execution_count": 23,
   "id": "30d5c748-f05b-4b3e-ba40-58459bfb0d33",
   "metadata": {},
   "outputs": [
    {
     "name": "stdout",
     "output_type": "stream",
     "text": [
      "There is no significant difference between the two groups.\n",
      "t-statistic: 1.8624855594115104\n",
      "p-value: 0.0995498246582126\n"
     ]
    }
   ],
   "source": [
    "import numpy as np\n",
    "from scipy import stats\n",
    "\n",
    "# Sample data for two groups (replace with your actual data)\n",
    "group1_data = [72, 75, 78, 80, 82]  # Data for group 1\n",
    "group2_data = [68, 70, 73, 76, 77]  # Data for group 2\n",
    "\n",
    "# Perform the two-sample t-test\n",
    "t_statistic, p_value = stats.ttest_ind(group1_data, group2_data)\n",
    "\n",
    "# Define the significance level (alpha)\n",
    "alpha = 0.05\n",
    "\n",
    "# Interpret the results\n",
    "if p_value < alpha:\n",
    "    print(\"There is a significant difference between the two groups.\")\n",
    "else:\n",
    "    print(\"There is no significant difference between the two groups.\")\n",
    "\n",
    "# Print the t-statistic and p-value\n",
    "print(\"t-statistic:\", t_statistic)\n",
    "print(\"p-value:\", p_value)\n"
   ]
  },
  {
   "cell_type": "code",
   "execution_count": 24,
   "id": "ad3a2393-e126-414b-8221-a211e2457508",
   "metadata": {},
   "outputs": [],
   "source": [
    "# question12"
   ]
  },
  {
   "cell_type": "code",
   "execution_count": null,
   "id": "59510315-b93d-4d01-ab3d-dfa66d54024d",
   "metadata": {},
   "outputs": [],
   "source": [
    "import pandas as pd\n",
    "import numpy as np\n",
    "import statsmodels.api as sm\n",
    "from statsmodels.formula.api import ols\n",
    "from statsmodels.stats.multicomp import pairwise_tukeyhsd\n",
    "\n",
    "# Sample data for daily sales (replace with your actual data)\n",
    "data = {\n",
    "    'Store_A': [200, 220, 210, 190, 205, 215, 198, 210, 205, 200, 215, 225, 198, 220, 210, 190, 205, 215, 198, 210, 205, 200, 215, 225, 198, 220, 210, 190, 205, 215],\n",
    "    'Store_B': [180, 195, 185, 170, 175, 190, 178, 185, 175, 180, 190, 200, 178, 195, 185, 170, 175, 190, 178, 185, 175, 180, 190, 200, 178, 195, 185, 170, 175, 190],\n",
    "    'Store_C': [250, 265, 260, 245, 255, 270, 248, 260, 255, 250, 270, 280, 248, 265, 260, 245, 255, 270, 248, 260, 255, 250, 270, 280, 248, 265, 260, 245, 255, 270]\n",
    "}\n",
    "\n",
    "# Create a DataFrame\n",
    "df = pd.DataFrame(data)\n",
    "\n",
    "# Perform the repeated measures ANOVA\n",
    "formula = 'np.log(sales) ~ C(store)'\n",
    "model = ols(formula, data=df).fit()\n",
    "anova_table = sm.stats.anova_lm(model, typ=2)\n",
    "\n",
    "# Interpret the ANOVA results\n",
    "alpha = 0.05\n",
    "p_value = anova_table['PR(>F)']['C(store)']\n",
    "\n",
    "if p_value < alpha:\n",
    "    print(\"There are significant differences in sales between the stores.\")\n",
    "else:\n",
    "    print(\"There are no significant differences in sales between the stores.\")\n",
    "\n",
    "# Perform a post-hoc Tukey's HSD test\n",
    "posthoc = pairwise_tukeyhsd(df['np.log(sales)'], df['store'], alpha=0.05)\n",
    "print(posthoc)\n"
   ]
  },
  {
   "cell_type": "code",
   "execution_count": null,
   "id": "d90dab98-ca46-4c7c-b342-8df214128c27",
   "metadata": {},
   "outputs": [],
   "source": []
  }
 ],
 "metadata": {
  "kernelspec": {
   "display_name": "Python 3 (ipykernel)",
   "language": "python",
   "name": "python3"
  },
  "language_info": {
   "codemirror_mode": {
    "name": "ipython",
    "version": 3
   },
   "file_extension": ".py",
   "mimetype": "text/x-python",
   "name": "python",
   "nbconvert_exporter": "python",
   "pygments_lexer": "ipython3",
   "version": "3.10.8"
  }
 },
 "nbformat": 4,
 "nbformat_minor": 5
}
