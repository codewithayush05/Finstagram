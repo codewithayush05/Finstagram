{
 "cells": [
  {
   "cell_type": "code",
   "execution_count": 1,
   "id": "f6dd2545-d13d-4ac3-9457-b84e48250c5d",
   "metadata": {},
   "outputs": [],
   "source": [
    "# question 1\n"
   ]
  },
  {
   "cell_type": "code",
   "execution_count": 2,
   "id": "253f1469-e775-4034-ae62-a81c9d18f9be",
   "metadata": {},
   "outputs": [],
   "source": [
    "# def keyword use for create function"
   ]
  },
  {
   "cell_type": "code",
   "execution_count": 53,
   "id": "caab8c09-7a02-42c0-b8fa-477f05a60b38",
   "metadata": {},
   "outputs": [],
   "source": [
    "def getoddnumbers():\n",
    "    l1=[]\n",
    "    for i in range(1,25): \n",
    "        if  i % 2 !=0:\n",
    "            l1.append(i)\n",
    "    print(l1)\n",
    "\n"
   ]
  },
  {
   "cell_type": "code",
   "execution_count": 54,
   "id": "f70a04aa-1ff6-483a-bdf3-31a400a9a1b5",
   "metadata": {},
   "outputs": [
    {
     "name": "stdout",
     "output_type": "stream",
     "text": [
      "[1, 3, 5, 7, 9, 11, 13, 15, 17, 19, 21, 23]\n"
     ]
    }
   ],
   "source": [
    "getoddnumbers()"
   ]
  },
  {
   "cell_type": "code",
   "execution_count": 55,
   "id": "eb76f32b-8880-4d7a-adf8-ef1e66617b46",
   "metadata": {},
   "outputs": [],
   "source": [
    "# question 2"
   ]
  },
  {
   "cell_type": "code",
   "execution_count": 56,
   "id": "bab77a8b-ccd7-4b95-b5b9-3a1460a09040",
   "metadata": {},
   "outputs": [],
   "source": [
    "# args use for dynamic input"
   ]
  },
  {
   "cell_type": "code",
   "execution_count": 88,
   "id": "cef61862-10d8-4069-8f52-28c76bbc13a5",
   "metadata": {},
   "outputs": [],
   "source": [
    "def question2(*args): \n",
    "    c = 0\n",
    "    for i in args:\n",
    "        c += i\n",
    "    return c"
   ]
  },
  {
   "cell_type": "code",
   "execution_count": 89,
   "id": "dcbf4f13-ba29-43ad-a57a-dc8b2d666972",
   "metadata": {},
   "outputs": [
    {
     "data": {
      "text/plain": [
       "26"
      ]
     },
     "execution_count": 89,
     "metadata": {},
     "output_type": "execute_result"
    }
   ],
   "source": [
    "question2(1,2,2,3,5,6,7)"
   ]
  },
  {
   "cell_type": "code",
   "execution_count": 97,
   "id": "3fb25117-439a-4438-8b15-bc4c164037d4",
   "metadata": {},
   "outputs": [],
   "source": [
    "def kwargs(**kwargs):\n",
    "    d={}\n",
    "    for key, value in kwargs.items():\n",
    "        d[key]=value\n",
    "        return d"
   ]
  },
  {
   "cell_type": "code",
   "execution_count": 98,
   "id": "f34a36f9-1d9f-4e0b-874c-b533a7c36401",
   "metadata": {},
   "outputs": [
    {
     "data": {
      "text/plain": [
       "{'name': 'ayush'}"
      ]
     },
     "execution_count": 98,
     "metadata": {},
     "output_type": "execute_result"
    }
   ],
   "source": [
    "kwargs(name=\"ayush\")"
   ]
  },
  {
   "cell_type": "code",
   "execution_count": 99,
   "id": "96a75ede-0672-4084-86f2-4bb770de8146",
   "metadata": {},
   "outputs": [],
   "source": [
    "# question 3"
   ]
  },
  {
   "cell_type": "code",
   "execution_count": 102,
   "id": "b71e73e6-4dfa-444c-b5b8-c1117f7257cc",
   "metadata": {},
   "outputs": [
    {
     "name": "stdout",
     "output_type": "stream",
     "text": [
      "2\n",
      "4\n",
      "6\n",
      "8\n",
      "10\n"
     ]
    }
   ],
   "source": [
    "l = [2, 4, 6, 8, 10, 12, 14, 16, 18, 20]\n",
    "\n",
    "iterator = iter(l)\n",
    "\n",
    "for i in range(5):\n",
    "    element = next(iterator)\n",
    "    print(element)"
   ]
  },
  {
   "cell_type": "code",
   "execution_count": 111,
   "id": "10675385-2e0b-43ac-b92d-b31c85e23d9d",
   "metadata": {},
   "outputs": [],
   "source": [
    "# question 4 generator function is use for generate and genrator function need less memory"
   ]
  },
  {
   "cell_type": "code",
   "execution_count": 105,
   "id": "d0c38c5e-b615-4722-9c22-4e49f24b8258",
   "metadata": {},
   "outputs": [],
   "source": [
    "def gen(a):\n",
    "    l=0\n",
    "    while l<= a:\n",
    "        yield l\n",
    "        l += 2"
   ]
  },
  {
   "cell_type": "code",
   "execution_count": 106,
   "id": "08c3e14d-b3bc-4ac1-aac2-98778dc08a9e",
   "metadata": {},
   "outputs": [],
   "source": [
    "genrator = gen(10)"
   ]
  },
  {
   "cell_type": "code",
   "execution_count": 110,
   "id": "97c66d96-b7af-4b1e-bfe1-cee1380d365f",
   "metadata": {},
   "outputs": [
    {
     "name": "stdout",
     "output_type": "stream",
     "text": [
      "0\n",
      "2\n",
      "4\n",
      "6\n",
      "8\n",
      "10\n"
     ]
    }
   ],
   "source": [
    "for i in genrator:\n",
    "    print (i)"
   ]
  },
  {
   "cell_type": "code",
   "execution_count": 112,
   "id": "4f4ea30d-c668-4ca9-a195-5a41da51c624",
   "metadata": {},
   "outputs": [],
   "source": [
    "# question 5"
   ]
  },
  {
   "cell_type": "code",
   "execution_count": 115,
   "id": "bd5ce6ab-4408-484f-be6a-cc5b23362600",
   "metadata": {},
   "outputs": [
    {
     "name": "stdout",
     "output_type": "stream",
     "text": [
      "2\n",
      "3\n",
      "5\n",
      "7\n",
      "11\n",
      "13\n",
      "17\n",
      "19\n",
      "23\n",
      "29\n",
      "31\n",
      "37\n",
      "41\n",
      "43\n",
      "47\n",
      "53\n",
      "59\n",
      "61\n",
      "67\n",
      "71\n"
     ]
    }
   ],
   "source": [
    "def prime(num):\n",
    "    if num < 2:\n",
    "        return False\n",
    "    for i in range(2, int(num**0.5) + 1):\n",
    "        if num % i == 0:\n",
    "            return False\n",
    "    return True\n",
    "\n",
    "def primesgenerator(limit):\n",
    "    num = 2\n",
    "    while num < limit:\n",
    "        if prime(num):\n",
    "            yield num\n",
    "        num += 1\n",
    "\n",
    "\n",
    "primegen = primesgenerator(1000)\n",
    "\n",
    "\n",
    "for i in range(20):\n",
    "    print(next(primegen))"
   ]
  },
  {
   "cell_type": "code",
   "execution_count": 116,
   "id": "a48bea1d-aa22-46c5-a7b5-3f5dd61fbfe8",
   "metadata": {},
   "outputs": [],
   "source": [
    "#question 6"
   ]
  },
  {
   "cell_type": "code",
   "execution_count": 127,
   "id": "5dda8266-5140-49df-ae66-36f01accf59f",
   "metadata": {},
   "outputs": [
    {
     "name": "stdout",
     "output_type": "stream",
     "text": [
      "[0, 1, 1, 2, 3, 5, 8, 13, 21, 34]\n"
     ]
    }
   ],
   "source": [
    "def fibonacci(n):\n",
    "    fib_numbers = [0, 1]\n",
    "    while len(fib_numbers) < n:\n",
    "        next_number = fib_numbers[-1] + fib_numbers[-2]\n",
    "        fib_numbers.append(next_number)\n",
    "    return fib_numbers\n",
    "\n",
    "fibonacciii = fibonacci(10)\n",
    "print(fibonacciii)\n"
   ]
  },
  {
   "cell_type": "code",
   "execution_count": 128,
   "id": "d68c3dc5-247a-4183-a270-9852f7fc9ef8",
   "metadata": {},
   "outputs": [],
   "source": [
    "# question 7"
   ]
  },
  {
   "cell_type": "code",
   "execution_count": 138,
   "id": "27109196-e2b3-4f84-b76e-74afe99ee17e",
   "metadata": {},
   "outputs": [
    {
     "name": "stdout",
     "output_type": "stream",
     "text": [
      "['p']\n",
      "['p', 'w']\n",
      "['p', 'w', 's']\n",
      "['p', 'w', 's', 'k']\n",
      "['p', 'w', 's', 'k', 'i']\n",
      "['p', 'w', 's', 'k', 'i', 'l']\n",
      "['p', 'w', 's', 'k', 'i', 'l', 'l']\n",
      "['p', 'w', 's', 'k', 'i', 'l', 'l', 's']\n"
     ]
    }
   ],
   "source": [
    "l = 'pwskills'\n",
    "l1=[]\n",
    "for i in l:\n",
    "    l1.append(i)\n",
    "    print(l1)"
   ]
  },
  {
   "cell_type": "code",
   "execution_count": 139,
   "id": "c541150b-b4e9-4a98-8d6b-f6c9e9f869c6",
   "metadata": {},
   "outputs": [],
   "source": [
    "# question 8"
   ]
  },
  {
   "cell_type": "code",
   "execution_count": 140,
   "id": "c81bab92-ec9d-4e6b-8add-9062ec3cd992",
   "metadata": {},
   "outputs": [
    {
     "name": "stdout",
     "output_type": "stream",
     "text": [
      "12321 is a palindrome.\n"
     ]
    }
   ],
   "source": [
    "def is_palindrome(num):\n",
    "    original_num = num\n",
    "    reversed_num = 0\n",
    "    while num > 0:\n",
    "        digit = num % 10\n",
    "        reversed_num = reversed_num * 10 + digit\n",
    "        num //= 10\n",
    "    return original_num == reversed_num\n",
    "\n",
    "num_to_check = 12321\n",
    "if is_palindrome(num_to_check):\n",
    "    print(f\"{num_to_check} is a palindrome.\")\n",
    "else:\n",
    "    print(f\"{num_to_check} is not a palindrome.\")\n"
   ]
  },
  {
   "cell_type": "code",
   "execution_count": 141,
   "id": "cade2e64-1170-4855-b783-319f4c57efa8",
   "metadata": {},
   "outputs": [],
   "source": [
    "# question 9"
   ]
  },
  {
   "cell_type": "code",
   "execution_count": 143,
   "id": "d523f074-5818-4556-a34c-d35af6abc544",
   "metadata": {},
   "outputs": [
    {
     "name": "stdout",
     "output_type": "stream",
     "text": [
      "[1, 3, 5, 7, 9, 11, 13, 15, 17, 19, 21, 23, 25, 27, 29, 31, 33, 35, 37, 39, 41, 43, 45, 47, 49, 51, 53, 55, 57, 59, 61, 63, 65, 67, 69, 71, 73, 75, 77, 79, 81, 83, 85, 87, 89, 91, 93, 95, 97, 99]\n"
     ]
    }
   ],
   "source": [
    "oddnumbers = [i for i in range(1, 101) if i % 2 != 0]\n",
    "print(oddnumbers)\n"
   ]
  },
  {
   "cell_type": "code",
   "execution_count": null,
   "id": "271f9c86-c838-4439-9ade-0ccdedc5cfd8",
   "metadata": {},
   "outputs": [],
   "source": []
  }
 ],
 "metadata": {
  "kernelspec": {
   "display_name": "Python 3 (ipykernel)",
   "language": "python",
   "name": "python3"
  },
  "language_info": {
   "codemirror_mode": {
    "name": "ipython",
    "version": 3
   },
   "file_extension": ".py",
   "mimetype": "text/x-python",
   "name": "python",
   "nbconvert_exporter": "python",
   "pygments_lexer": "ipython3",
   "version": "3.10.8"
  }
 },
 "nbformat": 4,
 "nbformat_minor": 5
}
