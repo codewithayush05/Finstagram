{
 "cells": [
  {
   "cell_type": "code",
   "execution_count": 1,
   "id": "59c38440-aa21-4d74-ad78-6a9dccff078d",
   "metadata": {},
   "outputs": [
    {
     "data": {
      "text/plain": [
       "'question 1 An exception in Python is a circumstance that happens while a program is being executed and obstructs the usual flow of instructions. When there is a bug in the code or an unexpected circumstance, exceptions are triggered. They enable you to gracefully manage mistakes and stop the software from crashing.\\n\\nThe primary distinction between syntax mistakes and exceptions is found in the nature of each:\\n\\n\\n\\nSyntax mistakes: These happen when the code deviates from the syntax of the Python language. They often stop the code from being executed by the Python interpreter before the application even begins to run.\\n\\nExceptions: These happen when code is being executed and can be managed by the programmer. They might develop as a result of things like erroneous user input, file not found, '"
      ]
     },
     "execution_count": 1,
     "metadata": {},
     "output_type": "execute_result"
    }
   ],
   "source": [
    "\"\"\"question 1 An exception in Python is a circumstance that happens while a program is being executed and obstructs the usual flow of instructions. When there is a bug in the code or an unexpected circumstance, exceptions are triggered. They enable you to gracefully manage mistakes and stop the software from crashing.\n",
    "\n",
    "The primary distinction between syntax mistakes and exceptions is found in the nature of each:\n",
    "\n",
    "\n",
    "\n",
    "Syntax mistakes: These happen when the code deviates from the syntax of the Python language. They often stop the code from being executed by the Python interpreter before the application even begins to run.\n",
    "\n",
    "Exceptions: These happen when code is being executed and can be managed by the programmer. They might develop as a result of things like erroneous user input, file not found, \"\"\""
   ]
  },
  {
   "cell_type": "code",
   "execution_count": 2,
   "id": "5d4ca552-22d1-45de-90f7-2cd792bbd438",
   "metadata": {},
   "outputs": [
    {
     "name": "stdin",
     "output_type": "stream",
     "text": [
      "Enter a number:  0\n"
     ]
    },
    {
     "name": "stdout",
     "output_type": "stream",
     "text": [
      "Error: Cannot divide by zero.\n"
     ]
    }
   ],
   "source": [
    "# When an exception is not handled, it leads to what's called an \"unhandled exception\" or a \"runtime error.\" This means that the normal flow of the program is disrupted, and the program terminates abruptly, displaying an error message.\n",
    "\n",
    "try:\n",
    "    num = int(input(\"Enter a number: \"))\n",
    "    result = 10 / num\n",
    "except ZeroDivisionError:\n",
    "    print(\"Error: Cannot divide by zero.\")"
   ]
  },
  {
   "cell_type": "code",
   "execution_count": 3,
   "id": "bbcf0a95-2eea-49fe-8a2d-110fd23e37c4",
   "metadata": {},
   "outputs": [],
   "source": [
    "# question 3"
   ]
  },
  {
   "cell_type": "code",
   "execution_count": 4,
   "id": "19f1e4c8-a9eb-4568-a5d0-e736e94560d3",
   "metadata": {},
   "outputs": [
    {
     "name": "stdin",
     "output_type": "stream",
     "text": [
      "Enter a number:  15\n"
     ]
    },
    {
     "name": "stdout",
     "output_type": "stream",
     "text": [
      "Result: 0.6666666666666666\n",
      "Execution completed.\n"
     ]
    }
   ],
   "source": [
    "try:\n",
    "    num = int(input(\"Enter a number: \"))\n",
    "    result = 10 / num\n",
    "except ZeroDivisionError:\n",
    "    print(\"Error: Cannot divide by zero.\")\n",
    "else:\n",
    "    print(\"Result:\", result)\n",
    "finally:\n",
    "    print(\"Execution completed.\")"
   ]
  },
  {
   "cell_type": "code",
   "execution_count": 5,
   "id": "ef8f1f06-5fad-49f0-90df-a37efdbdcb20",
   "metadata": {},
   "outputs": [],
   "source": [
    "# question 4"
   ]
  },
  {
   "cell_type": "code",
   "execution_count": 7,
   "id": "95aba760-2159-49d6-af10-faad37c9715d",
   "metadata": {},
   "outputs": [
    {
     "name": "stdin",
     "output_type": "stream",
     "text": [
      "Enter a positive number:  5\n"
     ]
    },
    {
     "name": "stdout",
     "output_type": "stream",
     "text": [
      "Result: 2.0\n",
      "Execution completed.\n"
     ]
    }
   ],
   "source": [
    "try:\n",
    "    num = int(input(\"Enter a positive number: \"))\n",
    "    if num <= 0:\n",
    "        raise ValueError(\"Number must be positive.\")\n",
    "except ValueError as ve:\n",
    "    print(\"Error:\", ve)\n",
    "else:\n",
    "    result = 10 / num\n",
    "    print(\"Result:\", result)\n",
    "finally:\n",
    "    print(\"Execution completed.\")"
   ]
  },
  {
   "cell_type": "code",
   "execution_count": 8,
   "id": "183a18e0-406d-4b04-83bf-242e4514a2b2",
   "metadata": {},
   "outputs": [],
   "source": [
    "# question 5\n"
   ]
  },
  {
   "cell_type": "code",
   "execution_count": 9,
   "id": "e4505ead-a0e3-41d2-92bd-6c97f0c46a16",
   "metadata": {},
   "outputs": [
    {
     "name": "stdin",
     "output_type": "stream",
     "text": [
      "Enter a number:  20\n"
     ]
    },
    {
     "name": "stdout",
     "output_type": "stream",
     "text": [
      "Square root: 4.47213595499958\n"
     ]
    }
   ],
   "source": [
    "class NegativeNumberError(Exception):\n",
    "    pass\n",
    "\n",
    "def calculate_square_root(num):\n",
    "    if num < 0:\n",
    "        raise NegativeNumberError(\"Negative numbers not allowed.\")\n",
    "    return num ** 0.5\n",
    "\n",
    "try:\n",
    "    num = float(input(\"Enter a number: \"))\n",
    "    result = calculate_square_root(num)\n",
    "    print(\"Square root:\", result)\n",
    "except NegativeNumberError as nne:\n",
    "    print(\"Error:\", nne)\n",
    "except ValueError:\n",
    "    print(\"Invalid input. Please enter a valid number.\")"
   ]
  },
  {
   "cell_type": "code",
   "execution_count": null,
   "id": "15813ee9-7f56-4198-b187-c6b959db9153",
   "metadata": {},
   "outputs": [],
   "source": []
  }
 ],
 "metadata": {
  "kernelspec": {
   "display_name": "Python 3 (ipykernel)",
   "language": "python",
   "name": "python3"
  },
  "language_info": {
   "codemirror_mode": {
    "name": "ipython",
    "version": 3
   },
   "file_extension": ".py",
   "mimetype": "text/x-python",
   "name": "python",
   "nbconvert_exporter": "python",
   "pygments_lexer": "ipython3",
   "version": "3.10.8"
  }
 },
 "nbformat": 4,
 "nbformat_minor": 5
}
