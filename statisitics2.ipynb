{
 "cells": [
  {
   "cell_type": "code",
   "execution_count": 1,
   "id": "c9e0693c-bd4f-40ee-b4d1-c3188635e611",
   "metadata": {},
   "outputs": [],
   "source": [
    "# question1"
   ]
  },
  {
   "cell_type": "code",
   "execution_count": 3,
   "id": "c6048aa7-a4d3-4108-99cc-4d5119623d71",
   "metadata": {},
   "outputs": [
    {
     "data": {
      "text/plain": [
       "'a) Mean\\nb) Median\\nc) Mode'"
      ]
     },
     "execution_count": 3,
     "metadata": {},
     "output_type": "execute_result"
    }
   ],
   "source": [
    "\"\"\"a) Mean\n",
    "b) Median\n",
    "c) Mode\"\"\""
   ]
  },
  {
   "cell_type": "code",
   "execution_count": 4,
   "id": "4de99940-8c95-4cb7-9718-f8613f4ebc9c",
   "metadata": {},
   "outputs": [],
   "source": [
    "# question2"
   ]
  },
  {
   "cell_type": "code",
   "execution_count": 5,
   "id": "85fbe597-7518-4ed8-9252-0e7ecd2c65cb",
   "metadata": {},
   "outputs": [
    {
     "data": {
      "text/plain": [
       "'Mean: It is the arithmetic average of a dataset and is calculated by summing up all the values in the dataset and dividing by the number of values.\\nMedian: It is the middle value in a dataset when the values are arranged in ascending or descending order. If there is an even number of values, the median is the average of the two middle values.\\nMode: It is the value that appears most frequently in a dataset.\\nThese measures are used to measure the central tendency of a dataset by providing a single value that represents a \"typical\" or \"central\" value in the dataset. They help us understand where the data tends to cluster or concentrate.'"
      ]
     },
     "execution_count": 5,
     "metadata": {},
     "output_type": "execute_result"
    }
   ],
   "source": [
    "\"\"\"Mean: It is the arithmetic average of a dataset and is calculated by summing up all the values in the dataset and dividing by the number of values.\n",
    "Median: It is the middle value in a dataset when the values are arranged in ascending or descending order. If there is an even number of values, the median is the average of the two middle values.\n",
    "Mode: It is the value that appears most frequently in a dataset.\n",
    "These measures are used to measure the central tendency of a dataset by providing a single value that represents a \"typical\" or \"central\" value in the dataset. They help us understand where the data tends to cluster or concentrate.\"\"\""
   ]
  },
  {
   "cell_type": "code",
   "execution_count": 6,
   "id": "f3869e94-aa92-4d1c-b41a-8fb8bd5dbc6c",
   "metadata": {},
   "outputs": [],
   "source": [
    "# question3"
   ]
  },
  {
   "cell_type": "code",
   "execution_count": 7,
   "id": "cbbf16e1-9c8b-4a3e-be44-8f95b9509d23",
   "metadata": {},
   "outputs": [
    {
     "data": {
      "text/plain": [
       "'Mean: Sum of all values / Number of values = (sum of all values) / 16 = 2828.3 / 16 ≈ 176.77\\nMedian: When sorted in ascending order: [172.5, 175, 175, 176, 176, 176.2, 177, 177, 178, 178, 178, 178.2, 178.9, 179, 180]\\nMedian = (176 + 177) / 2 = 176.5\\nMode: 178 (as it appears most frequently)'"
      ]
     },
     "execution_count": 7,
     "metadata": {},
     "output_type": "execute_result"
    }
   ],
   "source": [
    "\"\"\"Mean: Sum of all values / Number of values = (sum of all values) / 16 = 2828.3 / 16 ≈ 176.77\n",
    "Median: When sorted in ascending order: [172.5, 175, 175, 176, 176, 176.2, 177, 177, 178, 178, 178, 178.2, 178.9, 179, 180]\n",
    "Median = (176 + 177) / 2 = 176.5\n",
    "Mode: 178 (as it appears most frequently)\"\"\""
   ]
  },
  {
   "cell_type": "code",
   "execution_count": 8,
   "id": "c8dd66af-8284-4155-96ce-a853f7901fcd",
   "metadata": {},
   "outputs": [],
   "source": [
    "# question4"
   ]
  },
  {
   "cell_type": "code",
   "execution_count": 9,
   "id": "336e5843-1bc9-44e7-828d-50e32e25f38b",
   "metadata": {},
   "outputs": [
    {
     "data": {
      "text/plain": [
       "'Calculate the mean (already calculated as 176.77 in Q3).\\nSubtract the mean from each data point to find the deviation.\\nSquare each deviation.\\nFind the mean of the squared deviations.\\nTake the square root of the mean of squared deviations.\\nAfter calculations, the standard deviation is approximately 2.15.'"
      ]
     },
     "execution_count": 9,
     "metadata": {},
     "output_type": "execute_result"
    }
   ],
   "source": [
    "\"\"\"Calculate the mean (already calculated as 176.77 in Q3).\n",
    "Subtract the mean from each data point to find the deviation.\n",
    "Square each deviation.\n",
    "Find the mean of the squared deviations.\n",
    "Take the square root of the mean of squared deviations.\n",
    "After calculations, the standard deviation is approximately 2.15.\"\"\""
   ]
  },
  {
   "cell_type": "code",
   "execution_count": 10,
   "id": "a7fdad8b-0a2b-4149-ad83-9bbedd3ca6e6",
   "metadata": {},
   "outputs": [],
   "source": [
    "# question5"
   ]
  },
  {
   "cell_type": "code",
   "execution_count": 11,
   "id": "77b24a2b-c530-4479-96bc-ca37575380ad",
   "metadata": {},
   "outputs": [
    {
     "data": {
      "text/plain": [
       "'Range: It is the difference between the maximum and minimum values in the dataset.\\nVariance: It measures how far each data point in the set is from the mean. A higher variance indicates greater spread.\\nStandard Deviation: It is the square root of the variance and provides a more interpretable measure of spread.'"
      ]
     },
     "execution_count": 11,
     "metadata": {},
     "output_type": "execute_result"
    }
   ],
   "source": [
    "\"\"\"Range: It is the difference between the maximum and minimum values in the dataset.\n",
    "Variance: It measures how far each data point in the set is from the mean. A higher variance indicates greater spread.\n",
    "Standard Deviation: It is the square root of the variance and provides a more interpretable measure of spread.\"\"\""
   ]
  },
  {
   "cell_type": "code",
   "execution_count": 12,
   "id": "a603f0ff-23ca-43a5-bcf3-b5a68e001beb",
   "metadata": {},
   "outputs": [],
   "source": [
    "# question6"
   ]
  },
  {
   "cell_type": "code",
   "execution_count": 13,
   "id": "e981c944-8cef-46eb-acae-3b81934e2ffb",
   "metadata": {},
   "outputs": [
    {
     "data": {
      "text/plain": [
       "'A Venn diagram is a graphical representation that uses circles to show the relationships between sets. It is often used to illustrate the similarities and differences between two or more sets by depicting their intersections and unique elements.'"
      ]
     },
     "execution_count": 13,
     "metadata": {},
     "output_type": "execute_result"
    }
   ],
   "source": [
    "\"\"\"A Venn diagram is a graphical representation that uses circles to show the relationships between sets. It is often used to illustrate the similarities and differences between two or more sets by depicting their intersections and unique elements.\"\"\""
   ]
  },
  {
   "cell_type": "code",
   "execution_count": 14,
   "id": "8b174d5f-a28d-42d4-a2e0-f93a638a698a",
   "metadata": {},
   "outputs": [],
   "source": [
    "# question7"
   ]
  },
  {
   "cell_type": "code",
   "execution_count": 16,
   "id": "d67d8c58-3d06-4041-9cff-38dbb1e0596d",
   "metadata": {},
   "outputs": [
    {
     "data": {
      "text/plain": [
       "'(i) A ∩ B (intersection): {2, 6}\\n(ii) A ⋃ B (union): {0, 2, 3, 4, 5, 6, 7, 8, 10}'"
      ]
     },
     "execution_count": 16,
     "metadata": {},
     "output_type": "execute_result"
    }
   ],
   "source": [
    "\"\"\"(i) A ∩ B (intersection): {2, 6}\n",
    "(ii) A ⋃ B (union): {0, 2, 3, 4, 5, 6, 7, 8, 10}\"\"\""
   ]
  },
  {
   "cell_type": "code",
   "execution_count": 17,
   "id": "ed4397e2-fa66-433b-aeb2-a62e04172bef",
   "metadata": {},
   "outputs": [],
   "source": [
    "# question8"
   ]
  },
  {
   "cell_type": "code",
   "execution_count": 18,
   "id": "ecbb83a5-4b12-458a-80fb-d538cf6bcc90",
   "metadata": {},
   "outputs": [
    {
     "data": {
      "text/plain": [
       "' Skewness in data refers to the lack of symmetry in its distribution. If data is right-skewed, it means that the right tail (larger values) of the distribution is longer or stretched compared to the left tail (smaller values).'"
      ]
     },
     "execution_count": 18,
     "metadata": {},
     "output_type": "execute_result"
    }
   ],
   "source": [
    "\"\"\" Skewness in data refers to the lack of symmetry in its distribution. If data is right-skewed, it means that the right tail (larger values) of the distribution is longer or stretched compared to the left tail (smaller values).\"\"\""
   ]
  },
  {
   "cell_type": "code",
   "execution_count": 19,
   "id": "ea21d583-fba2-4631-8105-946c7c03dc29",
   "metadata": {},
   "outputs": [],
   "source": [
    "# question("
   ]
  },
  {
   "cell_type": "code",
   "execution_count": 20,
   "id": "1ff2ad9e-bf7b-43f0-a52f-7f50a5e48255",
   "metadata": {},
   "outputs": [
    {
     "data": {
      "text/plain": [
       "'If data is right-skewed, the median will be positioned to the left of the mean. In a right-skewed distribution, the mean is typically greater than the median.'"
      ]
     },
     "execution_count": 20,
     "metadata": {},
     "output_type": "execute_result"
    }
   ],
   "source": [
    "\"\"\"If data is right-skewed, the median will be positioned to the left of the mean. In a right-skewed distribution, the mean is typically greater than the median.\"\"\""
   ]
  },
  {
   "cell_type": "code",
   "execution_count": 21,
   "id": "1cfc972e-3bb0-4140-9fcc-ae26e4fb6706",
   "metadata": {},
   "outputs": [],
   "source": [
    "# question10"
   ]
  },
  {
   "cell_type": "code",
   "execution_count": 22,
   "id": "2cc6af69-4c6a-41ff-abb9-27237889d432",
   "metadata": {},
   "outputs": [
    {
     "data": {
      "text/plain": [
       "'Covariance measures the degree to which two variables change together. It can be positive (both variables increase together), negative (one variable increases as the other decreases), or zero (no apparent relationship).\\nCorrelation measures the strength and direction of the linear relationship between two variables. It ranges from -1 (perfect negative correlation) to 1 (perfect positive correlation), with 0 indicating no linear correlation.\\nIn statistical analysis, covariance helps identify whether two variables are related, while correlation standardizes this relationship to a range of -1 to 1 for easy comparison and interpretation.'"
      ]
     },
     "execution_count": 22,
     "metadata": {},
     "output_type": "execute_result"
    }
   ],
   "source": [
    "\"\"\"Covariance measures the degree to which two variables change together. It can be positive (both variables increase together), negative (one variable increases as the other decreases), or zero (no apparent relationship).\n",
    "Correlation measures the strength and direction of the linear relationship between two variables. It ranges from -1 (perfect negative correlation) to 1 (perfect positive correlation), with 0 indicating no linear correlation.\n",
    "In statistical analysis, covariance helps identify whether two variables are related, while correlation standardizes this relationship to a range of -1 to 1 for easy comparison and interpretation.\"\"\""
   ]
  },
  {
   "cell_type": "code",
   "execution_count": 23,
   "id": "45bf0894-44b3-4dae-8e00-40ee57b0f4e6",
   "metadata": {},
   "outputs": [],
   "source": [
    "# question11"
   ]
  },
  {
   "cell_type": "code",
   "execution_count": 24,
   "id": "9c67e123-87e4-4b5c-bf7e-761365432a89",
   "metadata": {},
   "outputs": [
    {
     "data": {
      "text/plain": [
       "'Mean = (Sum of all data points) / (Number of data points)\\n\\nExample: For the dataset [12, 15, 18, 21, 24], the mean = (12 + 15 + 18 + 21 + 24) / 5 = 18.'"
      ]
     },
     "execution_count": 24,
     "metadata": {},
     "output_type": "execute_result"
    }
   ],
   "source": [
    "\"\"\"Mean = (Sum of all data points) / (Number of data points)\n",
    "\n",
    "Example: For the dataset [12, 15, 18, 21, 24], the mean = (12 + 15 + 18 + 21 + 24) / 5 = 18.\"\"\""
   ]
  },
  {
   "cell_type": "code",
   "execution_count": null,
   "id": "c04e01cd-5574-425a-8ef7-03035fa6c441",
   "metadata": {},
   "outputs": [],
   "source": [
    "# "
   ]
  }
 ],
 "metadata": {
  "kernelspec": {
   "display_name": "Python 3 (ipykernel)",
   "language": "python",
   "name": "python3"
  },
  "language_info": {
   "codemirror_mode": {
    "name": "ipython",
    "version": 3
   },
   "file_extension": ".py",
   "mimetype": "text/x-python",
   "name": "python",
   "nbconvert_exporter": "python",
   "pygments_lexer": "ipython3",
   "version": "3.10.8"
  }
 },
 "nbformat": 4,
 "nbformat_minor": 5
}
