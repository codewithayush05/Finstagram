{
 "cells": [
  {
   "cell_type": "code",
   "execution_count": 1,
   "id": "4b8f5ac5-1c2f-4734-9d2d-0008da100361",
   "metadata": {},
   "outputs": [],
   "source": [
    "# question 1"
   ]
  },
  {
   "cell_type": "code",
   "execution_count": 3,
   "id": "90da5bd5-9952-426e-9da6-c3a82a0052d3",
   "metadata": {},
   "outputs": [
    {
     "data": {
      "text/plain": [
       "'Multiprocessing in Python refers to the capability of creating and managing multiple processes to achieve parallelism and improve performance. Each process runs in its own memory space and can execute tasks concurrently, utilizing multiple CPU cores.\\n\\nUsefulness of Multiprocessing:\\n\\nImproved Performance: Multiprocessing allows tasks to be executed simultaneously on separate processes, leveraging multiple CPU cores and achieving parallelism. This can significantly speed up CPU-bound tasks.\\nEfficient Resource Utilization: Processes have their own memory space, enabling better utilization of system resources compared to threads that share the same memory.\\nIsolation: Processes are isolated from each other, reducing the likelihood of one process affecting the execution of another due to issues like race conditions or deadlocks.\\nSimplified Debugging: Processes are less likely to interfere with each other compared to threads, making debugging easier in some cases.'"
      ]
     },
     "execution_count": 3,
     "metadata": {},
     "output_type": "execute_result"
    }
   ],
   "source": [
    "\"\"\"Multiprocessing in Python refers to the capability of creating and managing multiple processes to achieve parallelism and improve performance. Each process runs in its own memory space and can execute tasks concurrently, utilizing multiple CPU cores.\n",
    "\n",
    "Usefulness of Multiprocessing:\n",
    "\n",
    "Improved Performance: Multiprocessing allows tasks to be executed simultaneously on separate processes, leveraging multiple CPU cores and achieving parallelism. This can significantly speed up CPU-bound tasks.\n",
    "Efficient Resource Utilization: Processes have their own memory space, enabling better utilization of system resources compared to threads that share the same memory.\n",
    "Isolation: Processes are isolated from each other, reducing the likelihood of one process affecting the execution of another due to issues like race conditions or deadlocks.\n",
    "Simplified Debugging: Processes are less likely to interfere with each other compared to threads, making debugging easier in some cases.\"\"\"\n"
   ]
  },
  {
   "cell_type": "code",
   "execution_count": 4,
   "id": "2f9f578e-401b-4d81-bb5d-463fbe8078b2",
   "metadata": {},
   "outputs": [],
   "source": [
    "# question 2"
   ]
  },
  {
   "cell_type": "code",
   "execution_count": 5,
   "id": "5e9bbc3a-eab3-4a8d-8862-2fdb88be9f49",
   "metadata": {},
   "outputs": [
    {
     "data": {
      "text/plain": [
       "'Memory: Threads share the same memory space, while processes have their own separate memory space.\\nConcurrency: Threads are lightweight and suitable for I/O-bound tasks, while processes are better for CPU-bound tasks due to better utilization of multiple cores.\\nIsolation: Processes are more isolated, reducing the risk of race conditions and deadlocks.\\nPerformance: Processes can achieve true parallelism due to separate memory spaces, while the Global Interpreter Lock (GIL) limits true parallelism in threads in CPython.\\nComplexity: Multiprocessing involves more overhead in terms of memory and communication compared to multithreading.\\nInterprocess Communication: Processes need more explicit mechanisms (like pipes, queues) for communication, while threads can communicate more easily via shared memory.'"
      ]
     },
     "execution_count": 5,
     "metadata": {},
     "output_type": "execute_result"
    }
   ],
   "source": [
    "\"\"\"Memory: Threads share the same memory space, while processes have their own separate memory space.\n",
    "Concurrency: Threads are lightweight and suitable for I/O-bound tasks, while processes are better for CPU-bound tasks due to better utilization of multiple cores.\n",
    "Isolation: Processes are more isolated, reducing the risk of race conditions and deadlocks.\n",
    "Performance: Processes can achieve true parallelism due to separate memory spaces, while the Global Interpreter Lock (GIL) limits true parallelism in threads in CPython.\n",
    "Complexity: Multiprocessing involves more overhead in terms of memory and communication compared to multithreading.\n",
    "Interprocess Communication: Processes need more explicit mechanisms (like pipes, queues) for communication, while threads can communicate more easily via shared memory.\"\"\""
   ]
  },
  {
   "cell_type": "code",
   "execution_count": 6,
   "id": "b3e191ca-deb3-408b-a520-6a62f4ce9802",
   "metadata": {},
   "outputs": [],
   "source": [
    "# question3"
   ]
  },
  {
   "cell_type": "code",
   "execution_count": 7,
   "id": "bda3dda8-aceb-4dc8-9e30-229931bd803f",
   "metadata": {},
   "outputs": [
    {
     "name": "stdout",
     "output_type": "stream",
     "text": [
      "This is a worker process.\n",
      "Main process has finished.\n"
     ]
    }
   ],
   "source": [
    "import multiprocessing\n",
    "\n",
    "def worker():\n",
    "    print(\"This is a worker process.\")\n",
    "\n",
    "if __name__ == \"__main__\":\n",
    "    process = multiprocessing.Process(target=worker)\n",
    "    process.start()\n",
    "    process.join()\n",
    "    print(\"Main process has finished.\")"
   ]
  },
  {
   "cell_type": "code",
   "execution_count": 8,
   "id": "988449ce-62b7-446d-8cf7-d5f0322f2636",
   "metadata": {},
   "outputs": [],
   "source": [
    "# question 4"
   ]
  },
  {
   "cell_type": "code",
   "execution_count": 9,
   "id": "776abba2-7925-4365-a053-3f0974419504",
   "metadata": {},
   "outputs": [
    {
     "data": {
      "text/plain": [
       "'A multiprocessing pool is a way to manage and distribute a group of worker processes. It provides a higher-level interface for parallelism, allowing you to submit tasks to a pool of processes. The pool manages the creation, execution, and termination of processes, making it easier to perform parallel computations.'"
      ]
     },
     "execution_count": 9,
     "metadata": {},
     "output_type": "execute_result"
    }
   ],
   "source": [
    "\"\"\"A multiprocessing pool is a way to manage and distribute a group of worker processes. It provides a higher-level interface for parallelism, allowing you to submit tasks to a pool of processes. The pool manages the creation, execution, and termination of processes, making it easier to perform parallel computations.\"\"\""
   ]
  },
  {
   "cell_type": "code",
   "execution_count": 10,
   "id": "3b9c97a2-f09b-4053-9fb2-cba280ec4c69",
   "metadata": {},
   "outputs": [],
   "source": [
    "# question 5"
   ]
  },
  {
   "cell_type": "code",
   "execution_count": 11,
   "id": "a437b8d1-87fc-44eb-bd64-58880ab381f0",
   "metadata": {},
   "outputs": [
    {
     "name": "stdout",
     "output_type": "stream",
     "text": [
      "Process 2 is running.Process 1 is running.Process 3 is running.\n",
      "\n",
      "\n",
      "All processes in the pool have finished.\n"
     ]
    }
   ],
   "source": [
    "import multiprocessing\n",
    "\n",
    "def worker(number):\n",
    "    print(f\"Process {number} is running.\")\n",
    "\n",
    "if __name__ == \"__main__\":\n",
    "    pool = multiprocessing.Pool(processes=3)\n",
    "    numbers = [1, 2, 3]\n",
    "    pool.map(worker, numbers)\n",
    "    pool.close()\n",
    "    pool.join()\n",
    "    print(\"All processes in the pool have finished.\")"
   ]
  },
  {
   "cell_type": "code",
   "execution_count": 12,
   "id": "88b7e175-81af-4135-85e3-46af0da62600",
   "metadata": {},
   "outputs": [],
   "source": [
    "# question 6"
   ]
  },
  {
   "cell_type": "code",
   "execution_count": 13,
   "id": "3267dd01-e613-4f94-9361-fc793e21cfa7",
   "metadata": {},
   "outputs": [
    {
     "name": "stdout",
     "output_type": "stream",
     "text": [
      "Process 1 is printing 1.\n",
      "Process 2 is printing 2.\n",
      "Process 3 is printing 3.\n",
      "Process 4 is printing 4.\n",
      "All processes have finished.\n"
     ]
    }
   ],
   "source": [
    "import multiprocessing\n",
    "\n",
    "def worker(number):\n",
    "    print(f\"Process {number} is printing {number}.\")\n",
    "\n",
    "if __name__ == \"__main__\":\n",
    "    processes = []\n",
    "    for i in range(1, 5):\n",
    "        process = multiprocessing.Process(target=worker, args=(i,))\n",
    "        processes.append(process)\n",
    "        process.start()\n",
    "\n",
    "    for process in processes:\n",
    "        process.join()\n",
    "\n",
    "    print(\"All processes have finished.\")"
   ]
  },
  {
   "cell_type": "code",
   "execution_count": null,
   "id": "0c5ae804-530c-416a-9aac-3ef5a707e0c3",
   "metadata": {},
   "outputs": [],
   "source": []
  }
 ],
 "metadata": {
  "kernelspec": {
   "display_name": "Python 3 (ipykernel)",
   "language": "python",
   "name": "python3"
  },
  "language_info": {
   "codemirror_mode": {
    "name": "ipython",
    "version": 3
   },
   "file_extension": ".py",
   "mimetype": "text/x-python",
   "name": "python",
   "nbconvert_exporter": "python",
   "pygments_lexer": "ipython3",
   "version": "3.10.8"
  }
 },
 "nbformat": 4,
 "nbformat_minor": 5
}
