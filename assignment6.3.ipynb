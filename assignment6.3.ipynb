{
 "cells": [
  {
   "cell_type": "code",
   "execution_count": 1,
   "id": "a6a01c39-11c7-42c0-be4c-deedeb76c6f1",
   "metadata": {},
   "outputs": [],
   "source": [
    "# question 1"
   ]
  },
  {
   "cell_type": "code",
   "execution_count": 2,
   "id": "122e8950-b425-4f2b-b667-619addeaea89",
   "metadata": {},
   "outputs": [
    {
     "data": {
      "text/plain": [
       "\"Multithreading in Python: Multithreading is a technique in which multiple threads execute independently within the same process. Each thread represents a separate path of execution, allowing multiple tasks to be performed concurrently.\\n\\nPurpose of Multithreading: Multithreading is used to improve the efficiency of programs by utilizing the available CPU resources effectively. It's particularly useful for tasks that can be performed simultaneously, such as I/O-bound operations (like reading/writing files, network communication) or parallelizable tasks.\""
      ]
     },
     "execution_count": 2,
     "metadata": {},
     "output_type": "execute_result"
    }
   ],
   "source": [
    "\"\"\"Multithreading in Python: Multithreading is a technique in which multiple threads execute independently within the same process. Each thread represents a separate path of execution, allowing multiple tasks to be performed concurrently.\n",
    "\n",
    "Purpose of Multithreading: Multithreading is used to improve the efficiency of programs by utilizing the available CPU resources effectively. It's particularly useful for tasks that can be performed simultaneously, such as I/O-bound operations (like reading/writing files, network communication) or parallelizable tasks.\"\"\""
   ]
  },
  {
   "cell_type": "code",
   "execution_count": 3,
   "id": "d2469d33-d25d-4bb5-b042-9fdb65c8dd05",
   "metadata": {},
   "outputs": [],
   "source": [
    "# question 2"
   ]
  },
  {
   "cell_type": "code",
   "execution_count": 5,
   "id": "3bb03885-5dc0-49f9-82d6-bc43ebb662fb",
   "metadata": {},
   "outputs": [
    {
     "name": "stdout",
     "output_type": "stream",
     "text": [
      "Thread is working.\n",
      "Thread is working.\n",
      "Thread is working.\n",
      "Thread is working.\n",
      "Thread is working.\n",
      "Number of active threads: 8\n"
     ]
    },
    {
     "name": "stderr",
     "output_type": "stream",
     "text": [
      "/tmp/ipykernel_985/558628383.py:11: DeprecationWarning: activeCount() is deprecated, use active_count() instead\n",
      "  print(\"Number of active threads:\", threading.activeCount())\n"
     ]
    }
   ],
   "source": [
    "import threading\n",
    "\n",
    "def worker():\n",
    "    print(\"Thread is working.\")\n",
    "\n",
    "threads = [threading.Thread(target=worker) for _ in range(5)]\n",
    "for thread in threads:\n",
    "    thread.start()\n",
    "\n",
    "\n",
    "print(\"Number of active threads:\", threading.activeCount())"
   ]
  },
  {
   "cell_type": "code",
   "execution_count": 2,
   "id": "d2f0d19f-383a-421f-9bab-c5af0cd823ba",
   "metadata": {},
   "outputs": [
    {
     "name": "stdout",
     "output_type": "stream",
     "text": [
      "Current thread: MyThread\n"
     ]
    },
    {
     "name": "stderr",
     "output_type": "stream",
     "text": [
      "/tmp/ipykernel_1186/2857425755.py:4: DeprecationWarning: currentThread() is deprecated, use current_thread() instead\n",
      "  current_thread = threading.currentThread()\n"
     ]
    }
   ],
   "source": [
    "import threading\n",
    "\n",
    "def print_current_thread():\n",
    "    current_thread = threading.currentThread()\n",
    "    print(\"Current thread:\", current_thread.name)\n",
    "\n",
    "# Create and start a thread\n",
    "thread = threading.Thread(target=print_current_thread, name=\"MyThread\")\n",
    "thread.start()\n",
    "thread.join()"
   ]
  },
  {
   "cell_type": "code",
   "execution_count": 7,
   "id": "a8cf0ef2-4f07-4790-853b-42e713c23268",
   "metadata": {},
   "outputs": [],
   "source": [
    "# question 3"
   ]
  },
  {
   "cell_type": "code",
   "execution_count": 9,
   "id": "cbc76113-ba1b-43d4-a282-9ab63a1fadb6",
   "metadata": {},
   "outputs": [
    {
     "name": "stdout",
     "output_type": "stream",
     "text": [
      "Thread is running.\n"
     ]
    }
   ],
   "source": [
    "import threading\n",
    "\n",
    "class MyThread(threading.Thread):\n",
    "    def run(self):\n",
    "        print(\"Thread is running.\")\n",
    "\n",
    "\n",
    "thread = MyThread()\n",
    "thread.start()"
   ]
  },
  {
   "cell_type": "code",
   "execution_count": 10,
   "id": "83c7fca9-5bf0-4fee-ad6d-df7b3570a376",
   "metadata": {},
   "outputs": [
    {
     "name": "stdout",
     "output_type": "stream",
     "text": [
      "Thread is working.\n"
     ]
    }
   ],
   "source": [
    "import threading\n",
    "\n",
    "def worker():\n",
    "    print(\"Thread is working.\")\n",
    "\n",
    "# Create and start a thread\n",
    "thread = threading.Thread(target=worker)\n",
    "thread.start()"
   ]
  },
  {
   "cell_type": "code",
   "execution_count": 11,
   "id": "a8303f4c-aa6c-4e88-9af8-411462d598bf",
   "metadata": {},
   "outputs": [
    {
     "name": "stdout",
     "output_type": "stream",
     "text": [
      "Thread is working.\n",
      "Thread has finished.\n"
     ]
    }
   ],
   "source": [
    "import threading\n",
    "\n",
    "def worker():\n",
    "    print(\"Thread is working.\")\n",
    "\n",
    "# Create and start a thread\n",
    "thread = threading.Thread(target=worker)\n",
    "thread.start()\n",
    "\n",
    "# Wait for the thread to finish\n",
    "thread.join()\n",
    "\n",
    "print(\"Thread has finished.\")"
   ]
  },
  {
   "cell_type": "code",
   "execution_count": 15,
   "id": "c1719afb-dd92-47eb-899d-fd99be851447",
   "metadata": {},
   "outputs": [],
   "source": [
    "# question 4"
   ]
  },
  {
   "cell_type": "code",
   "execution_count": 16,
   "id": "7e1d53fb-b32e-45c0-a611-f1ea8950774f",
   "metadata": {},
   "outputs": [
    {
     "name": "stdout",
     "output_type": "stream",
     "text": [
      "Thread 1: Square of 1: 1\n",
      "Thread 1: Square of 2: 4\n",
      "Thread 1: Square of 3: 9\n",
      "Thread 1: Square of 4: 16\n",
      "Thread 1: Square of 5: 25\n",
      "Thread 2: Cube of 1: 1\n",
      "Thread 2: Cube of 2: 8\n",
      "Thread 2: Cube of 3: 27\n",
      "Thread 2: Cube of 4: 64\n",
      "Thread 2: Cube of 5: 125\n",
      "Both threads have finished.\n"
     ]
    }
   ],
   "source": [
    "import threading\n",
    "\n",
    "def print_squares():\n",
    "    for i in range(1, 6):\n",
    "        print(f\"Thread 1: Square of {i}: {i**2}\")\n",
    "\n",
    "def print_cubes():\n",
    "    for i in range(1, 6):\n",
    "        print(f\"Thread 2: Cube of {i}: {i**3}\")\n",
    "\n",
    "# Create thread objects\n",
    "thread1 = threading.Thread(target=print_squares)\n",
    "thread2 = threading.Thread(target=print_cubes)\n",
    "\n",
    "# Start both threads\n",
    "thread1.start()\n",
    "thread2.start()\n",
    "\n",
    "# Wait for both threads to finish\n",
    "thread1.join()\n",
    "thread2.join()\n",
    "\n",
    "print(\"Both threads have finished.\")"
   ]
  },
  {
   "cell_type": "code",
   "execution_count": 17,
   "id": "b135df57-000d-423a-8a2c-d8d3b9a9f957",
   "metadata": {},
   "outputs": [],
   "source": [
    "# question 5"
   ]
  },
  {
   "cell_type": "code",
   "execution_count": 18,
   "id": "901c2e55-57ae-43cd-afbf-d2a1fcadf37e",
   "metadata": {},
   "outputs": [
    {
     "data": {
      "text/plain": [
       "\"Concurrency and Parallelism: Multithreading enables concurrent execution of tasks, making better use of available CPU cores and achieving parallelism. This can significantly improve performance for tasks that can be divided into smaller subtasks.\\n\\nResponsive User Interfaces: In graphical applications, multithreading allows the user interface to remain responsive while background tasks are being processed in separate threads. This prevents the application from becoming unresponsive due to a lengthy operation.\\n\\nResource Sharing: Threads within the same process share the same memory space, making it easier to share data and resources between threads. This can improve efficiency and reduce memory overhead compared to separate processes.\\n\\nEfficient I/O Operations: Multithreading is well-suited for I/O-bound tasks (e.g., reading/writing files, network communication) since one thread can wait for I/O while others continue processing.\\n\\nEnhanced Scalability: In applications that involve handling multiple client requests (e.g., web servers), multithreading can lead to better scalability by handling concurrent requests efficiently.\\n\\nDisadvantages of Multithreading:\\n\\nComplexity: Multithreaded programs are more complex to design, implement, and debug than single-threaded programs. Managing thread synchronization, communication, and avoiding race conditions requires careful planning.\\n\\nSynchronization Overhead: Synchronization mechanisms (e.g., locks, semaphores) used to prevent race conditions can introduce overhead and potentially degrade performance. Overuse of synchronization can lead to contention and reduced parallelism.\\n\\nDeadlocks and Race Conditions: Incorrect synchronization can lead to deadlocks (where threads are stuck waiting for each other) and race conditions (where multiple threads access shared resources concurrently, leading to unpredictable outcomes).\\n\\nDifficulty in Debugging: Multithreaded programs can exhibit non-deterministic behavior, making bugs and issues harder to reproduce and debug. Timing-dependent issues can be particularly challenging to identify.\\n\\nGlobal Interpreter Lock (GIL): In CPython, the Global Interpreter Lock (GIL) allows only one thread to execute Python code at a time. This limitation restricts true parallelism for CPU-bound tasks and can hinder performance in some cases.\\n\\nThread Interference: Threads sharing the same memory space can interfere with each other's operations, potentially leading to unintended behavior if synchronization is not properly managed.\""
      ]
     },
     "execution_count": 18,
     "metadata": {},
     "output_type": "execute_result"
    }
   ],
   "source": [
    "\"\"\"Concurrency and Parallelism: Multithreading enables concurrent execution of tasks, making better use of available CPU cores and achieving parallelism. This can significantly improve performance for tasks that can be divided into smaller subtasks.\n",
    "\n",
    "Responsive User Interfaces: In graphical applications, multithreading allows the user interface to remain responsive while background tasks are being processed in separate threads. This prevents the application from becoming unresponsive due to a lengthy operation.\n",
    "\n",
    "Resource Sharing: Threads within the same process share the same memory space, making it easier to share data and resources between threads. This can improve efficiency and reduce memory overhead compared to separate processes.\n",
    "\n",
    "Efficient I/O Operations: Multithreading is well-suited for I/O-bound tasks (e.g., reading/writing files, network communication) since one thread can wait for I/O while others continue processing.\n",
    "\n",
    "Enhanced Scalability: In applications that involve handling multiple client requests (e.g., web servers), multithreading can lead to better scalability by handling concurrent requests efficiently.\n",
    "\n",
    "Disadvantages of Multithreading:\n",
    "\n",
    "Complexity: Multithreaded programs are more complex to design, implement, and debug than single-threaded programs. Managing thread synchronization, communication, and avoiding race conditions requires careful planning.\n",
    "\n",
    "Synchronization Overhead: Synchronization mechanisms (e.g., locks, semaphores) used to prevent race conditions can introduce overhead and potentially degrade performance. Overuse of synchronization can lead to contention and reduced parallelism.\n",
    "\n",
    "Deadlocks and Race Conditions: Incorrect synchronization can lead to deadlocks (where threads are stuck waiting for each other) and race conditions (where multiple threads access shared resources concurrently, leading to unpredictable outcomes).\n",
    "\n",
    "Difficulty in Debugging: Multithreaded programs can exhibit non-deterministic behavior, making bugs and issues harder to reproduce and debug. Timing-dependent issues can be particularly challenging to identify.\n",
    "\n",
    "Global Interpreter Lock (GIL): In CPython, the Global Interpreter Lock (GIL) allows only one thread to execute Python code at a time. This limitation restricts true parallelism for CPU-bound tasks and can hinder performance in some cases.\n",
    "\n",
    "Thread Interference: Threads sharing the same memory space can interfere with each other's operations, potentially leading to unintended behavior if synchronization is not properly managed.\"\"\""
   ]
  },
  {
   "cell_type": "code",
   "execution_count": 19,
   "id": "59880f16-7884-49b8-ae18-43f2bc37939a",
   "metadata": {},
   "outputs": [],
   "source": [
    "# question 6"
   ]
  },
  {
   "cell_type": "code",
   "execution_count": 20,
   "id": "755ff42a-ea33-45bb-90bb-bba11c9f03a3",
   "metadata": {},
   "outputs": [
    {
     "name": "stdout",
     "output_type": "stream",
     "text": [
      "Worker 1 acquired lock 1\n",
      "Worker 1 acquired lock 2\n",
      "Worker 2 acquired lock 2\n",
      "Worker 2 acquired lock 1\n",
      "Both threads have finished.\n"
     ]
    }
   ],
   "source": [
    "import threading\n",
    "\n",
    "def worker1():\n",
    "    lock1.acquire()\n",
    "    print(\"Worker 1 acquired lock 1\")\n",
    "    lock2.acquire()\n",
    "    print(\"Worker 1 acquired lock 2\")\n",
    "    lock2.release()\n",
    "    lock1.release()\n",
    "\n",
    "def worker2():\n",
    "    lock2.acquire()\n",
    "    print(\"Worker 2 acquired lock 2\")\n",
    "    lock1.acquire()\n",
    "    print(\"Worker 2 acquired lock 1\")\n",
    "    lock1.release()\n",
    "    lock2.release()\n",
    "\n",
    "lock1 = threading.Lock()\n",
    "lock2 = threading.Lock()\n",
    "\n",
    "thread1 = threading.Thread(target=worker1)\n",
    "thread2 = threading.Thread(target=worker2)\n",
    "\n",
    "thread1.start()\n",
    "thread2.start()\n",
    "\n",
    "thread1.join()\n",
    "thread2.join()\n",
    "\n",
    "print(\"Both threads have finished.\")"
   ]
  },
  {
   "cell_type": "code",
   "execution_count": null,
   "id": "6766e374-7eec-4feb-bacb-789efd8200d0",
   "metadata": {},
   "outputs": [],
   "source": []
  }
 ],
 "metadata": {
  "kernelspec": {
   "display_name": "Python 3 (ipykernel)",
   "language": "python",
   "name": "python3"
  },
  "language_info": {
   "codemirror_mode": {
    "name": "ipython",
    "version": 3
   },
   "file_extension": ".py",
   "mimetype": "text/x-python",
   "name": "python",
   "nbconvert_exporter": "python",
   "pygments_lexer": "ipython3",
   "version": "3.10.8"
  }
 },
 "nbformat": 4,
 "nbformat_minor": 5
}
