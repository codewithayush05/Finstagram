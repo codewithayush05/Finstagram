{
 "cells": [
  {
   "cell_type": "code",
   "execution_count": 1,
   "id": "324e9269-5882-4921-8c79-a47c09eb45b5",
   "metadata": {},
   "outputs": [],
   "source": [
    "# question1"
   ]
  },
  {
   "cell_type": "code",
   "execution_count": 4,
   "id": "b97e9e8a-ac2a-4bbe-8fb4-770d2eee0015",
   "metadata": {},
   "outputs": [
    {
     "name": "stdout",
     "output_type": "stream",
     "text": [
      "F-value: 1.7241379310344829\n",
      "p-value: 0.6106575747557499\n"
     ]
    }
   ],
   "source": [
    "import numpy as np\n",
    "from scipy import stats\n",
    "\n",
    "def calculate_f_value(data1, data2):\n",
    "   \n",
    "    variance1 = np.var(data1, ddof=1)\n",
    "    variance2 = np.var(data2, ddof=1)\n",
    "    \n",
    "\n",
    "    f_value = variance1 / variance2 if variance1 >= variance2 else variance2 / variance1\n",
    "    \n",
    "  \n",
    "    df1 = len(data1) - 1\n",
    "    df2 = len(data2) - 1\n",
    "    \n",
    "   \n",
    "    p_value = 2 * min(stats.f.cdf(f_value, df1, df2), 1 - stats.f.cdf(f_value, df1, df2))\n",
    "    \n",
    "    return f_value, p_value\n",
    "\n",
    "# Example usage:\n",
    "data1 = [10, 12, 14, 15, 16]\n",
    "data2 = [8, 10, 12, 14, 16]\n",
    "f_value, p_value = calculate_f_value(data1, data2)\n",
    "print(\"F-value:\", f_value)\n",
    "print(\"p-value:\", p_value)"
   ]
  },
  {
   "cell_type": "code",
   "execution_count": 5,
   "id": "f6d2d5b6-d7f6-4804-944f-bbbde40832d3",
   "metadata": {},
   "outputs": [],
   "source": [
    "# question2"
   ]
  },
  {
   "cell_type": "code",
   "execution_count": 7,
   "id": "a1f81ab8-40e1-475a-8cb9-c7f9020948c1",
   "metadata": {},
   "outputs": [
    {
     "name": "stdout",
     "output_type": "stream",
     "text": [
      "Critical F-value: 4.825621493405406\n"
     ]
    }
   ],
   "source": [
    "from scipy import stats\n",
    "\n",
    "def critical_f_value(alpha, dfn, dfd):\n",
    "   \n",
    "    f_critical = stats.f.ppf(1 - alpha/2, dfn, dfd)\n",
    "    return f_critical\n",
    "\n",
    "# Example usage:\n",
    "alpha = 0.05\n",
    "dfn = 3  # Degrees of freedom for the numerator\n",
    "dfd = 10  # Degrees of freedom for the denominator\n",
    "f_critical = critical_f_value(alpha, dfn, dfd)\n",
    "print(\"Critical F-value:\", f_critical)"
   ]
  },
  {
   "cell_type": "code",
   "execution_count": 8,
   "id": "50449524-4c19-4c84-a9dc-3c77192cf3a0",
   "metadata": {},
   "outputs": [],
   "source": [
    "# question3"
   ]
  },
  {
   "cell_type": "code",
   "execution_count": 15,
   "id": "b770bbcc-45ce-42b5-8a17-5b11eaaf32da",
   "metadata": {},
   "outputs": [
    {
     "name": "stdout",
     "output_type": "stream",
     "text": [
      "F-value: None\n",
      "Degrees of freedom: 1 , 2\n",
      "p-value: 0.9040183263326804\n"
     ]
    }
   ],
   "source": [
    "import numpy as np\n",
    "from scipy import stats\n",
    "\n",
    "# Generate random samples from two normal distributions with known variances\n",
    "np.random.seed(0)  # For reproducibility\n",
    "sample_size = 30\n",
    "variance1 = 10\n",
    "variance2 = 15\n",
    "sample1 = np.random.normal(0, np.sqrt(variance1), sample_size)\n",
    "sample2 = np.random.normal(0, np.sqrt(variance2), sample_size)\n",
    "\n",
    "# Perform an F-test to compare variances\n",
    "_, p_value = stats.levene(sample1, sample2)\n",
    "\n",
    "# Print the results\n",
    "print(\"F-value:\", None)  # F-value is not available with stats.levene\n",
    "print(\"Degrees of freedom:\", 1, \",\", 2)  # For two groups\n",
    "print(\"p-value:\", p_value)\n"
   ]
  },
  {
   "cell_type": "code",
   "execution_count": 16,
   "id": "aac5b8ec-f3ec-40a5-a906-edb599e2c09f",
   "metadata": {},
   "outputs": [],
   "source": [
    "# question4"
   ]
  },
  {
   "cell_type": "code",
   "execution_count": 17,
   "id": "abdd58c4-369d-4947-b031-ba355ed44ea7",
   "metadata": {},
   "outputs": [
    {
     "name": "stdout",
     "output_type": "stream",
     "text": [
      "Fail to reject the null hypothesis. Variances are not significantly different.\n"
     ]
    }
   ],
   "source": [
    "import numpy as np\n",
    "from scipy import stats\n",
    "\n",
    "# Sample sizes\n",
    "n1 = 12\n",
    "n2 = 12\n",
    "\n",
    "# Sample variances\n",
    "variance1 = 10\n",
    "variance2 = 15\n",
    "\n",
    "# Calculate the F-statistic\n",
    "f_statistic = variance1 / variance2 if variance1 >= variance2 else variance2 / variance1\n",
    "\n",
    "# Degrees of freedom\n",
    "df1 = n1 - 1\n",
    "df2 = n2 - 1\n",
    "\n",
    "# Calculate the p-value\n",
    "p_value = 2 * min(stats.f.cdf(f_statistic, df1, df2), 1 - stats.f.cdf(f_statistic, df1, df2))\n",
    "\n",
    "# Significance level\n",
    "alpha = 0.05\n",
    "\n",
    "# Conduct the F-test\n",
    "if p_value < alpha:\n",
    "    print(\"Reject the null hypothesis. Variances are significantly different.\")\n",
    "else:\n",
    "    print(\"Fail to reject the null hypothesis. Variances are not significantly different.\")\n"
   ]
  },
  {
   "cell_type": "code",
   "execution_count": 18,
   "id": "27d26c0d-fcac-4785-965a-5581cfa0ec3f",
   "metadata": {},
   "outputs": [],
   "source": [
    "# QUESTION5"
   ]
  },
  {
   "cell_type": "code",
   "execution_count": 19,
   "id": "e960783f-ced2-44f9-8782-43439ceee663",
   "metadata": {},
   "outputs": [
    {
     "name": "stdout",
     "output_type": "stream",
     "text": [
      "Fail to reject the null hypothesis. The claim is justified.\n"
     ]
    }
   ],
   "source": [
    "import numpy as np\n",
    "from scipy import stats\n",
    "\n",
    "# Sample size\n",
    "n = 25\n",
    "\n",
    "# Claimed variance\n",
    "claimed_variance = 0.005\n",
    "\n",
    "# Sample variance\n",
    "sample_variance = 0.006\n",
    "\n",
    "# Calculate the F-statistic\n",
    "f_statistic = sample_variance / claimed_variance\n",
    "\n",
    "# Degrees of freedom\n",
    "df1 = n - 1\n",
    "df2 = 1  # Degrees of freedom for the claimed variance\n",
    "\n",
    "# Calculate the p-value\n",
    "p_value = 1 - stats.f.cdf(f_statistic, df1, df2)\n",
    "\n",
    "# Significance level\n",
    "alpha = 0.01\n",
    "\n",
    "# Conduct the F-test\n",
    "if p_value < alpha:\n",
    "    print(\"Reject the null hypothesis. The claim is not justified.\")\n",
    "else:\n",
    "    print(\"Fail to reject the null hypothesis. The claim is justified.\")\n"
   ]
  },
  {
   "cell_type": "code",
   "execution_count": 20,
   "id": "42c7c1e6-4dfd-4697-8775-a950ba6ec72f",
   "metadata": {},
   "outputs": [],
   "source": [
    "# question6"
   ]
  },
  {
   "cell_type": "code",
   "execution_count": 21,
   "id": "e6617277-6d6f-4d38-ab0e-8d53b60088a4",
   "metadata": {},
   "outputs": [
    {
     "name": "stdout",
     "output_type": "stream",
     "text": [
      "Mean: 1.25\n",
      "Variance: 1.9097222222222223\n"
     ]
    }
   ],
   "source": [
    "from scipy.stats import f\n",
    "\n",
    "def f_distribution_mean_variance(dfn, dfd):\n",
    "    mean = dfd / (dfd - 2)\n",
    "    variance = (2 * (dfd ** 2) * (dfn + dfd - 2)) / (dfn * (dfd - 2) ** 2 * (dfd - 4))\n",
    "    return mean, variance\n",
    "\n",
    "# Example usage:\n",
    "dfn = 3  # Degrees of freedom for the numerator\n",
    "dfd = 10  # Degrees of freedom for the denominator\n",
    "mean, variance = f_distribution_mean_variance(dfn, dfd)\n",
    "print(\"Mean:\", mean)\n",
    "print(\"Variance:\", variance)\n"
   ]
  },
  {
   "cell_type": "code",
   "execution_count": 22,
   "id": "395ea715-85e7-431a-a487-25095f3172b3",
   "metadata": {},
   "outputs": [],
   "source": [
    "# question7"
   ]
  },
  {
   "cell_type": "code",
   "execution_count": 23,
   "id": "c8efa468-650f-4bdc-b7b8-892415b67d88",
   "metadata": {},
   "outputs": [
    {
     "name": "stdout",
     "output_type": "stream",
     "text": [
      "Mean: 1.25\n",
      "Variance: 1.9097222222222223\n"
     ]
    }
   ],
   "source": [
    "from scipy.stats import f\n",
    "\n",
    "def f_distribution_mean_variance(dfn, dfd):\n",
    "    mean = dfd / (dfd - 2)\n",
    "    variance = (2 * (dfd ** 2) * (dfn + dfd - 2)) / (dfn * (dfd - 2) ** 2 * (dfd - 4))\n",
    "    return mean, variance\n",
    "\n",
    "# Example usage:\n",
    "dfn = 3  # Degrees of freedom for the numerator\n",
    "dfd = 10  # Degrees of freedom for the denominator\n",
    "mean, variance = f_distribution_mean_variance(dfn, dfd)\n",
    "print(\"Mean:\", mean)\n",
    "print(\"Variance:\", variance)\n"
   ]
  },
  {
   "cell_type": "code",
   "execution_count": 24,
   "id": "64bb9a7f-9a49-48e1-83b8-e5c19f2d45d4",
   "metadata": {},
   "outputs": [],
   "source": [
    "# question8"
   ]
  },
  {
   "cell_type": "code",
   "execution_count": 25,
   "id": "1474430f-a15c-4bf8-9ee1-72b6ea6f1312",
   "metadata": {},
   "outputs": [
    {
     "name": "stdout",
     "output_type": "stream",
     "text": [
      "Fail to reject the null hypothesis. Variances are not significantly different.\n"
     ]
    }
   ],
   "source": [
    "import numpy as np\n",
    "from scipy import stats\n",
    "\n",
    "restaurant_A = [24, 25, 28, 23, 22, 20, 27]\n",
    "restaurant_B = [31, 33, 35, 30, 32, 36]\n",
    "variance_A = np.var(restaurant_A, ddof=1)\n",
    "variance_B = np.var(restaurant_B, ddof=1)\n",
    "n_A = len(restaurant_A)\n",
    "n_B = len(restaurant_B)\n",
    "\n",
    "f_statistic = variance_A / variance_B if variance_A >= variance_B else variance_B / variance_A\n",
    "df1 = n_A - 1\n",
    "df2 = n_B - 1\n",
    "p_value = 2 * min(stats.f.cdf(f_statistic, df1, df2), 1 - stats.f.cdf(f_statistic, df1, df2))\n",
    "alpha = 0.05\n",
    "\n",
    "if p_value < alpha:\n",
    "    print(\"Reject the null hypothesis. Variances are significantly different.\")\n",
    "else:\n",
    "    print(\"Fail to reject the null hypothesis. Variances are not significantly different.\")\n"
   ]
  },
  {
   "cell_type": "code",
   "execution_count": 26,
   "id": "c4a2f3c2-52ca-42fa-9a8e-76026c8d565f",
   "metadata": {},
   "outputs": [],
   "source": [
    "# question9"
   ]
  },
  {
   "cell_type": "code",
   "execution_count": 27,
   "id": "d224ff42-8b47-4f94-91e9-cfd92ba8ffc9",
   "metadata": {},
   "outputs": [
    {
     "name": "stdout",
     "output_type": "stream",
     "text": [
      "Fail to reject the null hypothesis. Variances are not significantly different.\n"
     ]
    }
   ],
   "source": [
    "import numpy as np\n",
    "from scipy import stats\n",
    "\n",
    "group_A = [80, 85, 90, 92, 87, 83]\n",
    "group_B = [75, 78, 82, 79, 81, 84]\n",
    "variance_A = np.var(group_A, ddof=1)\n",
    "variance_B = np.var(group_B, ddof=1)\n",
    "n_A = len(group_A)\n",
    "n_B = len(group_B)\n",
    "\n",
    "f_statistic = variance_A / variance_B if variance_A >= variance_B else variance_B / variance_A\n",
    "df1 = n_A - 1\n",
    "df2 = n_B - 1\n",
    "p_value = 2 * min(stats.f.cdf(f_statistic, df1, df2), 1 - stats.f.cdf(f_statistic, df1, df2))\n",
    "alpha = 0.01\n",
    "\n",
    "if p_value < alpha:\n",
    "    print(\"Reject the null hypothesis. Variances are significantly different.\")\n",
    "else:\n",
    "    print(\"Fail to reject the null hypothesis. Variances are not significantly different.\")\n"
   ]
  },
  {
   "cell_type": "code",
   "execution_count": null,
   "id": "12cea7ac-fcac-4d45-bb2a-b1ac046d9362",
   "metadata": {},
   "outputs": [],
   "source": []
  }
 ],
 "metadata": {
  "kernelspec": {
   "display_name": "Python 3 (ipykernel)",
   "language": "python",
   "name": "python3"
  },
  "language_info": {
   "codemirror_mode": {
    "name": "ipython",
    "version": 3
   },
   "file_extension": ".py",
   "mimetype": "text/x-python",
   "name": "python",
   "nbconvert_exporter": "python",
   "pygments_lexer": "ipython3",
   "version": "3.10.8"
  }
 },
 "nbformat": 4,
 "nbformat_minor": 5
}
