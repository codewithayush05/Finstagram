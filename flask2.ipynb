{
 "cells": [
  {
   "cell_type": "code",
   "execution_count": 3,
   "id": "21666064-544c-4a77-b2f4-9511bd1fe3fa",
   "metadata": {},
   "outputs": [],
   "source": [
    "# question 1"
   ]
  },
  {
   "cell_type": "code",
   "execution_count": 2,
   "id": "54ed0093-397f-455e-a026-ea18979a1292",
   "metadata": {},
   "outputs": [
    {
     "data": {
      "text/plain": [
       "'GET and POST are two HTTP methods used to send and receive data between a client (usually a web browser or API client) and a server. They serve different purposes in the context of web development:\\n\\nGET: The GET method is used to request data from a server. When a client sends a GET request, it is asking the server to retrieve and return a resource, usually specified by a URL. GET requests can include query parameters in the URL to provide additional information to the server.\\n\\nPOST: The POST method is used to submit data to be processed to a server. It is often used when sending form data to a web server or when creating a new resource on the server. Unlike GET requests, POST requests send data in the request body, which can include various types of data, such as form fields, JSON, or XML.'"
      ]
     },
     "execution_count": 2,
     "metadata": {},
     "output_type": "execute_result"
    }
   ],
   "source": [
    "\"\"\"GET and POST are two HTTP methods used to send and receive data between a client (usually a web browser or API client) and a server. They serve different purposes in the context of web development:\n",
    "\n",
    "GET: The GET method is used to request data from a server. When a client sends a GET request, it is asking the server to retrieve and return a resource, usually specified by a URL. GET requests can include query parameters in the URL to provide additional information to the server.\n",
    "\n",
    "POST: The POST method is used to submit data to be processed to a server. It is often used when sending form data to a web server or when creating a new resource on the server. Unlike GET requests, POST requests send data in the request body, which can include various types of data, such as form fields, JSON, or XML.\"\"\""
   ]
  },
  {
   "cell_type": "code",
   "execution_count": 4,
   "id": "32a78e01-b857-4f52-abe6-4bfc4b6b9d6a",
   "metadata": {},
   "outputs": [],
   "source": [
    "# question2"
   ]
  },
  {
   "cell_type": "code",
   "execution_count": 5,
   "id": "2b318867-394d-4a10-ac88-79ff7cb1008a",
   "metadata": {},
   "outputs": [
    {
     "data": {
      "text/plain": [
       "'The request object in Flask allows you to access incoming request data, including form data, query parameters, headers, and more. It provides a way to interact with the data sent by the client in the request. The request object is commonly used when you want to handle data submitted by users through forms, query parameters in URLs, or data sent via JSON in API requests.'"
      ]
     },
     "execution_count": 5,
     "metadata": {},
     "output_type": "execute_result"
    }
   ],
   "source": [
    "\"\"\"The request object in Flask allows you to access incoming request data, including form data, query parameters, headers, and more. It provides a way to interact with the data sent by the client in the request. The request object is commonly used when you want to handle data submitted by users through forms, query parameters in URLs, or data sent via JSON in API requests.\"\"\""
   ]
  },
  {
   "cell_type": "code",
   "execution_count": 6,
   "id": "3c2ddcce-d7e1-4654-a19c-e0df62522167",
   "metadata": {},
   "outputs": [],
   "source": [
    "# question 3"
   ]
  },
  {
   "cell_type": "code",
   "execution_count": 7,
   "id": "90cd8440-b651-4e0b-895e-c7dcd187519c",
   "metadata": {},
   "outputs": [
    {
     "data": {
      "text/plain": [
       "'The redirect() function in Flask is used to perform URL redirection. It allows you to respond to a request by sending an HTTP redirect response with a new URL. This is useful when you want to guide the user to a different route or URL after a certain action or operation. For example, after a successful form submission, you might want to redirect the user to a thank-you page.'"
      ]
     },
     "execution_count": 7,
     "metadata": {},
     "output_type": "execute_result"
    }
   ],
   "source": [
    "\"\"\"The redirect() function in Flask is used to perform URL redirection. It allows you to respond to a request by sending an HTTP redirect response with a new URL. This is useful when you want to guide the user to a different route or URL after a certain action or operation. For example, after a successful form submission, you might want to redirect the user to a thank-you page.\"\"\""
   ]
  },
  {
   "cell_type": "code",
   "execution_count": 8,
   "id": "97361f4f-06be-4a8c-8477-772a54cd81c5",
   "metadata": {},
   "outputs": [],
   "source": [
    "# question 4"
   ]
  },
  {
   "cell_type": "code",
   "execution_count": 9,
   "id": "1a58e7a3-c054-42b3-8908-6ca3e068d9a2",
   "metadata": {},
   "outputs": [
    {
     "data": {
      "text/plain": [
       "'Templates in Flask are used to separate the presentation (HTML) from the application logic. They allow you to generate HTML dynamically by embedding data from your Python code into the template. The render_template() function in Flask is used to render these templates by combining them with the data you provide.\\n\\nBy using templates, you can create dynamic web pages that change based on data and logic without having to write the entire HTML code in your Python files. This separation of concerns enhances code readability and maintainability.'"
      ]
     },
     "execution_count": 9,
     "metadata": {},
     "output_type": "execute_result"
    }
   ],
   "source": [
    "\"\"\"Templates in Flask are used to separate the presentation (HTML) from the application logic. They allow you to generate HTML dynamically by embedding data from your Python code into the template. The render_template() function in Flask is used to render these templates by combining them with the data you provide.\n",
    "\n",
    "By using templates, you can create dynamic web pages that change based on data and logic without having to write the entire HTML code in your Python files. This separation of concerns enhances code readability and maintainability.\"\"\""
   ]
  },
  {
   "cell_type": "code",
   "execution_count": 10,
   "id": "64b1f735-1374-4586-be1d-d9d154a6661b",
   "metadata": {},
   "outputs": [],
   "source": [
    "# question 5"
   ]
  },
  {
   "cell_type": "code",
   "execution_count": 11,
   "id": "f21dd29c-6295-4beb-acbc-8174e70ff363",
   "metadata": {},
   "outputs": [
    {
     "data": {
      "text/plain": [
       "\"from flask import Flask, request, jsonify\\n\\napp = Flask(__name__)\\n\\n@app.route('/api', methods=['POST'])\\ndef api():\\n    data = request.get_json()\\n    if data is None:\\n        return jsonify({'error': 'No JSON data provided'}), 400\\n    return jsonify({'message': 'Data received', 'data': data})\\n\\nif __name__ == '__main__':\\n    app.run()\""
      ]
     },
     "execution_count": 11,
     "metadata": {},
     "output_type": "execute_result"
    }
   ],
   "source": [
    "\"\"\"from flask import Flask, request, jsonify\n",
    "\n",
    "app = Flask(__name__)\n",
    "\n",
    "@app.route('/api', methods=['POST'])\n",
    "def api():\n",
    "    data = request.get_json()\n",
    "    if data is None:\n",
    "        return jsonify({'error': 'No JSON data provided'}), 400\n",
    "    return jsonify({'message': 'Data received', 'data': data})\n",
    "\n",
    "if __name__ == '__main__':\n",
    "    app.run()\"\"\""
   ]
  },
  {
   "cell_type": "code",
   "execution_count": null,
   "id": "b4ba8e34-44e4-4130-a946-01ccf78a2a64",
   "metadata": {},
   "outputs": [],
   "source": []
  }
 ],
 "metadata": {
  "kernelspec": {
   "display_name": "Python 3 (ipykernel)",
   "language": "python",
   "name": "python3"
  },
  "language_info": {
   "codemirror_mode": {
    "name": "ipython",
    "version": 3
   },
   "file_extension": ".py",
   "mimetype": "text/x-python",
   "name": "python",
   "nbconvert_exporter": "python",
   "pygments_lexer": "ipython3",
   "version": "3.10.8"
  }
 },
 "nbformat": 4,
 "nbformat_minor": 5
}
