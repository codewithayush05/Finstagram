{
 "cells": [
  {
   "cell_type": "code",
   "execution_count": 1,
   "id": "1ca1b928-fb8b-4294-9a7b-d60e514c1f02",
   "metadata": {},
   "outputs": [],
   "source": [
    "#Question 1"
   ]
  },
  {
   "cell_type": "code",
   "execution_count": 2,
   "id": "87f18fbe-b31a-45b6-94da-a690332f1deb",
   "metadata": {},
   "outputs": [],
   "source": [
    "string=\"Hello my name is Ayush\""
   ]
  },
  {
   "cell_type": "code",
   "execution_count": 3,
   "id": "d13e654b-1364-4c94-9d01-1041f4a43239",
   "metadata": {},
   "outputs": [
    {
     "data": {
      "text/plain": [
       "str"
      ]
     },
     "execution_count": 3,
     "metadata": {},
     "output_type": "execute_result"
    }
   ],
   "source": [
    "type(string)"
   ]
  },
  {
   "cell_type": "code",
   "execution_count": 4,
   "id": "6c0010ec-a208-450e-9be5-993512eff8b1",
   "metadata": {},
   "outputs": [],
   "source": [
    "l =[2,3,4,\"hello\",23.5,100]"
   ]
  },
  {
   "cell_type": "code",
   "execution_count": 5,
   "id": "0fdd66fe-aacf-413e-8c20-f62b5a738954",
   "metadata": {},
   "outputs": [
    {
     "data": {
      "text/plain": [
       "list"
      ]
     },
     "execution_count": 5,
     "metadata": {},
     "output_type": "execute_result"
    }
   ],
   "source": [
    "type(l)"
   ]
  },
  {
   "cell_type": "code",
   "execution_count": 6,
   "id": "ae247fba-02b0-4b9d-90fd-a078bc69f5a8",
   "metadata": {},
   "outputs": [],
   "source": [
    "float=3.15"
   ]
  },
  {
   "cell_type": "code",
   "execution_count": 7,
   "id": "71f960a3-c938-40a7-ae05-b188154a05b5",
   "metadata": {},
   "outputs": [
    {
     "data": {
      "text/plain": [
       "float"
      ]
     },
     "execution_count": 7,
     "metadata": {},
     "output_type": "execute_result"
    }
   ],
   "source": [
    "type(float)"
   ]
  },
  {
   "cell_type": "code",
   "execution_count": 8,
   "id": "4bc04435-acae-475d-bc15-e06eaac53e5a",
   "metadata": {},
   "outputs": [],
   "source": [
    "tuple = (10, 20, 30)"
   ]
  },
  {
   "cell_type": "code",
   "execution_count": 9,
   "id": "3d7ae2d7-de6e-4530-9b3b-34817406ec07",
   "metadata": {},
   "outputs": [
    {
     "data": {
      "text/plain": [
       "tuple"
      ]
     },
     "execution_count": 9,
     "metadata": {},
     "output_type": "execute_result"
    }
   ],
   "source": [
    "type(tuple)"
   ]
  },
  {
   "cell_type": "code",
   "execution_count": 10,
   "id": "9a97d50c-8b55-4ad0-a5a8-94f93b8f98e3",
   "metadata": {},
   "outputs": [],
   "source": [
    "#Question 2"
   ]
  },
  {
   "cell_type": "code",
   "execution_count": 15,
   "id": "d9eb6d24-b015-42c3-95a5-6abb460b8d8c",
   "metadata": {},
   "outputs": [],
   "source": [
    "var1 = \"\"\n",
    "var2 = \"[ DS , ML , Python]\"\n",
    "var3 = [ \"DS\" , \"ML\" , \"Python\" ]\n",
    "var4 = 1"
   ]
  },
  {
   "cell_type": "code",
   "execution_count": 16,
   "id": "6af6949e-8353-452f-93db-b042e6473d39",
   "metadata": {},
   "outputs": [
    {
     "data": {
      "text/plain": [
       "str"
      ]
     },
     "execution_count": 16,
     "metadata": {},
     "output_type": "execute_result"
    }
   ],
   "source": [
    "type(var1)"
   ]
  },
  {
   "cell_type": "code",
   "execution_count": 17,
   "id": "4e457b12-294a-4296-a2cf-b3eeb635f2c7",
   "metadata": {},
   "outputs": [
    {
     "data": {
      "text/plain": [
       "str"
      ]
     },
     "execution_count": 17,
     "metadata": {},
     "output_type": "execute_result"
    }
   ],
   "source": [
    "type(var2)"
   ]
  },
  {
   "cell_type": "code",
   "execution_count": 18,
   "id": "b34f6a80-b7d6-44fd-a39f-586e911d95f2",
   "metadata": {},
   "outputs": [
    {
     "data": {
      "text/plain": [
       "list"
      ]
     },
     "execution_count": 18,
     "metadata": {},
     "output_type": "execute_result"
    }
   ],
   "source": [
    "type(var3)"
   ]
  },
  {
   "cell_type": "code",
   "execution_count": 19,
   "id": "30e99376-1bba-454a-9913-5656aa13e28d",
   "metadata": {},
   "outputs": [
    {
     "data": {
      "text/plain": [
       "int"
      ]
     },
     "execution_count": 19,
     "metadata": {},
     "output_type": "execute_result"
    }
   ],
   "source": [
    "type(var4)"
   ]
  },
  {
   "cell_type": "code",
   "execution_count": 20,
   "id": "a7900200-b99a-4648-88b2-c923c32077c0",
   "metadata": {},
   "outputs": [],
   "source": [
    "#Question 3"
   ]
  },
  {
   "cell_type": "code",
   "execution_count": 29,
   "id": "d7a3c85e-57a4-444c-b774-a8b45f9278b0",
   "metadata": {},
   "outputs": [
    {
     "name": "stdout",
     "output_type": "stream",
     "text": [
      "3.3333333333333335\n"
     ]
    }
   ],
   "source": [
    "a = 10 / 3\n",
    "print(a) #for divide two number"
   ]
  },
  {
   "cell_type": "code",
   "execution_count": 27,
   "id": "67cf2e8e-3e79-432e-a03b-a28af9d45b52",
   "metadata": {},
   "outputs": [
    {
     "name": "stdout",
     "output_type": "stream",
     "text": [
      "1\n"
     ]
    }
   ],
   "source": [
    "b = 10 % 3\n",
    "print(b) #for finde reminder"
   ]
  },
  {
   "cell_type": "code",
   "execution_count": 28,
   "id": "2101c916-32d0-4e75-9597-9cfe72ba70a6",
   "metadata": {},
   "outputs": [
    {
     "name": "stdout",
     "output_type": "stream",
     "text": [
      "3\n"
     ]
    }
   ],
   "source": [
    "\n",
    "c = 10 // 3\n",
    "print(c)  # for Floor division operation"
   ]
  },
  {
   "cell_type": "code",
   "execution_count": 26,
   "id": "5731d466-902b-4ad2-8efe-ccfa33d35a87",
   "metadata": {},
   "outputs": [
    {
     "name": "stdout",
     "output_type": "stream",
     "text": [
      "8\n"
     ]
    }
   ],
   "source": [
    "\n",
    "d = 2 ** 3\n",
    "print(d) # for Exponentiation operation"
   ]
  },
  {
   "cell_type": "code",
   "execution_count": 30,
   "id": "548eed7b-75b4-4b6c-9b77-52f089664f34",
   "metadata": {},
   "outputs": [],
   "source": [
    "#Question 4"
   ]
  },
  {
   "cell_type": "code",
   "execution_count": 31,
   "id": "fa35b7fc-76fe-4e64-8c13-f48283185fe6",
   "metadata": {},
   "outputs": [
    {
     "name": "stdout",
     "output_type": "stream",
     "text": [
      "1 <class 'int'>\n",
      "2 <class 'int'>\n",
      "3 <class 'int'>\n",
      "4 <class 'int'>\n",
      "Ayush <class 'str'>\n",
      "1.2 <class 'float'>\n",
      "(5+4j) <class 'complex'>\n",
      "8 <class 'int'>\n",
      "9 <class 'int'>\n",
      "10 <class 'int'>\n"
     ]
    }
   ],
   "source": [
    "l=[1,2,3,4,\"Ayush\",1.2,5+4j,8,9,10]\n",
    "for i in l:\n",
    "    print(i, type(i))"
   ]
  },
  {
   "cell_type": "code",
   "execution_count": 32,
   "id": "0d20b7f5-1198-443d-ab87-e46ead7cb97d",
   "metadata": {},
   "outputs": [],
   "source": [
    "#Question 6"
   ]
  },
  {
   "cell_type": "code",
   "execution_count": 34,
   "id": "b8d61e87-e786-4f07-bcff-dae539302d84",
   "metadata": {},
   "outputs": [
    {
     "name": "stdout",
     "output_type": "stream",
     "text": [
      "1 is not divisible by 3.\n",
      "6 is divisible by 3.\n",
      "9 is divisible by 3.\n",
      "12 is divisible by 3.\n",
      "15 is divisible by 3.\n",
      "20 is not divisible by 3.\n",
      "24 is divisible by 3.\n",
      "27 is divisible by 3.\n",
      "30 is divisible by 3.\n",
      "33 is divisible by 3.\n",
      "36 is divisible by 3.\n",
      "40 is not divisible by 3.\n",
      "45 is divisible by 3.\n",
      "48 is divisible by 3.\n",
      "51 is divisible by 3.\n",
      "55 is not divisible by 3.\n",
      "60 is divisible by 3.\n",
      "63 is divisible by 3.\n",
      "66 is divisible by 3.\n",
      "70 is not divisible by 3.\n",
      "75 is divisible by 3.\n",
      "78 is divisible by 3.\n",
      "81 is divisible by 3.\n",
      "85 is not divisible by 3.\n",
      "90 is divisible by 3.\n"
     ]
    }
   ],
   "source": [
    "l = [1, 6, 9, 12, 15, 20, 24, 27, 30, 33, 36, 40, 45, 48, 51, 55, 60, 63, 66, 70, 75, 78, 81, 85, 90]\n",
    "\n",
    "\n",
    "for i in l:\n",
    "    if i % 3 == 0:\n",
    "        print(f\"{i} is divisible by 3.\")\n",
    "    else:\n",
    "        print(f\"{i} is not divisible by 3.\")"
   ]
  },
  {
   "cell_type": "code",
   "execution_count": 35,
   "id": "db7f2dd6-2a3f-49e3-be9a-542ac2732fe1",
   "metadata": {},
   "outputs": [],
   "source": [
    "#question 8"
   ]
  },
  {
   "cell_type": "code",
   "execution_count": 37,
   "id": "f22a422c-9df8-47f7-8bec-29d4848a46aa",
   "metadata": {},
   "outputs": [
    {
     "name": "stdout",
     "output_type": "stream",
     "text": [
      "[1, 10, 3]\n",
      "[1, 10, 3, 4]\n",
      "[1, 10, 4]\n"
     ]
    }
   ],
   "source": [
    "l = [1, 2, 3]\n",
    "l[1] = 10  \n",
    "print(l)   \n",
    "l.append(4)\n",
    "print(l)   \n",
    "l.remove(3)\n",
    "print(l) "
   ]
  },
  {
   "cell_type": "code",
   "execution_count": null,
   "id": "7dd7b1d8-00e8-43ed-9eaf-4829de9f35aa",
   "metadata": {},
   "outputs": [],
   "source": []
  }
 ],
 "metadata": {
  "kernelspec": {
   "display_name": "Python 3 (ipykernel)",
   "language": "python",
   "name": "python3"
  },
  "language_info": {
   "codemirror_mode": {
    "name": "ipython",
    "version": 3
   },
   "file_extension": ".py",
   "mimetype": "text/x-python",
   "name": "python",
   "nbconvert_exporter": "python",
   "pygments_lexer": "ipython3",
   "version": "3.10.8"
  }
 },
 "nbformat": 4,
 "nbformat_minor": 5
}
