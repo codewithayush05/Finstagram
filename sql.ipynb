{
 "cells": [
  {
   "cell_type": "code",
   "execution_count": 1,
   "id": "b09637ba-e14d-4771-8f0f-d27b620524f9",
   "metadata": {},
   "outputs": [
    {
     "data": {
      "text/plain": [
       "'A database is a structured collection of data that is organized and stored for efficient retrieval and manipulation. Databases can be broadly categorized into two main types: SQL (Structured Query Language) databases and NoSQL (Not Only SQL) databases.\\n\\nSQL databases:\\n\\nSQL databases are based on a structured schema that defines the structure of the data, including tables, columns, data types, and relationships.\\nThey use a tabular format to store data, where each row represents a record, and each column represents a data attribute.\\nExamples of SQL databases include MySQL, PostgreSQL, Oracle, and Microsoft SQL Server.\\nNoSQL databases:\\n\\nNoSQL databases are designed to handle large volumes of unstructured or semi-structured data.\\nThey offer more flexible data models compared to SQL databases and are suitable for scenarios where the data structure is not fixed or well-defined.\\nNoSQL databases come in various types, such as document stores (e.g., MongoDB), key-value stores (e.g., Redis), column-family stores (e.g., Cassandra), and graph databases (e.g., Neo4j).'"
      ]
     },
     "execution_count": 1,
     "metadata": {},
     "output_type": "execute_result"
    }
   ],
   "source": [
    "\"\"\"A database is a structured collection of data that is organized and stored for efficient retrieval and manipulation. Databases can be broadly categorized into two main types: SQL (Structured Query Language) databases and NoSQL (Not Only SQL) databases.\n",
    "\n",
    "SQL databases:\n",
    "\n",
    "SQL databases are based on a structured schema that defines the structure of the data, including tables, columns, data types, and relationships.\n",
    "They use a tabular format to store data, where each row represents a record, and each column represents a data attribute.\n",
    "Examples of SQL databases include MySQL, PostgreSQL, Oracle, and Microsoft SQL Server.\n",
    "NoSQL databases:\n",
    "\n",
    "NoSQL databases are designed to handle large volumes of unstructured or semi-structured data.\n",
    "They offer more flexible data models compared to SQL databases and are suitable for scenarios where the data structure is not fixed or well-defined.\n",
    "NoSQL databases come in various types, such as document stores (e.g., MongoDB), key-value stores (e.g., Redis), column-family stores (e.g., Cassandra), and graph databases (e.g., Neo4j).\"\"\""
   ]
  },
  {
   "cell_type": "code",
   "execution_count": 2,
   "id": "de2daa78-09c7-4749-8129-650f639a2fc7",
   "metadata": {},
   "outputs": [],
   "source": [
    "#question 2"
   ]
  },
  {
   "cell_type": "code",
   "execution_count": 4,
   "id": "8ff361d2-598c-4404-a812-daa3d88f57c7",
   "metadata": {},
   "outputs": [
    {
     "data": {
      "text/plain": [
       "'\\nimport mysql.connector\\nmydb = mysql.connector.connect(\\n  host=\"localhost\",\\n  user=\"abc\",\\n  password=\"password\"\\n)\\nprint(mydb)\\nmycursor = mydb.cursor()\\n\\n#create database \\ndatabase1 = \"CREATE DATABASE if not exists test3\"\\n # create table\\ntable = \"CREATE TABLE if not exists test3.Students( id INT PRIMARY KEY, name VARCHAR(50),age INT)\"\\ndrop = \"DROP DATABASE test1 \"\\nmycursor.execute(drop)\\nmycursor.close()\\nmydb.close()\\n'"
      ]
     },
     "execution_count": 4,
     "metadata": {},
     "output_type": "execute_result"
    }
   ],
   "source": [
    "\"\"\"\n",
    "import mysql.connector\n",
    "mydb = mysql.connector.connect(\n",
    "  host=\"localhost\",\n",
    "  user=\"abc\",\n",
    "  password=\"password\"\n",
    ")\n",
    "print(mydb)\n",
    "mycursor = mydb.cursor()\n",
    "\n",
    "#create database \n",
    "database1 = \"CREATE DATABASE if not exists test3\"\n",
    " # create table\n",
    "table = \"CREATE TABLE if not exists test3.Students( id INT PRIMARY KEY, name VARCHAR(50),age INT)\"\n",
    "drop = \"DROP DATABASE test1 \"\n",
    "mycursor.execute(drop)\n",
    "mycursor.close()\n",
    "mydb.close()\n",
    "\"\"\""
   ]
  },
  {
   "cell_type": "code",
   "execution_count": 5,
   "id": "3439241e-e736-4b20-b6da-1396df1eff32",
   "metadata": {},
   "outputs": [
    {
     "data": {
      "text/plain": [
       "'CREATE: Used to create new database objects like tables, indexes, or views.\\nExample: CREATE TABLE Students (id INT, name VARCHAR(50));\\n\\nDROP: Used to delete database objects like tables, indexes, or views.\\nExample: DROP TABLE Students;\\n\\nALTER: Used to modify the structure of an existing database object, such as adding or deleting columns in a table.\\nExample: ALTER TABLE Students ADD COLUMN age INT;\\n\\nTRUNCATE: Used to remove all data from a table while keeping the table structure intact.\\nExample: TRUNCATE TABLE Students;'"
      ]
     },
     "execution_count": 5,
     "metadata": {},
     "output_type": "execute_result"
    }
   ],
   "source": [
    "\"\"\"CREATE: Used to create new database objects like tables, indexes, or views.\n",
    "Example: CREATE TABLE Students (id INT, name VARCHAR(50));\n",
    "\n",
    "DROP: Used to delete database objects like tables, indexes, or views.\n",
    "Example: DROP TABLE Students;\n",
    "\n",
    "ALTER: Used to modify the structure of an existing database object, such as adding or deleting columns in a table.\n",
    "Example: ALTER TABLE Students ADD COLUMN age INT;\n",
    "\n",
    "TRUNCATE: Used to remove all data from a table while keeping the table structure intact.\n",
    "Example: TRUNCATE TABLE Students;\"\"\""
   ]
  },
  {
   "cell_type": "code",
   "execution_count": 6,
   "id": "c669c9a1-edc6-4f0b-9d0a-e846d5f01d69",
   "metadata": {},
   "outputs": [],
   "source": [
    "#question 4"
   ]
  },
  {
   "cell_type": "code",
   "execution_count": 1,
   "id": "c3aacaae-8645-48c8-a215-5fc797e86104",
   "metadata": {},
   "outputs": [
    {
     "data": {
      "text/plain": [
       "\"DQL stands for Data Query Language. It's used to retrieve data from the database.\\n\\nSELECT: Used to retrieve data from one or more tables based on specified conditions.\\nExample: SELECT * FROM Students WHERE age > 18;\\n\""
      ]
     },
     "execution_count": 1,
     "metadata": {},
     "output_type": "execute_result"
    }
   ],
   "source": [
    "\"\"\"DQL stands for Data Query Language. It's used to retrieve data from the database.\n",
    "\n",
    "SELECT: Used to retrieve data from one or more tables based on specified conditions.\n",
    "Example: SELECT * FROM Students WHERE age > 18;\n",
    "\"\"\""
   ]
  },
  {
   "cell_type": "code",
   "execution_count": 2,
   "id": "e0807f28-fe35-4311-a3c9-ffe6bf7df605",
   "metadata": {},
   "outputs": [],
   "source": [
    "# question5"
   ]
  },
  {
   "cell_type": "code",
   "execution_count": 3,
   "id": "05a49b5c-d06c-4ca7-9a16-ae4c36823a98",
   "metadata": {},
   "outputs": [
    {
     "data": {
      "text/plain": [
       "'Primary Key: A primary key is a column (or set of columns) in a table that uniquely identifies each record in that table. It ensures that each row has a unique identifier, and it\\'s used to enforce data integrity and establish relationships with other tables. For example, in a \"Students\" table, the \"id\" column could be the primary key.\\n\\nForeign Key: A foreign key is a column (or set of columns) in a table that establishes a link between the data in two tables. It creates a relationship by referencing the primary key of another table. For instance, in an \"Orders\" table, there might be a \"customer_id\" column that references the \"id\" column in the \"Customers\" table, creating a relationship between orders and customers.'"
      ]
     },
     "execution_count": 3,
     "metadata": {},
     "output_type": "execute_result"
    }
   ],
   "source": [
    "\"\"\"Primary Key: A primary key is a column (or set of columns) in a table that uniquely identifies each record in that table. It ensures that each row has a unique identifier, and it's used to enforce data integrity and establish relationships with other tables. For example, in a \"Students\" table, the \"id\" column could be the primary key.\n",
    "\n",
    "Foreign Key: A foreign key is a column (or set of columns) in a table that establishes a link between the data in two tables. It creates a relationship by referencing the primary key of another table. For instance, in an \"Orders\" table, there might be a \"customer_id\" column that references the \"id\" column in the \"Customers\" table, creating a relationship between orders and customers.\"\"\""
   ]
  },
  {
   "cell_type": "code",
   "execution_count": 4,
   "id": "caf30e7f-51d3-4efc-9ca5-9774dc8ee77f",
   "metadata": {},
   "outputs": [],
   "source": [
    "# question 6"
   ]
  },
  {
   "cell_type": "code",
   "execution_count": 5,
   "id": "1bc8d043-95e4-44f8-9142-7afc60f9ec99",
   "metadata": {},
   "outputs": [
    {
     "data": {
      "text/plain": [
       "'\\nmport mysql.connector\\nmydb = mysql.connector.connect(\\n  host=\"localhost\",\\n  user=\"abc\",\\n  password=\"password\"\\n)\\nprint(mydb)\\nmycursor = mydb.cursor()\\n\\n#create database \\ndatabase1 = \"CREATE DATABASE if not exists test3\"\\n # create table\\ntable = \"CREATE TABLE if not exists test3.Students( id INT PRIMARY KEY, name VARCHAR(50),age INT)\"\\ndrop = \"TRUNCATE TABLE test3.Students \"\\ninsert = \"INSERT INTO test3.Student values(\\'Ayush\\',787,22)\"\\nupdate =\"UPDATE test3.Student SET age = 21 WHERE nam =\\'Ayush\\'\"\\ndelete=\"DELETE FROM test3.Student WHERE age > 20\"\\nmycursor.execute(delete)\\nmydb.commit()\\nmydb.close()\\n\\n'"
      ]
     },
     "execution_count": 5,
     "metadata": {},
     "output_type": "execute_result"
    }
   ],
   "source": [
    "\"\"\"\n",
    "mport mysql.connector\n",
    "mydb = mysql.connector.connect(\n",
    "  host=\"localhost\",\n",
    "  user=\"abc\",\n",
    "  password=\"password\"\n",
    ")\n",
    "print(mydb)\n",
    "mycursor = mydb.cursor()\n",
    "\n",
    "#create database \n",
    "database1 = \"CREATE DATABASE if not exists test3\"\n",
    " # create table\n",
    "table = \"CREATE TABLE if not exists test3.Students( id INT PRIMARY KEY, name VARCHAR(50),age INT)\"\n",
    "drop = \"TRUNCATE TABLE test3.Students \"\n",
    "insert = \"INSERT INTO test3.Student values('Ayush',787,22)\"\n",
    "update =\"UPDATE test3.Student SET age = 21 WHERE nam ='Ayush'\"\n",
    "delete=\"DELETE FROM test3.Student WHERE age > 20\"\n",
    "mycursor.execute(delete)\n",
    "mydb.commit()\n",
    "mydb.close()\n",
    "\n",
    "\"\"\""
   ]
  },
  {
   "cell_type": "code",
   "execution_count": 6,
   "id": "84d1865e-504b-4a72-a5c6-23e960982995",
   "metadata": {},
   "outputs": [],
   "source": [
    "# question7"
   ]
  },
  {
   "cell_type": "code",
   "execution_count": 7,
   "id": "2a67ab2c-e4e4-4037-8b02-099a3df7cc7f",
   "metadata": {},
   "outputs": [
    {
     "data": {
      "text/plain": [
       "'FROM: Specifies the table(s) from which to retrieve data.\\nJOIN: Combines data from multiple tables based on specified conditions.\\nWHERE: Filters the rows based on specified conditions.\\nGROUP BY: Groups rows that have the same values in specified columns.\\nHAVING: Filters the grouped rows based on conditions.\\nSELECT: Specifies the columns to retrieve.\\nDISTINCT: Removes duplicate rows from the result set.\\nORDER BY: Sorts the result set based on specified columns.\\nLIMIT / OFFSET: Limits the number of rows returned and specifies a starting row for the result set.'"
      ]
     },
     "execution_count": 7,
     "metadata": {},
     "output_type": "execute_result"
    }
   ],
   "source": [
    "\"\"\"FROM: Specifies the table(s) from which to retrieve data.\n",
    "JOIN: Combines data from multiple tables based on specified conditions.\n",
    "WHERE: Filters the rows based on specified conditions.\n",
    "GROUP BY: Groups rows that have the same values in specified columns.\n",
    "HAVING: Filters the grouped rows based on conditions.\n",
    "SELECT: Specifies the columns to retrieve.\n",
    "DISTINCT: Removes duplicate rows from the result set.\n",
    "ORDER BY: Sorts the result set based on specified columns.\n",
    "LIMIT / OFFSET: Limits the number of rows returned and specifies a starting row for the result set.\"\"\""
   ]
  },
  {
   "cell_type": "code",
   "execution_count": null,
   "id": "7638becb-d75d-4a18-8365-6704b4f26f69",
   "metadata": {},
   "outputs": [],
   "source": []
  }
 ],
 "metadata": {
  "kernelspec": {
   "display_name": "Python 3 (ipykernel)",
   "language": "python",
   "name": "python3"
  },
  "language_info": {
   "codemirror_mode": {
    "name": "ipython",
    "version": 3
   },
   "file_extension": ".py",
   "mimetype": "text/x-python",
   "name": "python",
   "nbconvert_exporter": "python",
   "pygments_lexer": "ipython3",
   "version": "3.10.8"
  }
 },
 "nbformat": 4,
 "nbformat_minor": 5
}
