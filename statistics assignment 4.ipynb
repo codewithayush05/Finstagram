{
 "cells": [
  {
   "cell_type": "code",
   "execution_count": 1,
   "id": "06b308de-4905-48f2-9dbc-cec404375176",
   "metadata": {},
   "outputs": [],
   "source": [
    "# question1"
   ]
  },
  {
   "cell_type": "code",
   "execution_count": 2,
   "id": "70a3f26f-eaf9-4802-9aae-d554980d57d6",
   "metadata": {},
   "outputs": [
    {
     "data": {
      "text/plain": [
       "\"A t-test is typically used when you have a small sample size (typically less than 30) and you want to test the means of a sample against a known population mean. For example, you might use a t-test to compare the average test scores of students in a small class to the national average test score.\\n\\nA z-test, on the other hand, is used when you have a larger sample size (usually 30 or more) and you know the population standard deviation. It's suitable for situations where you want to compare a sample mean to a known population mean. For example, you could use a z-test to compare the heights of a sample of adults to the known average height of the entire population.\""
      ]
     },
     "execution_count": 2,
     "metadata": {},
     "output_type": "execute_result"
    }
   ],
   "source": [
    "\"\"\"A t-test is typically used when you have a small sample size (typically less than 30) and you want to test the means of a sample against a known population mean. For example, you might use a t-test to compare the average test scores of students in a small class to the national average test score.\n",
    "\n",
    "A z-test, on the other hand, is used when you have a larger sample size (usually 30 or more) and you know the population standard deviation. It's suitable for situations where you want to compare a sample mean to a known population mean. For example, you could use a z-test to compare the heights of a sample of adults to the known average height of the entire population.\"\"\""
   ]
  },
  {
   "cell_type": "code",
   "execution_count": 3,
   "id": "cd4f3512-0900-4605-b3c5-ed511e6906e0",
   "metadata": {},
   "outputs": [],
   "source": [
    "# question2"
   ]
  },
  {
   "cell_type": "code",
   "execution_count": 4,
   "id": "f98b09cf-f45a-447f-aa66-4eea18374163",
   "metadata": {},
   "outputs": [
    {
     "data": {
      "text/plain": [
       "'A one-tailed test is used when you are only interested in a deviation from the null hypothesis in one direction. For example, testing if a new drug is better than an existing drug, without considering the possibility that it might be worse.\\n\\nA two-tailed test is used when you are interested in deviations from the null hypothesis in both directions. For example, testing if a new drug has a different effect, either better or worse, than an existing drug.\\n\\n'"
      ]
     },
     "execution_count": 4,
     "metadata": {},
     "output_type": "execute_result"
    }
   ],
   "source": [
    "\"\"\"A one-tailed test is used when you are only interested in a deviation from the null hypothesis in one direction. For example, testing if a new drug is better than an existing drug, without considering the possibility that it might be worse.\n",
    "\n",
    "A two-tailed test is used when you are interested in deviations from the null hypothesis in both directions. For example, testing if a new drug has a different effect, either better or worse, than an existing drug.\n",
    "\n",
    "\"\"\""
   ]
  },
  {
   "cell_type": "code",
   "execution_count": 5,
   "id": "3ae23dbd-7c3a-4106-877f-8b2856285460",
   "metadata": {},
   "outputs": [],
   "source": [
    "# question3"
   ]
  },
  {
   "cell_type": "code",
   "execution_count": 6,
   "id": "f7fa361a-53f2-4dfa-95a7-f0a44e8ef036",
   "metadata": {},
   "outputs": [
    {
     "data": {
      "text/plain": [
       "\"Type 1 error (False Positive): This occurs when you incorrectly reject a null hypothesis that is actually true. It represents a situation where you think you've found a significant effect when there isn't one. For example, in medical testing, mistakenly diagnosing a healthy person as having a disease.\\n\\nType 2 error (False Negative): This happens when you fail to reject a null hypothesis that is actually false. It means you miss a real effect. For example, in medical testing, failing to diagnose a diseased person as having the disease.\""
      ]
     },
     "execution_count": 6,
     "metadata": {},
     "output_type": "execute_result"
    }
   ],
   "source": [
    "\"\"\"Type 1 error (False Positive): This occurs when you incorrectly reject a null hypothesis that is actually true. It represents a situation where you think you've found a significant effect when there isn't one. For example, in medical testing, mistakenly diagnosing a healthy person as having a disease.\n",
    "\n",
    "Type 2 error (False Negative): This happens when you fail to reject a null hypothesis that is actually false. It means you miss a real effect. For example, in medical testing, failing to diagnose a diseased person as having the disease.\"\"\""
   ]
  },
  {
   "cell_type": "code",
   "execution_count": 7,
   "id": "23ccfaaf-e677-4821-b73f-b34511d437cb",
   "metadata": {},
   "outputs": [],
   "source": [
    "# question4"
   ]
  },
  {
   "cell_type": "code",
   "execution_count": 8,
   "id": "f609fabf-8696-4224-a033-58c28f755c9e",
   "metadata": {},
   "outputs": [
    {
     "data": {
      "text/plain": [
       "\"Bayes's theorem is a mathematical formula that calculates the probability of an event based on prior knowledge of conditions that might be related to the event. It is often used in statistics and probability theory.\\n\\nThe formula for Bayes's theorem is: P(A|B) = [P(B|A) * P(A)] / P(B)\\n\\nWhere:\\n\\nP(A|B) is the probability of event A given that event B has occurred.\\nP(B|A) is the probability of event B given that event A has occurred.\\nP(A) is the prior probability of event A.\\nP(B) is the prior probability of event B.\""
      ]
     },
     "execution_count": 8,
     "metadata": {},
     "output_type": "execute_result"
    }
   ],
   "source": [
    "\"\"\"Bayes's theorem is a mathematical formula that calculates the probability of an event based on prior knowledge of conditions that might be related to the event. It is often used in statistics and probability theory.\n",
    "\n",
    "The formula for Bayes's theorem is: P(A|B) = [P(B|A) * P(A)] / P(B)\n",
    "\n",
    "Where:\n",
    "\n",
    "P(A|B) is the probability of event A given that event B has occurred.\n",
    "P(B|A) is the probability of event B given that event A has occurred.\n",
    "P(A) is the prior probability of event A.\n",
    "P(B) is the prior probability of event B.\"\"\""
   ]
  },
  {
   "cell_type": "code",
   "execution_count": 9,
   "id": "63b2fab0-cfe6-42c8-817b-49329e1dd43d",
   "metadata": {},
   "outputs": [],
   "source": [
    "# question5"
   ]
  },
  {
   "cell_type": "code",
   "execution_count": 10,
   "id": "4c7e4e27-523b-4c7d-9854-705f0e7d3a31",
   "metadata": {},
   "outputs": [
    {
     "data": {
      "text/plain": [
       "'\" A confidence interval is a range of values within which we are reasonably confident that the true population parameter (e.g., mean or proportion) lies. It provides a measure of the uncertainty associated with estimating a population parameter from a sample.\\n\\nTo calculate a confidence interval:\\n\\nChoose a confidence level (e.g., 95% confidence).\\nCalculate the sample mean (x̄) and sample standard deviation (s).\\nDetermine the critical value (z or t) based on the confidence level and sample size.\\nUse the formula: Confidence Interval = x̄ ± (critical value * standard error)'"
      ]
     },
     "execution_count": 10,
     "metadata": {},
     "output_type": "execute_result"
    }
   ],
   "source": [
    "\"\"\"\" A confidence interval is a range of values within which we are reasonably confident that the true population parameter (e.g., mean or proportion) lies. It provides a measure of the uncertainty associated with estimating a population parameter from a sample.\n",
    "\n",
    "To calculate a confidence interval:\n",
    "\n",
    "Choose a confidence level (e.g., 95% confidence).\n",
    "Calculate the sample mean (x̄) and sample standard deviation (s).\n",
    "Determine the critical value (z or t) based on the confidence level and sample size.\n",
    "Use the formula: Confidence Interval = x̄ ± (critical value * standard error)\"\"\""
   ]
  },
  {
   "cell_type": "code",
   "execution_count": 11,
   "id": "6fd2d42e-50d5-4a66-94d3-b4f574e0b131",
   "metadata": {},
   "outputs": [],
   "source": [
    "# question6"
   ]
  },
  {
   "cell_type": "code",
   "execution_count": 14,
   "id": "6b6a0cbd-301e-4f6e-a190-ca53e2e5a5c7",
   "metadata": {},
   "outputs": [
    {
     "data": {
      "text/plain": [
       "\"Bayes's Theorem is used to update the probability of an event based on new evidence. The formula is:\\n\\nP(A|B) = [P(B|A) * P(A)] / P(B)\\n\\nExample: Suppose you want to calculate the probability of a patient having a disease (A) given a positive test result (B).\\n\\nP(A) is the prior probability of the patient having the disease before the test.\\nP(B|A) is the probability of a positive test result given that the patient has the disease.\\nP(B) is the overall probability of a positive test result.\\nLet's say P(A) is 0.1 (10% chance of having the disease), P(B|A) is 0.9 (90% chance of a positive test if the patient has the disease), and P(B) is 0.15 (15% chance of a positive test result overall). You can use Bayes's Theorem to calculate P(A|B).\\n\\nP(A|B) = (0.9 * 0.1) / 0.15 = 0.6\\n\\nSo, given the positive test result, there is a 60% chance that the patient actually has the disease.?\""
      ]
     },
     "execution_count": 14,
     "metadata": {},
     "output_type": "execute_result"
    }
   ],
   "source": [
    "\"\"\"Bayes's Theorem is used to update the probability of an event based on new evidence. The formula is:\n",
    "\n",
    "P(A|B) = [P(B|A) * P(A)] / P(B)\n",
    "\n",
    "Example: Suppose you want to calculate the probability of a patient having a disease (A) given a positive test result (B).\n",
    "\n",
    "P(A) is the prior probability of the patient having the disease before the test.\n",
    "P(B|A) is the probability of a positive test result given that the patient has the disease.\n",
    "P(B) is the overall probability of a positive test result.\n",
    "Let's say P(A) is 0.1 (10% chance of having the disease), P(B|A) is 0.9 (90% chance of a positive test if the patient has the disease), and P(B) is 0.15 (15% chance of a positive test result overall). You can use Bayes's Theorem to calculate P(A|B).\n",
    "\n",
    "P(A|B) = (0.9 * 0.1) / 0.15 = 0.6\n",
    "\n",
    "So, given the positive test result, there is a 60% chance that the patient actually has the disease.?\"\"\""
   ]
  },
  {
   "cell_type": "code",
   "execution_count": 13,
   "id": "aa0f4e27-b1b2-4db0-9f37-2562dbc53b64",
   "metadata": {},
   "outputs": [],
   "source": [
    "# question7"
   ]
  },
  {
   "cell_type": "code",
   "execution_count": 15,
   "id": "f75e2834-c54e-4500-a6b0-87178e169f2f",
   "metadata": {},
   "outputs": [
    {
     "data": {
      "text/plain": [
       "'Determine the critical value for a 95% confidence interval. For a normal distribution, this is approximately 1.96.\\n\\nCalculate the standard error (SE) using the formula: SE = standard deviation / √(sample size)\\nSE = 5 / √(n)\\n\\nCalculate the margin of error (ME) using the critical value and standard error: ME = critical value * SE\\nME = 1.96 * (5 / √n)\\n\\nCalculate the confidence interval: Confidence Interval = Mean ± Margin of Error\\nConfidence Interval = 50 ± (1.96 * (5 / √n))\\n\\nInterpretation: The 95% confidence interval for the population mean lies between 50 - (1.96 * (5 / √n)) and 50 + (1.96 * (5 / √n)).'"
      ]
     },
     "execution_count": 15,
     "metadata": {},
     "output_type": "execute_result"
    }
   ],
   "source": [
    "\"\"\"Determine the critical value for a 95% confidence interval. For a normal distribution, this is approximately 1.96.\n",
    "\n",
    "Calculate the standard error (SE) using the formula: SE = standard deviation / √(sample size)\n",
    "SE = 5 / √(n)\n",
    "\n",
    "Calculate the margin of error (ME) using the critical value and standard error: ME = critical value * SE\n",
    "ME = 1.96 * (5 / √n)\n",
    "\n",
    "Calculate the confidence interval: Confidence Interval = Mean ± Margin of Error\n",
    "Confidence Interval = 50 ± (1.96 * (5 / √n))\n",
    "\n",
    "Interpretation: The 95% confidence interval for the population mean lies between 50 - (1.96 * (5 / √n)) and 50 + (1.96 * (5 / √n)).\"\"\""
   ]
  },
  {
   "cell_type": "code",
   "execution_count": 16,
   "id": "4ac4a1b2-c004-4b63-a4e8-8873df96f469",
   "metadata": {},
   "outputs": [],
   "source": [
    "# question8"
   ]
  },
  {
   "cell_type": "code",
   "execution_count": 17,
   "id": "d64ab479-5419-43af-9456-f7025d870eb2",
   "metadata": {},
   "outputs": [
    {
     "data": {
      "text/plain": [
       "'The margin of error (MOE) in a confidence interval represents the range within which the true population parameter is likely to fall. It is influenced by the confidence level and sample size.\\n\\nAs the confidence level increases (e.g., from 90% to 95% to 99%), the margin of error increases because you need to include a wider range of values.\\nAs the sample size increases, the margin of error decreases because larger samples provide more precise estimates of the population parameter.\\nFor example, if you are conducting a political poll with a 95% confidence level and you want a smaller margin of error, you would need to survey a larger sample of people.'"
      ]
     },
     "execution_count": 17,
     "metadata": {},
     "output_type": "execute_result"
    }
   ],
   "source": [
    "\"\"\"The margin of error (MOE) in a confidence interval represents the range within which the true population parameter is likely to fall. It is influenced by the confidence level and sample size.\n",
    "\n",
    "As the confidence level increases (e.g., from 90% to 95% to 99%), the margin of error increases because you need to include a wider range of values.\n",
    "As the sample size increases, the margin of error decreases because larger samples provide more precise estimates of the population parameter.\n",
    "For example, if you are conducting a political poll with a 95% confidence level and you want a smaller margin of error, you would need to survey a larger sample of people.\"\"\""
   ]
  },
  {
   "cell_type": "code",
   "execution_count": 18,
   "id": "4551cbc5-d9f9-48e1-b459-d4c0f05a3d17",
   "metadata": {},
   "outputs": [],
   "source": [
    "# question9"
   ]
  },
  {
   "cell_type": "code",
   "execution_count": 19,
   "id": "9e856be5-9423-4702-b587-f6b2b266f502",
   "metadata": {},
   "outputs": [
    {
     "data": {
      "text/plain": [
       "'Z = (X - μ) / σ\\n\\nWhere:\\n\\nX is the data point (75 in this case).\\nμ (mu) is the population mean (70).\\nσ (sigma) is the population standard deviation (5).\\nZ = (75 - 70) / 5 = 1\\n\\nInterpretation: A z-score of 1 means that the data point (75) is 1 standard deviation above the population mean (70).'"
      ]
     },
     "execution_count": 19,
     "metadata": {},
     "output_type": "execute_result"
    }
   ],
   "source": [
    "\"\"\"Z = (X - μ) / σ\n",
    "\n",
    "Where:\n",
    "\n",
    "X is the data point (75 in this case).\n",
    "μ (mu) is the population mean (70).\n",
    "σ (sigma) is the population standard deviation (5).\n",
    "Z = (75 - 70) / 5 = 1\n",
    "\n",
    "Interpretation: A z-score of 1 means that the data point (75) is 1 standard deviation above the population mean (70).\"\"\""
   ]
  },
  {
   "cell_type": "code",
   "execution_count": 20,
   "id": "1d0cb73d-756f-4378-afaf-ddd262840e2e",
   "metadata": {},
   "outputs": [],
   "source": [
    "# question10"
   ]
  },
  {
   "cell_type": "code",
   "execution_count": 22,
   "id": "0124a88f-bb99-4c57-8660-ccc9960892d2",
   "metadata": {},
   "outputs": [
    {
     "data": {
      "text/plain": [
       "'we reject the null hypothesis'"
      ]
     },
     "execution_count": 22,
     "metadata": {},
     "output_type": "execute_result"
    }
   ],
   "source": [
    "\"\"\"Null Hypothesis (H0): The new weight loss drug is not significantly effective (μ = 0).\n",
    "Alternative Hypothesis (Ha): The new weight loss drug is significantly effective (μ ≠ 0).\n",
    "\n",
    "Given:\n",
    "\n",
    "Sample size (n) = 50\n",
    "Sample mean (x̄) = 6\n",
    "Sample standard deviation (s) = 2.5\n",
    "Significance level (α) = 0.05\n",
    "Calculate the t-statistic:\n",
    "t = (x̄ - μ) / (s / √n)\n",
    "t = (6 - 0) / (2.5 / √50)\n",
    "t ≈ 8.49 (rounded to two decimal places)\n",
    "\n",
    "Determine the degrees of freedom (df) for the t-distribution, which is (n - 1):\n",
    "df = 50 - 1 = 49\n",
    "\n",
    "Find the critical t-value for a two-tailed test at α/2 = 0.025 significance level and df = 49 using a t-table or calculator.\n",
    "\n",
    "Compare the calculated t-statistic to the critical t-value. If the calculated t-statistic is greater than the critical t-value or less than its negative counterpart, you reject the null hypothesis.\n",
    "\n",
    "If the calculated t-statistic falls in the rejection region, you would conclude that the new weight loss drug is significantly effective at a 95% confidence level.\n",
    "\n",
    "\"\"\"\n",
    "\n",
    "\"\"\"we reject the null hypothesis\"\"\""
   ]
  },
  {
   "cell_type": "code",
   "execution_count": 23,
   "id": "40351274-c885-4917-a3da-5914caf63e2a",
   "metadata": {},
   "outputs": [],
   "source": [
    "# question11"
   ]
  },
  {
   "cell_type": "code",
   "execution_count": 24,
   "id": "4eda4981-0e7e-4ced-a928-4fc12f6b2421",
   "metadata": {},
   "outputs": [
    {
     "data": {
      "text/plain": [
       "\"To calculate the 95% confidence interval for the true proportion of people satisfied with their job, you can use the formula for a confidence interval for proportions:\\n\\nConfidence Interval = p̂ ± Z * √(p̂(1 - p̂) / n)\\n\\nWhere:\\n\\np̂ is the sample proportion (0.65 in this case, as it's 65% expressed as a decimal).\\nZ is the critical value for a 95% confidence level (for a standard normal distribution, it's approximately 1.96).\\nn is the sample size (500).\\nConfidence Interval = 0.65 ± 1.96 * √((0.65 * 0.35) / 500)\\n\\nNow, calculate the confidence interval:\\n\\nConfidence Interval ≈ 0.65 ± 0.0424\\n\\nInterpretation: The 95% confidence interval for the true proportion of people satisfied with their job is approximately 60.56% to 69.44%.\""
      ]
     },
     "execution_count": 24,
     "metadata": {},
     "output_type": "execute_result"
    }
   ],
   "source": [
    "\"\"\"To calculate the 95% confidence interval for the true proportion of people satisfied with their job, you can use the formula for a confidence interval for proportions:\n",
    "\n",
    "Confidence Interval = p̂ ± Z * √(p̂(1 - p̂) / n)\n",
    "\n",
    "Where:\n",
    "\n",
    "p̂ is the sample proportion (0.65 in this case, as it's 65% expressed as a decimal).\n",
    "Z is the critical value for a 95% confidence level (for a standard normal distribution, it's approximately 1.96).\n",
    "n is the sample size (500).\n",
    "Confidence Interval = 0.65 ± 1.96 * √((0.65 * 0.35) / 500)\n",
    "\n",
    "Now, calculate the confidence interval:\n",
    "\n",
    "Confidence Interval ≈ 0.65 ± 0.0424\n",
    "\n",
    "Interpretation: The 95% confidence interval for the true proportion of people satisfied with their job is approximately 60.56% to 69.44%.\"\"\""
   ]
  },
  {
   "cell_type": "code",
   "execution_count": 25,
   "id": "72006698-9c94-40ca-bc06-b28e40e50b90",
   "metadata": {},
   "outputs": [],
   "source": [
    "# question12"
   ]
  },
  {
   "cell_type": "code",
   "execution_count": 29,
   "id": "0653d982-824e-483c-8c04-d0f41eea9479",
   "metadata": {},
   "outputs": [
    {
     "data": {
      "text/plain": [
       "'\"To calculate the 90% confidence interval for the true population mean with a sample mean of 65 and a standard deviation of 8, you can use the formula:\\n\\nConfidence Interval = x̄ ± Z * (σ / √n)\\n\\nWhere:\\n\\nx̄ is the sample mean (65).\\nZ is the critical value for a 90% confidence level (for a standard normal distribution, it\\'s approximately 1.645).\\nσ is the population standard deviation (8).\\nn is the sample size (50).\\nConfidence Interval = 65 ± 1.645 * (8 / √50)\\n\\nNow, calculate the confidence interval:\\n\\nConfidence Interval ≈ 65 ± 2.32\\n\\nInterpretation: The 90% confidence interval for the true population mean is approximately 62.68 to 67.32.'"
      ]
     },
     "execution_count": 29,
     "metadata": {},
     "output_type": "execute_result"
    }
   ],
   "source": [
    "\"\"\"\"To calculate the 90% confidence interval for the true population mean with a sample mean of 65 and a standard deviation of 8, you can use the formula:\n",
    "\n",
    "Confidence Interval = x̄ ± Z * (σ / √n)\n",
    "\n",
    "Where:\n",
    "\n",
    "x̄ is the sample mean (65).\n",
    "Z is the critical value for a 90% confidence level (for a standard normal distribution, it's approximately 1.645).\n",
    "σ is the population standard deviation (8).\n",
    "n is the sample size (50).\n",
    "Confidence Interval = 65 ± 1.645 * (8 / √50)\n",
    "\n",
    "Now, calculate the confidence interval:\n",
    "\n",
    "Confidence Interval ≈ 65 ± 2.32\n",
    "\n",
    "Interpretation: The 90% confidence interval for the true population mean is approximately 62.68 to 67.32.\"\"\""
   ]
  },
  {
   "cell_type": "code",
   "execution_count": 30,
   "id": "fa1d83fd-32f1-443d-96f7-334ac0f30ba8",
   "metadata": {},
   "outputs": [],
   "source": [
    "# question14"
   ]
  },
  {
   "cell_type": "code",
   "execution_count": 31,
   "id": "4af453ef-89ed-47ca-9a53-e777038eab7c",
   "metadata": {},
   "outputs": [
    {
     "data": {
      "text/plain": [
       "'Null Hypothesis (H0): Caffeine does not have a significant effect on reaction time (μ = 0).\\nAlternative Hypothesis (Ha): Caffeine has a significant effect on reaction time (μ ≠ 0).\\n\\nGiven:\\n\\nSample size (n) = 30\\nSample mean (x̄) = 0.25 seconds\\nSample standard deviation (s) = 0.05 seconds\\nSignificance level (α) = 0.10 (for a 90% confidence level)\\nCalculate the t-statistic:\\nt = (x̄ - μ) / (s / √n)\\nt = (0.25 - 0) / (0.05 / √30)\\nCalculate the value of t.\\n\\nDetermine the degrees of freedom (df) for the t-distribution, which is (n - 1):\\ndf = 30 - 1 = 29\\n\\nFind the critical t-value for a two-tailed test at α/2 = 0.05 significance level and df = 29 using a t-table or calculator.\\n\\nCompare the calculated t-statistic to the critical t-value. If the calculated t-statistic falls in the rejection region, you reject the null hypothesis.\\n\\nIf the null hypothesis is rejected, you would conclude that caffeine has a significant effect on reaction time at a 90% confidence level.\\n\\n\\n\\n\\n\\n'"
      ]
     },
     "execution_count": 31,
     "metadata": {},
     "output_type": "execute_result"
    }
   ],
   "source": [
    "\"\"\"Null Hypothesis (H0): Caffeine does not have a significant effect on reaction time (μ = 0).\n",
    "Alternative Hypothesis (Ha): Caffeine has a significant effect on reaction time (μ ≠ 0).\n",
    "\n",
    "Given:\n",
    "\n",
    "Sample size (n) = 30\n",
    "Sample mean (x̄) = 0.25 seconds\n",
    "Sample standard deviation (s) = 0.05 seconds\n",
    "Significance level (α) = 0.10 (for a 90% confidence level)\n",
    "Calculate the t-statistic:\n",
    "t = (x̄ - μ) / (s / √n)\n",
    "t = (0.25 - 0) / (0.05 / √30)\n",
    "Calculate the value of t.\n",
    "\n",
    "Determine the degrees of freedom (df) for the t-distribution, which is (n - 1):\n",
    "df = 30 - 1 = 29\n",
    "\n",
    "Find the critical t-value for a two-tailed test at α/2 = 0.05 significance level and df = 29 using a t-table or calculator.\n",
    "\n",
    "Compare the calculated t-statistic to the critical t-value. If the calculated t-statistic falls in the rejection region, you reject the null hypothesis.\n",
    "\n",
    "If the null hypothesis is rejected, you would conclude that caffeine has a significant effect on reaction time at a 90% confidence level.\n",
    "\n",
    "\n",
    "\n",
    "\n",
    "\n",
    "\"\"\""
   ]
  },
  {
   "cell_type": "code",
   "execution_count": null,
   "id": "a8009d77-d120-4b5d-9b02-39b61e3fbfe7",
   "metadata": {},
   "outputs": [],
   "source": []
  }
 ],
 "metadata": {
  "kernelspec": {
   "display_name": "Python 3 (ipykernel)",
   "language": "python",
   "name": "python3"
  },
  "language_info": {
   "codemirror_mode": {
    "name": "ipython",
    "version": 3
   },
   "file_extension": ".py",
   "mimetype": "text/x-python",
   "name": "python",
   "nbconvert_exporter": "python",
   "pygments_lexer": "ipython3",
   "version": "3.10.8"
  }
 },
 "nbformat": 4,
 "nbformat_minor": 5
}
